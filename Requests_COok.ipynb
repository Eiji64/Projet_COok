{
 "cells": [
  {
   "attachments": {},
   "cell_type": "markdown",
   "metadata": {},
   "source": [
    "# Empreinte CO2 d'une recette"
   ]
  },
  {
   "attachments": {},
   "cell_type": "markdown",
   "metadata": {},
   "source": [
    "## Import des bibliothèques"
   ]
  },
  {
   "cell_type": "code",
   "execution_count": 41,
   "metadata": {},
   "outputs": [],
   "source": [
    "import requests\n",
    "import pandas as pd\n",
    "import json\n",
    "\n",
    "ENDPOINT = \"http://162.19.108.77:8000\""
   ]
  },
  {
   "attachments": {},
   "cell_type": "markdown",
   "metadata": {},
   "source": [
    "## Creation de la requête pour accéder à une liste de recette"
   ]
  },
  {
   "cell_type": "code",
   "execution_count": 30,
   "metadata": {},
   "outputs": [],
   "source": [
    "url = f'{ENDPOINT}/recipe_urls'\n",
    "body = {\"name\": \"pates carbonara\"}\n",
    "r = requests.post(url, json=body)"
   ]
  },
  {
   "cell_type": "code",
   "execution_count": 31,
   "metadata": {},
   "outputs": [
    {
     "data": {
      "text/plain": [
       "200"
      ]
     },
     "execution_count": 31,
     "metadata": {},
     "output_type": "execute_result"
    }
   ],
   "source": [
    "r.status_code"
   ]
  },
  {
   "cell_type": "code",
   "execution_count": 32,
   "metadata": {},
   "outputs": [
    {
     "data": {
      "text/plain": [
       "b'[\"https://www.marmiton.org/recettes/recette_pates-a-la-carbonara_80453.aspx\",\"https://www.marmiton.org/recettes/recette_pates-carbonara_21229.aspx\",\"https://www.marmiton.org/recettes/recette_pates-carbonara-la-vraie-recette-italienne_17213.aspx\",\"https://www.marmiton.org/recettes/recette_pates-a-la-carbonara-et-aux-legumes-du-soleil_58989.aspx\",\"https://www.marmiton.org/recettes/recette_pates-a-la-carbonara-facon-indienne_63815.aspx\",\"https://www.marmiton.org/recettes/recette_pates-papillon-courgette_535270.aspx\",\"https://www.marmiton.org/recettes/recette_pates-carbonara-all-italiana_312820.aspx\",\"https://www.marmiton.org/recettes/recette_gratin-de-pates-facon-carbonara_168112.aspx\",\"https://www.marmiton.org/recettes/recette_pates-carbonara-aux-poireaux_334939.aspx\",\"https://www.marmiton.org/recettes/recette_pates-carbonara-feuilletees_344120.aspx\",\"https://www.marmiton.org/recettes/recette_pates-carbonara-a-la-flo-sans-oeuf_58895.aspx\",\"https://www.marmiton.org/recettes/recette_pates-coquillettes-au-jambon-facon-risotto_535262.aspx\",\"https://www.marmiton.org/recettes/recette_pates-carbonara-revisitees-epices-et-tomate_169391.aspx\",\"https://www.marmiton.org/recettes/recette_pates-carbonara-lardons-et-saumon_87553.aspx\"]'"
      ]
     },
     "execution_count": 32,
     "metadata": {},
     "output_type": "execute_result"
    }
   ],
   "source": [
    "r.content"
   ]
  },
  {
   "cell_type": "code",
   "execution_count": 33,
   "metadata": {},
   "outputs": [
    {
     "data": {
      "text/plain": [
       "['https://www.marmiton.org/recettes/recette_pates-a-la-carbonara_80453.aspx',\n",
       " 'https://www.marmiton.org/recettes/recette_pates-carbonara_21229.aspx',\n",
       " 'https://www.marmiton.org/recettes/recette_pates-carbonara-la-vraie-recette-italienne_17213.aspx',\n",
       " 'https://www.marmiton.org/recettes/recette_pates-a-la-carbonara-et-aux-legumes-du-soleil_58989.aspx',\n",
       " 'https://www.marmiton.org/recettes/recette_pates-a-la-carbonara-facon-indienne_63815.aspx',\n",
       " 'https://www.marmiton.org/recettes/recette_pates-papillon-courgette_535270.aspx',\n",
       " 'https://www.marmiton.org/recettes/recette_pates-carbonara-all-italiana_312820.aspx',\n",
       " 'https://www.marmiton.org/recettes/recette_gratin-de-pates-facon-carbonara_168112.aspx',\n",
       " 'https://www.marmiton.org/recettes/recette_pates-carbonara-aux-poireaux_334939.aspx',\n",
       " 'https://www.marmiton.org/recettes/recette_pates-carbonara-feuilletees_344120.aspx',\n",
       " 'https://www.marmiton.org/recettes/recette_pates-carbonara-a-la-flo-sans-oeuf_58895.aspx',\n",
       " 'https://www.marmiton.org/recettes/recette_pates-coquillettes-au-jambon-facon-risotto_535262.aspx',\n",
       " 'https://www.marmiton.org/recettes/recette_pates-carbonara-revisitees-epices-et-tomate_169391.aspx',\n",
       " 'https://www.marmiton.org/recettes/recette_pates-carbonara-lardons-et-saumon_87553.aspx']"
      ]
     },
     "execution_count": 33,
     "metadata": {},
     "output_type": "execute_result"
    }
   ],
   "source": [
    "data = r.json()\n",
    "data"
   ]
  },
  {
   "cell_type": "code",
   "execution_count": 51,
   "metadata": {},
   "outputs": [
    {
     "data": {
      "text/plain": [
       "'https://www.marmiton.org/recettes/recette_pates-carbonara-la-vraie-recette-italienne_17213.aspx'"
      ]
     },
     "execution_count": 51,
     "metadata": {},
     "output_type": "execute_result"
    }
   ],
   "source": [
    "data[2]"
   ]
  },
  {
   "attachments": {},
   "cell_type": "markdown",
   "metadata": {},
   "source": [
    "## Requete pour acceder à la liste d'ingrédients"
   ]
  },
  {
   "cell_type": "code",
   "execution_count": 57,
   "metadata": {},
   "outputs": [],
   "source": [
    "url = f'{ENDPOINT}/ingredients_marmiton/'\n",
    "body2 = {\"url\": data[2]}\n",
    "r2= requests.post(url, json=body2)"
   ]
  },
  {
   "cell_type": "code",
   "execution_count": 58,
   "metadata": {},
   "outputs": [
    {
     "data": {
      "text/plain": [
       "200"
      ]
     },
     "execution_count": 58,
     "metadata": {},
     "output_type": "execute_result"
    }
   ],
   "source": [
    "r2.status_code"
   ]
  },
  {
   "cell_type": "code",
   "execution_count": 59,
   "metadata": {},
   "outputs": [
    {
     "data": {
      "text/plain": [
       "b'[\"250\\xc2\\xa0g de lardons \",\" poivre \",\" sel \",\"500\\xc2\\xa0g de spaghetti \",\"6 oeufs \",\" Parmesan \"]'"
      ]
     },
     "execution_count": 59,
     "metadata": {},
     "output_type": "execute_result"
    }
   ],
   "source": [
    "\n",
    "r2.content"
   ]
  },
  {
   "cell_type": "code",
   "execution_count": 60,
   "metadata": {},
   "outputs": [
    {
     "data": {
      "text/plain": [
       "['250\\xa0g de lardons ',\n",
       " ' poivre ',\n",
       " ' sel ',\n",
       " '500\\xa0g de spaghetti ',\n",
       " '6 oeufs ',\n",
       " ' Parmesan ']"
      ]
     },
     "execution_count": 60,
     "metadata": {},
     "output_type": "execute_result"
    }
   ],
   "source": [
    "data2 = r2.json()\n",
    "data2"
   ]
  },
  {
   "attachments": {},
   "cell_type": "markdown",
   "metadata": {},
   "source": [
    "## Obtention du code AGB"
   ]
  },
  {
   "attachments": {},
   "cell_type": "markdown",
   "metadata": {},
   "source": [
    "J'ouvre mon fichier credentials.json"
   ]
  },
  {
   "cell_type": "code",
   "execution_count": 42,
   "metadata": {},
   "outputs": [],
   "source": [
    "with open(\"credentials.json\") as f:\n",
    "    credentials = json.load(f)\n",
    "    token = credentials[\"token\"]"
   ]
  },
  {
   "attachments": {},
   "cell_type": "markdown",
   "metadata": {},
   "source": [
    "Je vérifie mon quota de jetons"
   ]
  },
  {
   "cell_type": "code",
   "execution_count": 61,
   "metadata": {},
   "outputs": [
    {
     "data": {
      "text/plain": [
       "'Quota used: 1/3'"
      ]
     },
     "execution_count": 61,
     "metadata": {},
     "output_type": "execute_result"
    }
   ],
   "source": [
    "url = ENDPOINT +\"/quota/\"\n",
    "headers = {\"Authorization\" : f\"Token {token}\"}\n",
    "\n",
    "r = requests.get(url, headers = headers)\n",
    "r.status_code\n",
    "r.json()"
   ]
  },
  {
   "attachments": {},
   "cell_type": "markdown",
   "metadata": {},
   "source": [
    "J'effectue ma requete pour obtenir les code AGB de ma recette"
   ]
  },
  {
   "cell_type": "code",
   "execution_count": 62,
   "metadata": {},
   "outputs": [
    {
     "data": {
      "text/plain": [
       "200"
      ]
     },
     "execution_count": 62,
     "metadata": {},
     "output_type": "execute_result"
    }
   ],
   "source": [
    "url = f'{ENDPOINT}/ingredients_recipe/'\n",
    "code_AGB = {\"ingredients\": data2}\n",
    "# ou --> code_AGB = {\"name\": \"pates carbonara\", \"url\":data}\n",
    "headers = {\"Authorization\" : f\"Token {token}\"}\n",
    "\n",
    "r3 = requests.post(url, json=code_AGB, headers = headers)\n",
    "r3.status_code"
   ]
  },
  {
   "cell_type": "code",
   "execution_count": null,
   "metadata": {},
   "outputs": [],
   "source": []
  },
  {
   "cell_type": "code",
   "execution_count": 63,
   "metadata": {},
   "outputs": [
    {
     "data": {
      "text/plain": [
       "'[{\"ingredient\":\"lardons\",\"Code\\\\nAGB\":\"28720\",\"mass\":250},{\"ingredient\":\"poivre\",\"Code\\\\nAGB\":\"11015\",\"mass\":0},{\"ingredient\":\"sel\",\"Code\\\\nAGB\":\"11017\",\"mass\":0},{\"ingredient\":\"spaghetti\",\"Code\\\\nAGB\":\"9610\",\"mass\":500},{\"ingredient\":\"oeufs\",\"Code\\\\nAGB\":\"22000\",\"mass\":0},{\"ingredient\":\"Parmesan\",\"Code\\\\nAGB\":\"12120\",\"mass\":0}]'"
      ]
     },
     "execution_count": 63,
     "metadata": {},
     "output_type": "execute_result"
    }
   ],
   "source": [
    "r3.json()"
   ]
  },
  {
   "attachments": {},
   "cell_type": "markdown",
   "metadata": {},
   "source": [
    "J'importe ma liste d'ingredients dans un dataframe et je le suvegarde dans un fichier csv"
   ]
  },
  {
   "cell_type": "code",
   "execution_count": 64,
   "metadata": {},
   "outputs": [
    {
     "data": {
      "text/html": [
       "<div>\n",
       "<style scoped>\n",
       "    .dataframe tbody tr th:only-of-type {\n",
       "        vertical-align: middle;\n",
       "    }\n",
       "\n",
       "    .dataframe tbody tr th {\n",
       "        vertical-align: top;\n",
       "    }\n",
       "\n",
       "    .dataframe thead th {\n",
       "        text-align: right;\n",
       "    }\n",
       "</style>\n",
       "<table border=\"1\" class=\"dataframe\">\n",
       "  <thead>\n",
       "    <tr style=\"text-align: right;\">\n",
       "      <th></th>\n",
       "      <th>ingredient</th>\n",
       "      <th>Code\\nAGB</th>\n",
       "      <th>mass</th>\n",
       "    </tr>\n",
       "  </thead>\n",
       "  <tbody>\n",
       "    <tr>\n",
       "      <th>0</th>\n",
       "      <td>lardons</td>\n",
       "      <td>28720</td>\n",
       "      <td>250</td>\n",
       "    </tr>\n",
       "    <tr>\n",
       "      <th>1</th>\n",
       "      <td>poivre</td>\n",
       "      <td>11015</td>\n",
       "      <td>0</td>\n",
       "    </tr>\n",
       "    <tr>\n",
       "      <th>2</th>\n",
       "      <td>sel</td>\n",
       "      <td>11017</td>\n",
       "      <td>0</td>\n",
       "    </tr>\n",
       "    <tr>\n",
       "      <th>3</th>\n",
       "      <td>spaghetti</td>\n",
       "      <td>9610</td>\n",
       "      <td>500</td>\n",
       "    </tr>\n",
       "    <tr>\n",
       "      <th>4</th>\n",
       "      <td>oeufs</td>\n",
       "      <td>22000</td>\n",
       "      <td>0</td>\n",
       "    </tr>\n",
       "    <tr>\n",
       "      <th>5</th>\n",
       "      <td>Parmesan</td>\n",
       "      <td>12120</td>\n",
       "      <td>0</td>\n",
       "    </tr>\n",
       "  </tbody>\n",
       "</table>\n",
       "</div>"
      ],
      "text/plain": [
       "  ingredient  Code\\nAGB  mass\n",
       "0    lardons      28720   250\n",
       "1     poivre      11015     0\n",
       "2        sel      11017     0\n",
       "3  spaghetti       9610   500\n",
       "4      oeufs      22000     0\n",
       "5   Parmesan      12120     0"
      ]
     },
     "execution_count": 64,
     "metadata": {},
     "output_type": "execute_result"
    }
   ],
   "source": [
    "ingredients_recipe = pd.read_json(r3.json(), orient=\"records\")\n",
    "ingredients_recipe.to_csv(\"datas/pates_carbonara.csv\", sep = \";\", index = False)\n",
    "ingredients_recipe"
   ]
  },
  {
   "attachments": {},
   "cell_type": "markdown",
   "metadata": {},
   "source": [
    "## Fusion de dataframe pour obtenir les quantité de CO2 par code AGB des ingrédients"
   ]
  },
  {
   "cell_type": "code",
   "execution_count": 78,
   "metadata": {},
   "outputs": [
    {
     "data": {
      "text/plain": [
       "Code\\nAGB                                                                      object\n",
       "Code\\nCIQUAL                                                                    int64\n",
       "Groupe d'aliment                                                               object\n",
       "Sous-groupe d'aliment                                                          object\n",
       "Nom du Produit en Français                                                     object\n",
       "LCI Name                                                                       object\n",
       "code saison (0 : hors saison ; 1 : de saison ; 2 : mix de consommation FR)      int64\n",
       "code avion (1 : par avion)                                                      int64\n",
       "Livraison                                                                      object\n",
       "Matériau d'emballage                                                           object\n",
       "Préparation                                                                    object\n",
       "DQR - Note de qualité de la donnée (1 excellente ; 5 très faible)             float64\n",
       "mPt/kg de produit                                                             float64\n",
       "kg CO2 eq/kg de produit                                                       float64\n",
       "kg CVC11 eq/kg de produit                                                     float64\n",
       "kBq U-235 eq/kg de produit                                                    float64\n",
       "kg NMVOC eq/kg de produit                                                     float64\n",
       "disease inc./kg de produit                                                    float64\n",
       "CTUh/kg de produit                                                            float64\n",
       "CTUh/kg de produit.1                                                          float64\n",
       "mol H+ eq/kg de produit                                                       float64\n",
       "kg P eq/kg de produit                                                         float64\n",
       "kg N eq/kg de produit                                                         float64\n",
       "mol N eq/kg de produit                                                        float64\n",
       "CTUe/kg de produit                                                            float64\n",
       "Pt/kg de produit                                                              float64\n",
       "m3 depriv./kg de produit                                                      float64\n",
       "MJ/kg de produit                                                              float64\n",
       "kg Sb eq/kg de produit                                                        float64\n",
       "dtype: object"
      ]
     },
     "execution_count": 78,
     "metadata": {},
     "output_type": "execute_result"
    }
   ],
   "source": [
    "df_synthese_full = pd.read_csv(\"datas/synthese_ingredient.csv\")\n",
    "\n",
    "df_synthese_full.dtypes\n"
   ]
  },
  {
   "cell_type": "code",
   "execution_count": 79,
   "metadata": {},
   "outputs": [
    {
     "data": {
      "text/plain": [
       "ingredient    object\n",
       "Code\\nAGB      int64\n",
       "mass           int64\n",
       "dtype: object"
      ]
     },
     "execution_count": 79,
     "metadata": {},
     "output_type": "execute_result"
    }
   ],
   "source": [
    "ingredients_recipe.dtypes"
   ]
  },
  {
   "attachments": {},
   "cell_type": "markdown",
   "metadata": {},
   "source": [
    "Je veux changer le type des colonnes Code\\nAGB dans les 2 dataframes au formats string"
   ]
  },
  {
   "cell_type": "code",
   "execution_count": 81,
   "metadata": {},
   "outputs": [],
   "source": [
    "\n",
    "\n",
    "df_synthese_full['Code\\nAGB'] = df_synthese_full['Code\\nAGB'].astype(str)\n",
    "ingredients_recipe['Code\\nAGB'] = ingredients_recipe['Code\\nAGB'].astype(str)"
   ]
  },
  {
   "cell_type": "code",
   "execution_count": 85,
   "metadata": {},
   "outputs": [
    {
     "data": {
      "text/html": [
       "<div>\n",
       "<style scoped>\n",
       "    .dataframe tbody tr th:only-of-type {\n",
       "        vertical-align: middle;\n",
       "    }\n",
       "\n",
       "    .dataframe tbody tr th {\n",
       "        vertical-align: top;\n",
       "    }\n",
       "\n",
       "    .dataframe thead th {\n",
       "        text-align: right;\n",
       "    }\n",
       "</style>\n",
       "<table border=\"1\" class=\"dataframe\">\n",
       "  <thead>\n",
       "    <tr style=\"text-align: right;\">\n",
       "      <th></th>\n",
       "      <th>Code\\nAGB</th>\n",
       "      <th>Code\\nCIQUAL</th>\n",
       "      <th>Groupe d'aliment</th>\n",
       "      <th>Sous-groupe d'aliment</th>\n",
       "      <th>Nom du Produit en Français</th>\n",
       "      <th>LCI Name</th>\n",
       "      <th>code saison (0 : hors saison ; 1 : de saison ; 2 : mix de consommation FR)</th>\n",
       "      <th>code avion (1 : par avion)</th>\n",
       "      <th>Livraison</th>\n",
       "      <th>Matériau d'emballage</th>\n",
       "      <th>...</th>\n",
       "      <th>kg P eq/kg de produit</th>\n",
       "      <th>kg N eq/kg de produit</th>\n",
       "      <th>mol N eq/kg de produit</th>\n",
       "      <th>CTUe/kg de produit</th>\n",
       "      <th>Pt/kg de produit</th>\n",
       "      <th>m3 depriv./kg de produit</th>\n",
       "      <th>MJ/kg de produit</th>\n",
       "      <th>kg Sb eq/kg de produit</th>\n",
       "      <th>ingredient</th>\n",
       "      <th>mass</th>\n",
       "    </tr>\n",
       "  </thead>\n",
       "  <tbody>\n",
       "    <tr>\n",
       "      <th>0</th>\n",
       "      <td>11015</td>\n",
       "      <td>11015</td>\n",
       "      <td>aides culinaires et ingrédients divers</td>\n",
       "      <td>épices</td>\n",
       "      <td>Poivre noir, poudre</td>\n",
       "      <td>Black pepper, powder</td>\n",
       "      <td>2</td>\n",
       "      <td>0</td>\n",
       "      <td>Ambiant (long)</td>\n",
       "      <td>Verre</td>\n",
       "      <td>...</td>\n",
       "      <td>0.001586</td>\n",
       "      <td>0.069950</td>\n",
       "      <td>0.579813</td>\n",
       "      <td>164.114710</td>\n",
       "      <td>698.971520</td>\n",
       "      <td>19.200214</td>\n",
       "      <td>87.472257</td>\n",
       "      <td>0.000129</td>\n",
       "      <td>poivre</td>\n",
       "      <td>0</td>\n",
       "    </tr>\n",
       "    <tr>\n",
       "      <th>1</th>\n",
       "      <td>11017</td>\n",
       "      <td>11017</td>\n",
       "      <td>aides culinaires et ingrédients divers</td>\n",
       "      <td>sels</td>\n",
       "      <td>Sel blanc alimentaire, non iodé, non fluoré (m...</td>\n",
       "      <td>Salt, white, for human consumption (sea, igneo...</td>\n",
       "      <td>2</td>\n",
       "      <td>0</td>\n",
       "      <td>Ambiant (long)</td>\n",
       "      <td>PVC</td>\n",
       "      <td>...</td>\n",
       "      <td>0.000213</td>\n",
       "      <td>0.000715</td>\n",
       "      <td>0.006380</td>\n",
       "      <td>7.027442</td>\n",
       "      <td>3.902153</td>\n",
       "      <td>0.414198</td>\n",
       "      <td>10.826810</td>\n",
       "      <td>0.000018</td>\n",
       "      <td>sel</td>\n",
       "      <td>0</td>\n",
       "    </tr>\n",
       "    <tr>\n",
       "      <th>2</th>\n",
       "      <td>12120</td>\n",
       "      <td>12120</td>\n",
       "      <td>lait et produits laitiers</td>\n",
       "      <td>fromages</td>\n",
       "      <td>Parmesan</td>\n",
       "      <td>Parmesan cheese, from cow's milk</td>\n",
       "      <td>2</td>\n",
       "      <td>0</td>\n",
       "      <td>Glacé</td>\n",
       "      <td>LDPE</td>\n",
       "      <td>...</td>\n",
       "      <td>0.000848</td>\n",
       "      <td>0.020979</td>\n",
       "      <td>0.268319</td>\n",
       "      <td>63.207046</td>\n",
       "      <td>333.434270</td>\n",
       "      <td>2.145010</td>\n",
       "      <td>33.308480</td>\n",
       "      <td>0.000016</td>\n",
       "      <td>Parmesan</td>\n",
       "      <td>0</td>\n",
       "    </tr>\n",
       "    <tr>\n",
       "      <th>3</th>\n",
       "      <td>9610</td>\n",
       "      <td>9610</td>\n",
       "      <td>produits céréaliers</td>\n",
       "      <td>pâtes, riz et céréales</td>\n",
       "      <td>Semoule de blé dur, crue</td>\n",
       "      <td>Durum wheat semolina, raw</td>\n",
       "      <td>2</td>\n",
       "      <td>0</td>\n",
       "      <td>Ambiant (long)</td>\n",
       "      <td>LDPE</td>\n",
       "      <td>...</td>\n",
       "      <td>0.000645</td>\n",
       "      <td>0.016089</td>\n",
       "      <td>0.071268</td>\n",
       "      <td>11.824564</td>\n",
       "      <td>199.190700</td>\n",
       "      <td>1.349348</td>\n",
       "      <td>21.470370</td>\n",
       "      <td>0.000010</td>\n",
       "      <td>spaghetti</td>\n",
       "      <td>500</td>\n",
       "    </tr>\n",
       "    <tr>\n",
       "      <th>4</th>\n",
       "      <td>28720</td>\n",
       "      <td>28720</td>\n",
       "      <td>viandes, œufs, poissons</td>\n",
       "      <td>charcuteries</td>\n",
       "      <td>Lardon fumé, cru</td>\n",
       "      <td>Smoked lardoons, raw</td>\n",
       "      <td>2</td>\n",
       "      <td>0</td>\n",
       "      <td>Glacé</td>\n",
       "      <td>PS</td>\n",
       "      <td>...</td>\n",
       "      <td>0.000942</td>\n",
       "      <td>0.029005</td>\n",
       "      <td>0.526850</td>\n",
       "      <td>99.183280</td>\n",
       "      <td>354.753710</td>\n",
       "      <td>4.284565</td>\n",
       "      <td>68.479801</td>\n",
       "      <td>0.000021</td>\n",
       "      <td>lardons</td>\n",
       "      <td>250</td>\n",
       "    </tr>\n",
       "    <tr>\n",
       "      <th>5</th>\n",
       "      <td>22000</td>\n",
       "      <td>22000</td>\n",
       "      <td>viandes, œufs, poissons</td>\n",
       "      <td>œufs</td>\n",
       "      <td>Oeuf, cru</td>\n",
       "      <td>Egg, raw</td>\n",
       "      <td>2</td>\n",
       "      <td>0</td>\n",
       "      <td>Ambiant (moyen)</td>\n",
       "      <td>Carton</td>\n",
       "      <td>...</td>\n",
       "      <td>0.000826</td>\n",
       "      <td>0.018525</td>\n",
       "      <td>0.363972</td>\n",
       "      <td>80.170819</td>\n",
       "      <td>235.755740</td>\n",
       "      <td>4.310059</td>\n",
       "      <td>20.820181</td>\n",
       "      <td>0.000012</td>\n",
       "      <td>oeufs</td>\n",
       "      <td>0</td>\n",
       "    </tr>\n",
       "  </tbody>\n",
       "</table>\n",
       "<p>6 rows × 31 columns</p>\n",
       "</div>"
      ],
      "text/plain": [
       "  Code\\nAGB  Code\\nCIQUAL                        Groupe d'aliment  \\\n",
       "0     11015         11015  aides culinaires et ingrédients divers   \n",
       "1     11017         11017  aides culinaires et ingrédients divers   \n",
       "2     12120         12120               lait et produits laitiers   \n",
       "3      9610          9610                     produits céréaliers   \n",
       "4     28720         28720                 viandes, œufs, poissons   \n",
       "5     22000         22000                 viandes, œufs, poissons   \n",
       "\n",
       "    Sous-groupe d'aliment                         Nom du Produit en Français  \\\n",
       "0                  épices                                Poivre noir, poudre   \n",
       "1                    sels  Sel blanc alimentaire, non iodé, non fluoré (m...   \n",
       "2                fromages                                           Parmesan   \n",
       "3  pâtes, riz et céréales                           Semoule de blé dur, crue   \n",
       "4            charcuteries                                   Lardon fumé, cru   \n",
       "5                    œufs                                          Oeuf, cru   \n",
       "\n",
       "                                            LCI Name  \\\n",
       "0                               Black pepper, powder   \n",
       "1  Salt, white, for human consumption (sea, igneo...   \n",
       "2                   Parmesan cheese, from cow's milk   \n",
       "3                          Durum wheat semolina, raw   \n",
       "4                               Smoked lardoons, raw   \n",
       "5                                           Egg, raw   \n",
       "\n",
       "   code saison (0 : hors saison ; 1 : de saison ; 2 : mix de consommation FR)  \\\n",
       "0                                                  2                            \n",
       "1                                                  2                            \n",
       "2                                                  2                            \n",
       "3                                                  2                            \n",
       "4                                                  2                            \n",
       "5                                                  2                            \n",
       "\n",
       "   code avion (1 : par avion)        Livraison Matériau d'emballage  ...  \\\n",
       "0                           0   Ambiant (long)                Verre  ...   \n",
       "1                           0   Ambiant (long)                  PVC  ...   \n",
       "2                           0            Glacé                 LDPE  ...   \n",
       "3                           0   Ambiant (long)                 LDPE  ...   \n",
       "4                           0            Glacé                   PS  ...   \n",
       "5                           0  Ambiant (moyen)               Carton  ...   \n",
       "\n",
       "  kg P eq/kg de produit  kg N eq/kg de produit  mol N eq/kg de produit  \\\n",
       "0              0.001586               0.069950                0.579813   \n",
       "1              0.000213               0.000715                0.006380   \n",
       "2              0.000848               0.020979                0.268319   \n",
       "3              0.000645               0.016089                0.071268   \n",
       "4              0.000942               0.029005                0.526850   \n",
       "5              0.000826               0.018525                0.363972   \n",
       "\n",
       "   CTUe/kg de produit  Pt/kg de produit  m3 depriv./kg de produit  \\\n",
       "0          164.114710        698.971520                 19.200214   \n",
       "1            7.027442          3.902153                  0.414198   \n",
       "2           63.207046        333.434270                  2.145010   \n",
       "3           11.824564        199.190700                  1.349348   \n",
       "4           99.183280        354.753710                  4.284565   \n",
       "5           80.170819        235.755740                  4.310059   \n",
       "\n",
       "   MJ/kg de produit  kg Sb eq/kg de produit  ingredient  mass  \n",
       "0         87.472257                0.000129      poivre     0  \n",
       "1         10.826810                0.000018         sel     0  \n",
       "2         33.308480                0.000016    Parmesan     0  \n",
       "3         21.470370                0.000010   spaghetti   500  \n",
       "4         68.479801                0.000021     lardons   250  \n",
       "5         20.820181                0.000012       oeufs     0  \n",
       "\n",
       "[6 rows x 31 columns]"
      ]
     },
     "execution_count": 85,
     "metadata": {},
     "output_type": "execute_result"
    }
   ],
   "source": [
    "fusion = pd.merge(df_synthese_full, ingredients_recipe, how = 'inner')\n",
    "fusion"
   ]
  },
  {
   "cell_type": "code",
   "execution_count": null,
   "metadata": {},
   "outputs": [],
   "source": [
    "fusion.columns"
   ]
  },
  {
   "cell_type": "code",
   "execution_count": 87,
   "metadata": {},
   "outputs": [
    {
     "data": {
      "text/html": [
       "<div>\n",
       "<style scoped>\n",
       "    .dataframe tbody tr th:only-of-type {\n",
       "        vertical-align: middle;\n",
       "    }\n",
       "\n",
       "    .dataframe tbody tr th {\n",
       "        vertical-align: top;\n",
       "    }\n",
       "\n",
       "    .dataframe thead th {\n",
       "        text-align: right;\n",
       "    }\n",
       "</style>\n",
       "<table border=\"1\" class=\"dataframe\">\n",
       "  <thead>\n",
       "    <tr style=\"text-align: right;\">\n",
       "      <th></th>\n",
       "      <th>Code\\nAGB</th>\n",
       "      <th>Code\\nCIQUAL</th>\n",
       "      <th>Groupe d'aliment</th>\n",
       "      <th>Sous-groupe d'aliment</th>\n",
       "      <th>Nom du Produit en Français</th>\n",
       "      <th>LCI Name</th>\n",
       "      <th>code saison (0 : hors saison ; 1 : de saison ; 2 : mix de consommation FR)</th>\n",
       "      <th>code avion (1 : par avion)</th>\n",
       "      <th>Livraison</th>\n",
       "      <th>Matériau d'emballage</th>\n",
       "      <th>...</th>\n",
       "      <th>kg N eq/kg de produit</th>\n",
       "      <th>mol N eq/kg de produit</th>\n",
       "      <th>CTUe/kg de produit</th>\n",
       "      <th>Pt/kg de produit</th>\n",
       "      <th>m3 depriv./kg de produit</th>\n",
       "      <th>MJ/kg de produit</th>\n",
       "      <th>kg Sb eq/kg de produit</th>\n",
       "      <th>ingredient</th>\n",
       "      <th>mass</th>\n",
       "      <th>Impact Carbone de l'ingrédient</th>\n",
       "    </tr>\n",
       "  </thead>\n",
       "  <tbody>\n",
       "    <tr>\n",
       "      <th>0</th>\n",
       "      <td>11015</td>\n",
       "      <td>11015</td>\n",
       "      <td>aides culinaires et ingrédients divers</td>\n",
       "      <td>épices</td>\n",
       "      <td>Poivre noir, poudre</td>\n",
       "      <td>Black pepper, powder</td>\n",
       "      <td>2</td>\n",
       "      <td>0</td>\n",
       "      <td>Ambiant (long)</td>\n",
       "      <td>Verre</td>\n",
       "      <td>...</td>\n",
       "      <td>0.069950</td>\n",
       "      <td>0.579813</td>\n",
       "      <td>164.114710</td>\n",
       "      <td>698.971520</td>\n",
       "      <td>19.200214</td>\n",
       "      <td>87.472257</td>\n",
       "      <td>0.000129</td>\n",
       "      <td>poivre</td>\n",
       "      <td>0</td>\n",
       "      <td>0.000000</td>\n",
       "    </tr>\n",
       "    <tr>\n",
       "      <th>1</th>\n",
       "      <td>11017</td>\n",
       "      <td>11017</td>\n",
       "      <td>aides culinaires et ingrédients divers</td>\n",
       "      <td>sels</td>\n",
       "      <td>Sel blanc alimentaire, non iodé, non fluoré (m...</td>\n",
       "      <td>Salt, white, for human consumption (sea, igneo...</td>\n",
       "      <td>2</td>\n",
       "      <td>0</td>\n",
       "      <td>Ambiant (long)</td>\n",
       "      <td>PVC</td>\n",
       "      <td>...</td>\n",
       "      <td>0.000715</td>\n",
       "      <td>0.006380</td>\n",
       "      <td>7.027442</td>\n",
       "      <td>3.902153</td>\n",
       "      <td>0.414198</td>\n",
       "      <td>10.826810</td>\n",
       "      <td>0.000018</td>\n",
       "      <td>sel</td>\n",
       "      <td>0</td>\n",
       "      <td>0.000000</td>\n",
       "    </tr>\n",
       "    <tr>\n",
       "      <th>2</th>\n",
       "      <td>12120</td>\n",
       "      <td>12120</td>\n",
       "      <td>lait et produits laitiers</td>\n",
       "      <td>fromages</td>\n",
       "      <td>Parmesan</td>\n",
       "      <td>Parmesan cheese, from cow's milk</td>\n",
       "      <td>2</td>\n",
       "      <td>0</td>\n",
       "      <td>Glacé</td>\n",
       "      <td>LDPE</td>\n",
       "      <td>...</td>\n",
       "      <td>0.020979</td>\n",
       "      <td>0.268319</td>\n",
       "      <td>63.207046</td>\n",
       "      <td>333.434270</td>\n",
       "      <td>2.145010</td>\n",
       "      <td>33.308480</td>\n",
       "      <td>0.000016</td>\n",
       "      <td>Parmesan</td>\n",
       "      <td>0</td>\n",
       "      <td>0.000000</td>\n",
       "    </tr>\n",
       "    <tr>\n",
       "      <th>3</th>\n",
       "      <td>9610</td>\n",
       "      <td>9610</td>\n",
       "      <td>produits céréaliers</td>\n",
       "      <td>pâtes, riz et céréales</td>\n",
       "      <td>Semoule de blé dur, crue</td>\n",
       "      <td>Durum wheat semolina, raw</td>\n",
       "      <td>2</td>\n",
       "      <td>0</td>\n",
       "      <td>Ambiant (long)</td>\n",
       "      <td>LDPE</td>\n",
       "      <td>...</td>\n",
       "      <td>0.016089</td>\n",
       "      <td>0.071268</td>\n",
       "      <td>11.824564</td>\n",
       "      <td>199.190700</td>\n",
       "      <td>1.349348</td>\n",
       "      <td>21.470370</td>\n",
       "      <td>0.000010</td>\n",
       "      <td>spaghetti</td>\n",
       "      <td>500</td>\n",
       "      <td>0.833739</td>\n",
       "    </tr>\n",
       "    <tr>\n",
       "      <th>4</th>\n",
       "      <td>28720</td>\n",
       "      <td>28720</td>\n",
       "      <td>viandes, œufs, poissons</td>\n",
       "      <td>charcuteries</td>\n",
       "      <td>Lardon fumé, cru</td>\n",
       "      <td>Smoked lardoons, raw</td>\n",
       "      <td>2</td>\n",
       "      <td>0</td>\n",
       "      <td>Glacé</td>\n",
       "      <td>PS</td>\n",
       "      <td>...</td>\n",
       "      <td>0.029005</td>\n",
       "      <td>0.526850</td>\n",
       "      <td>99.183280</td>\n",
       "      <td>354.753710</td>\n",
       "      <td>4.284565</td>\n",
       "      <td>68.479801</td>\n",
       "      <td>0.000021</td>\n",
       "      <td>lardons</td>\n",
       "      <td>250</td>\n",
       "      <td>1.597019</td>\n",
       "    </tr>\n",
       "    <tr>\n",
       "      <th>5</th>\n",
       "      <td>22000</td>\n",
       "      <td>22000</td>\n",
       "      <td>viandes, œufs, poissons</td>\n",
       "      <td>œufs</td>\n",
       "      <td>Oeuf, cru</td>\n",
       "      <td>Egg, raw</td>\n",
       "      <td>2</td>\n",
       "      <td>0</td>\n",
       "      <td>Ambiant (moyen)</td>\n",
       "      <td>Carton</td>\n",
       "      <td>...</td>\n",
       "      <td>0.018525</td>\n",
       "      <td>0.363972</td>\n",
       "      <td>80.170819</td>\n",
       "      <td>235.755740</td>\n",
       "      <td>4.310059</td>\n",
       "      <td>20.820181</td>\n",
       "      <td>0.000012</td>\n",
       "      <td>oeufs</td>\n",
       "      <td>0</td>\n",
       "      <td>0.000000</td>\n",
       "    </tr>\n",
       "  </tbody>\n",
       "</table>\n",
       "<p>6 rows × 32 columns</p>\n",
       "</div>"
      ],
      "text/plain": [
       "  Code\\nAGB  Code\\nCIQUAL                        Groupe d'aliment  \\\n",
       "0     11015         11015  aides culinaires et ingrédients divers   \n",
       "1     11017         11017  aides culinaires et ingrédients divers   \n",
       "2     12120         12120               lait et produits laitiers   \n",
       "3      9610          9610                     produits céréaliers   \n",
       "4     28720         28720                 viandes, œufs, poissons   \n",
       "5     22000         22000                 viandes, œufs, poissons   \n",
       "\n",
       "    Sous-groupe d'aliment                         Nom du Produit en Français  \\\n",
       "0                  épices                                Poivre noir, poudre   \n",
       "1                    sels  Sel blanc alimentaire, non iodé, non fluoré (m...   \n",
       "2                fromages                                           Parmesan   \n",
       "3  pâtes, riz et céréales                           Semoule de blé dur, crue   \n",
       "4            charcuteries                                   Lardon fumé, cru   \n",
       "5                    œufs                                          Oeuf, cru   \n",
       "\n",
       "                                            LCI Name  \\\n",
       "0                               Black pepper, powder   \n",
       "1  Salt, white, for human consumption (sea, igneo...   \n",
       "2                   Parmesan cheese, from cow's milk   \n",
       "3                          Durum wheat semolina, raw   \n",
       "4                               Smoked lardoons, raw   \n",
       "5                                           Egg, raw   \n",
       "\n",
       "   code saison (0 : hors saison ; 1 : de saison ; 2 : mix de consommation FR)  \\\n",
       "0                                                  2                            \n",
       "1                                                  2                            \n",
       "2                                                  2                            \n",
       "3                                                  2                            \n",
       "4                                                  2                            \n",
       "5                                                  2                            \n",
       "\n",
       "   code avion (1 : par avion)        Livraison Matériau d'emballage  ...  \\\n",
       "0                           0   Ambiant (long)                Verre  ...   \n",
       "1                           0   Ambiant (long)                  PVC  ...   \n",
       "2                           0            Glacé                 LDPE  ...   \n",
       "3                           0   Ambiant (long)                 LDPE  ...   \n",
       "4                           0            Glacé                   PS  ...   \n",
       "5                           0  Ambiant (moyen)               Carton  ...   \n",
       "\n",
       "  kg N eq/kg de produit  mol N eq/kg de produit  CTUe/kg de produit  \\\n",
       "0              0.069950                0.579813          164.114710   \n",
       "1              0.000715                0.006380            7.027442   \n",
       "2              0.020979                0.268319           63.207046   \n",
       "3              0.016089                0.071268           11.824564   \n",
       "4              0.029005                0.526850           99.183280   \n",
       "5              0.018525                0.363972           80.170819   \n",
       "\n",
       "   Pt/kg de produit  m3 depriv./kg de produit  MJ/kg de produit  \\\n",
       "0        698.971520                 19.200214         87.472257   \n",
       "1          3.902153                  0.414198         10.826810   \n",
       "2        333.434270                  2.145010         33.308480   \n",
       "3        199.190700                  1.349348         21.470370   \n",
       "4        354.753710                  4.284565         68.479801   \n",
       "5        235.755740                  4.310059         20.820181   \n",
       "\n",
       "   kg Sb eq/kg de produit  ingredient  mass  Impact Carbone de l'ingrédient  \n",
       "0                0.000129      poivre     0                        0.000000  \n",
       "1                0.000018         sel     0                        0.000000  \n",
       "2                0.000016    Parmesan     0                        0.000000  \n",
       "3                0.000010   spaghetti   500                        0.833739  \n",
       "4                0.000021     lardons   250                        1.597019  \n",
       "5                0.000012       oeufs     0                        0.000000  \n",
       "\n",
       "[6 rows x 32 columns]"
      ]
     },
     "execution_count": 87,
     "metadata": {},
     "output_type": "execute_result"
    }
   ],
   "source": [
    "fusion[\"Impact Carbone de l'ingrédient\"] = fusion['kg CO2 eq/kg de produit'] * fusion['mass'] / 1000\n",
    "fusion"
   ]
  },
  {
   "cell_type": "code",
   "execution_count": 94,
   "metadata": {},
   "outputs": [
    {
     "data": {
      "application/vnd.plotly.v1+json": {
       "config": {
        "linkText": "Export to plot.ly",
        "plotlyServerURL": "https://plot.ly",
        "showLink": false
       },
       "data": [
        {
         "marker": {
          "color": [
           "#2E91E5",
           "#E15F99",
           "#1CA71C",
           "#FB0D0D",
           "#DA16FF",
           "#222A2A"
          ]
         },
         "type": "bar",
         "x": [
          "poivre",
          "sel",
          "Parmesan",
          "spaghetti",
          "lardons",
          "oeufs"
         ],
         "y": [
          0,
          0,
          0,
          0.8337385,
          1.59701915,
          0
         ]
        }
       ],
       "layout": {
        "template": {
         "data": {
          "bar": [
           {
            "error_x": {
             "color": "#2a3f5f"
            },
            "error_y": {
             "color": "#2a3f5f"
            },
            "marker": {
             "line": {
              "color": "#E5ECF6",
              "width": 0.5
             },
             "pattern": {
              "fillmode": "overlay",
              "size": 10,
              "solidity": 0.2
             }
            },
            "type": "bar"
           }
          ],
          "barpolar": [
           {
            "marker": {
             "line": {
              "color": "#E5ECF6",
              "width": 0.5
             },
             "pattern": {
              "fillmode": "overlay",
              "size": 10,
              "solidity": 0.2
             }
            },
            "type": "barpolar"
           }
          ],
          "carpet": [
           {
            "aaxis": {
             "endlinecolor": "#2a3f5f",
             "gridcolor": "white",
             "linecolor": "white",
             "minorgridcolor": "white",
             "startlinecolor": "#2a3f5f"
            },
            "baxis": {
             "endlinecolor": "#2a3f5f",
             "gridcolor": "white",
             "linecolor": "white",
             "minorgridcolor": "white",
             "startlinecolor": "#2a3f5f"
            },
            "type": "carpet"
           }
          ],
          "choropleth": [
           {
            "colorbar": {
             "outlinewidth": 0,
             "ticks": ""
            },
            "type": "choropleth"
           }
          ],
          "contour": [
           {
            "colorbar": {
             "outlinewidth": 0,
             "ticks": ""
            },
            "colorscale": [
             [
              0,
              "#0d0887"
             ],
             [
              0.1111111111111111,
              "#46039f"
             ],
             [
              0.2222222222222222,
              "#7201a8"
             ],
             [
              0.3333333333333333,
              "#9c179e"
             ],
             [
              0.4444444444444444,
              "#bd3786"
             ],
             [
              0.5555555555555556,
              "#d8576b"
             ],
             [
              0.6666666666666666,
              "#ed7953"
             ],
             [
              0.7777777777777778,
              "#fb9f3a"
             ],
             [
              0.8888888888888888,
              "#fdca26"
             ],
             [
              1,
              "#f0f921"
             ]
            ],
            "type": "contour"
           }
          ],
          "contourcarpet": [
           {
            "colorbar": {
             "outlinewidth": 0,
             "ticks": ""
            },
            "type": "contourcarpet"
           }
          ],
          "heatmap": [
           {
            "colorbar": {
             "outlinewidth": 0,
             "ticks": ""
            },
            "colorscale": [
             [
              0,
              "#0d0887"
             ],
             [
              0.1111111111111111,
              "#46039f"
             ],
             [
              0.2222222222222222,
              "#7201a8"
             ],
             [
              0.3333333333333333,
              "#9c179e"
             ],
             [
              0.4444444444444444,
              "#bd3786"
             ],
             [
              0.5555555555555556,
              "#d8576b"
             ],
             [
              0.6666666666666666,
              "#ed7953"
             ],
             [
              0.7777777777777778,
              "#fb9f3a"
             ],
             [
              0.8888888888888888,
              "#fdca26"
             ],
             [
              1,
              "#f0f921"
             ]
            ],
            "type": "heatmap"
           }
          ],
          "heatmapgl": [
           {
            "colorbar": {
             "outlinewidth": 0,
             "ticks": ""
            },
            "colorscale": [
             [
              0,
              "#0d0887"
             ],
             [
              0.1111111111111111,
              "#46039f"
             ],
             [
              0.2222222222222222,
              "#7201a8"
             ],
             [
              0.3333333333333333,
              "#9c179e"
             ],
             [
              0.4444444444444444,
              "#bd3786"
             ],
             [
              0.5555555555555556,
              "#d8576b"
             ],
             [
              0.6666666666666666,
              "#ed7953"
             ],
             [
              0.7777777777777778,
              "#fb9f3a"
             ],
             [
              0.8888888888888888,
              "#fdca26"
             ],
             [
              1,
              "#f0f921"
             ]
            ],
            "type": "heatmapgl"
           }
          ],
          "histogram": [
           {
            "marker": {
             "pattern": {
              "fillmode": "overlay",
              "size": 10,
              "solidity": 0.2
             }
            },
            "type": "histogram"
           }
          ],
          "histogram2d": [
           {
            "colorbar": {
             "outlinewidth": 0,
             "ticks": ""
            },
            "colorscale": [
             [
              0,
              "#0d0887"
             ],
             [
              0.1111111111111111,
              "#46039f"
             ],
             [
              0.2222222222222222,
              "#7201a8"
             ],
             [
              0.3333333333333333,
              "#9c179e"
             ],
             [
              0.4444444444444444,
              "#bd3786"
             ],
             [
              0.5555555555555556,
              "#d8576b"
             ],
             [
              0.6666666666666666,
              "#ed7953"
             ],
             [
              0.7777777777777778,
              "#fb9f3a"
             ],
             [
              0.8888888888888888,
              "#fdca26"
             ],
             [
              1,
              "#f0f921"
             ]
            ],
            "type": "histogram2d"
           }
          ],
          "histogram2dcontour": [
           {
            "colorbar": {
             "outlinewidth": 0,
             "ticks": ""
            },
            "colorscale": [
             [
              0,
              "#0d0887"
             ],
             [
              0.1111111111111111,
              "#46039f"
             ],
             [
              0.2222222222222222,
              "#7201a8"
             ],
             [
              0.3333333333333333,
              "#9c179e"
             ],
             [
              0.4444444444444444,
              "#bd3786"
             ],
             [
              0.5555555555555556,
              "#d8576b"
             ],
             [
              0.6666666666666666,
              "#ed7953"
             ],
             [
              0.7777777777777778,
              "#fb9f3a"
             ],
             [
              0.8888888888888888,
              "#fdca26"
             ],
             [
              1,
              "#f0f921"
             ]
            ],
            "type": "histogram2dcontour"
           }
          ],
          "mesh3d": [
           {
            "colorbar": {
             "outlinewidth": 0,
             "ticks": ""
            },
            "type": "mesh3d"
           }
          ],
          "parcoords": [
           {
            "line": {
             "colorbar": {
              "outlinewidth": 0,
              "ticks": ""
             }
            },
            "type": "parcoords"
           }
          ],
          "pie": [
           {
            "automargin": true,
            "type": "pie"
           }
          ],
          "scatter": [
           {
            "fillpattern": {
             "fillmode": "overlay",
             "size": 10,
             "solidity": 0.2
            },
            "type": "scatter"
           }
          ],
          "scatter3d": [
           {
            "line": {
             "colorbar": {
              "outlinewidth": 0,
              "ticks": ""
             }
            },
            "marker": {
             "colorbar": {
              "outlinewidth": 0,
              "ticks": ""
             }
            },
            "type": "scatter3d"
           }
          ],
          "scattercarpet": [
           {
            "marker": {
             "colorbar": {
              "outlinewidth": 0,
              "ticks": ""
             }
            },
            "type": "scattercarpet"
           }
          ],
          "scattergeo": [
           {
            "marker": {
             "colorbar": {
              "outlinewidth": 0,
              "ticks": ""
             }
            },
            "type": "scattergeo"
           }
          ],
          "scattergl": [
           {
            "marker": {
             "colorbar": {
              "outlinewidth": 0,
              "ticks": ""
             }
            },
            "type": "scattergl"
           }
          ],
          "scattermapbox": [
           {
            "marker": {
             "colorbar": {
              "outlinewidth": 0,
              "ticks": ""
             }
            },
            "type": "scattermapbox"
           }
          ],
          "scatterpolar": [
           {
            "marker": {
             "colorbar": {
              "outlinewidth": 0,
              "ticks": ""
             }
            },
            "type": "scatterpolar"
           }
          ],
          "scatterpolargl": [
           {
            "marker": {
             "colorbar": {
              "outlinewidth": 0,
              "ticks": ""
             }
            },
            "type": "scatterpolargl"
           }
          ],
          "scatterternary": [
           {
            "marker": {
             "colorbar": {
              "outlinewidth": 0,
              "ticks": ""
             }
            },
            "type": "scatterternary"
           }
          ],
          "surface": [
           {
            "colorbar": {
             "outlinewidth": 0,
             "ticks": ""
            },
            "colorscale": [
             [
              0,
              "#0d0887"
             ],
             [
              0.1111111111111111,
              "#46039f"
             ],
             [
              0.2222222222222222,
              "#7201a8"
             ],
             [
              0.3333333333333333,
              "#9c179e"
             ],
             [
              0.4444444444444444,
              "#bd3786"
             ],
             [
              0.5555555555555556,
              "#d8576b"
             ],
             [
              0.6666666666666666,
              "#ed7953"
             ],
             [
              0.7777777777777778,
              "#fb9f3a"
             ],
             [
              0.8888888888888888,
              "#fdca26"
             ],
             [
              1,
              "#f0f921"
             ]
            ],
            "type": "surface"
           }
          ],
          "table": [
           {
            "cells": {
             "fill": {
              "color": "#EBF0F8"
             },
             "line": {
              "color": "white"
             }
            },
            "header": {
             "fill": {
              "color": "#C8D4E3"
             },
             "line": {
              "color": "white"
             }
            },
            "type": "table"
           }
          ]
         },
         "layout": {
          "annotationdefaults": {
           "arrowcolor": "#2a3f5f",
           "arrowhead": 0,
           "arrowwidth": 1
          },
          "autotypenumbers": "strict",
          "coloraxis": {
           "colorbar": {
            "outlinewidth": 0,
            "ticks": ""
           }
          },
          "colorscale": {
           "diverging": [
            [
             0,
             "#8e0152"
            ],
            [
             0.1,
             "#c51b7d"
            ],
            [
             0.2,
             "#de77ae"
            ],
            [
             0.3,
             "#f1b6da"
            ],
            [
             0.4,
             "#fde0ef"
            ],
            [
             0.5,
             "#f7f7f7"
            ],
            [
             0.6,
             "#e6f5d0"
            ],
            [
             0.7,
             "#b8e186"
            ],
            [
             0.8,
             "#7fbc41"
            ],
            [
             0.9,
             "#4d9221"
            ],
            [
             1,
             "#276419"
            ]
           ],
           "sequential": [
            [
             0,
             "#0d0887"
            ],
            [
             0.1111111111111111,
             "#46039f"
            ],
            [
             0.2222222222222222,
             "#7201a8"
            ],
            [
             0.3333333333333333,
             "#9c179e"
            ],
            [
             0.4444444444444444,
             "#bd3786"
            ],
            [
             0.5555555555555556,
             "#d8576b"
            ],
            [
             0.6666666666666666,
             "#ed7953"
            ],
            [
             0.7777777777777778,
             "#fb9f3a"
            ],
            [
             0.8888888888888888,
             "#fdca26"
            ],
            [
             1,
             "#f0f921"
            ]
           ],
           "sequentialminus": [
            [
             0,
             "#0d0887"
            ],
            [
             0.1111111111111111,
             "#46039f"
            ],
            [
             0.2222222222222222,
             "#7201a8"
            ],
            [
             0.3333333333333333,
             "#9c179e"
            ],
            [
             0.4444444444444444,
             "#bd3786"
            ],
            [
             0.5555555555555556,
             "#d8576b"
            ],
            [
             0.6666666666666666,
             "#ed7953"
            ],
            [
             0.7777777777777778,
             "#fb9f3a"
            ],
            [
             0.8888888888888888,
             "#fdca26"
            ],
            [
             1,
             "#f0f921"
            ]
           ]
          },
          "colorway": [
           "#636efa",
           "#EF553B",
           "#00cc96",
           "#ab63fa",
           "#FFA15A",
           "#19d3f3",
           "#FF6692",
           "#B6E880",
           "#FF97FF",
           "#FECB52"
          ],
          "font": {
           "color": "#2a3f5f"
          },
          "geo": {
           "bgcolor": "white",
           "lakecolor": "white",
           "landcolor": "#E5ECF6",
           "showlakes": true,
           "showland": true,
           "subunitcolor": "white"
          },
          "hoverlabel": {
           "align": "left"
          },
          "hovermode": "closest",
          "mapbox": {
           "style": "light"
          },
          "paper_bgcolor": "white",
          "plot_bgcolor": "#E5ECF6",
          "polar": {
           "angularaxis": {
            "gridcolor": "white",
            "linecolor": "white",
            "ticks": ""
           },
           "bgcolor": "#E5ECF6",
           "radialaxis": {
            "gridcolor": "white",
            "linecolor": "white",
            "ticks": ""
           }
          },
          "scene": {
           "xaxis": {
            "backgroundcolor": "#E5ECF6",
            "gridcolor": "white",
            "gridwidth": 2,
            "linecolor": "white",
            "showbackground": true,
            "ticks": "",
            "zerolinecolor": "white"
           },
           "yaxis": {
            "backgroundcolor": "#E5ECF6",
            "gridcolor": "white",
            "gridwidth": 2,
            "linecolor": "white",
            "showbackground": true,
            "ticks": "",
            "zerolinecolor": "white"
           },
           "zaxis": {
            "backgroundcolor": "#E5ECF6",
            "gridcolor": "white",
            "gridwidth": 2,
            "linecolor": "white",
            "showbackground": true,
            "ticks": "",
            "zerolinecolor": "white"
           }
          },
          "shapedefaults": {
           "line": {
            "color": "#2a3f5f"
           }
          },
          "ternary": {
           "aaxis": {
            "gridcolor": "white",
            "linecolor": "white",
            "ticks": ""
           },
           "baxis": {
            "gridcolor": "white",
            "linecolor": "white",
            "ticks": ""
           },
           "bgcolor": "#E5ECF6",
           "caxis": {
            "gridcolor": "white",
            "linecolor": "white",
            "ticks": ""
           }
          },
          "title": {
           "x": 0.05
          },
          "xaxis": {
           "automargin": true,
           "gridcolor": "white",
           "linecolor": "white",
           "ticks": "",
           "title": {
            "standoff": 15
           },
           "zerolinecolor": "white",
           "zerolinewidth": 2
          },
          "yaxis": {
           "automargin": true,
           "gridcolor": "white",
           "linecolor": "white",
           "ticks": "",
           "title": {
            "standoff": 15
           },
           "zerolinecolor": "white",
           "zerolinewidth": 2
          }
         }
        },
        "yaxis": {
         "title": {
          "text": "kg CO2 eq/kg de produit"
         }
        }
       }
      }
     },
     "metadata": {},
     "output_type": "display_data"
    }
   ],
   "source": [
    "from plotly.offline import iplot\n",
    "import plotly.graph_objs as go\n",
    "import plotly.express as px\n",
    "from plotly.subplots import make_subplots\n",
    "\n",
    "couleur = px.colors.qualitative.Dark24[:fusion[\"Sous-groupe d'aliment\"].nunique()]\n",
    "\n",
    "\n",
    "graph = go.Bar(x=fusion[\"ingredient\"], y=fusion[\"Impact Carbone de l'ingrédient\"], marker=dict(color=couleur)) \n",
    "\n",
    "fig = go.Figure(data=[graph])\n",
    "\n",
    "# Set y-axis label for the middle subplot\n",
    "fig.update_yaxes(title_text=\"kg CO2 eq/kg de produit\")\n",
    "\n",
    "iplot(fig)"
   ]
  },
  {
   "cell_type": "code",
   "execution_count": 95,
   "metadata": {},
   "outputs": [
    {
     "data": {
      "application/vnd.plotly.v1+json": {
       "config": {
        "linkText": "Export to plot.ly",
        "plotlyServerURL": "https://plot.ly",
        "showLink": false
       },
       "data": [
        {
         "labels": [
          "poivre",
          "sel",
          "Parmesan",
          "spaghetti",
          "lardons",
          "oeufs"
         ],
         "marker": {
          "colors": [
           "#2E91E5",
           "#E15F99",
           "#1CA71C",
           "#FB0D0D",
           "#DA16FF",
           "#222A2A"
          ]
         },
         "type": "pie",
         "values": [
          0,
          0,
          0,
          0.8337385,
          1.59701915,
          0
         ]
        }
       ],
       "layout": {
        "template": {
         "data": {
          "bar": [
           {
            "error_x": {
             "color": "#2a3f5f"
            },
            "error_y": {
             "color": "#2a3f5f"
            },
            "marker": {
             "line": {
              "color": "#E5ECF6",
              "width": 0.5
             },
             "pattern": {
              "fillmode": "overlay",
              "size": 10,
              "solidity": 0.2
             }
            },
            "type": "bar"
           }
          ],
          "barpolar": [
           {
            "marker": {
             "line": {
              "color": "#E5ECF6",
              "width": 0.5
             },
             "pattern": {
              "fillmode": "overlay",
              "size": 10,
              "solidity": 0.2
             }
            },
            "type": "barpolar"
           }
          ],
          "carpet": [
           {
            "aaxis": {
             "endlinecolor": "#2a3f5f",
             "gridcolor": "white",
             "linecolor": "white",
             "minorgridcolor": "white",
             "startlinecolor": "#2a3f5f"
            },
            "baxis": {
             "endlinecolor": "#2a3f5f",
             "gridcolor": "white",
             "linecolor": "white",
             "minorgridcolor": "white",
             "startlinecolor": "#2a3f5f"
            },
            "type": "carpet"
           }
          ],
          "choropleth": [
           {
            "colorbar": {
             "outlinewidth": 0,
             "ticks": ""
            },
            "type": "choropleth"
           }
          ],
          "contour": [
           {
            "colorbar": {
             "outlinewidth": 0,
             "ticks": ""
            },
            "colorscale": [
             [
              0,
              "#0d0887"
             ],
             [
              0.1111111111111111,
              "#46039f"
             ],
             [
              0.2222222222222222,
              "#7201a8"
             ],
             [
              0.3333333333333333,
              "#9c179e"
             ],
             [
              0.4444444444444444,
              "#bd3786"
             ],
             [
              0.5555555555555556,
              "#d8576b"
             ],
             [
              0.6666666666666666,
              "#ed7953"
             ],
             [
              0.7777777777777778,
              "#fb9f3a"
             ],
             [
              0.8888888888888888,
              "#fdca26"
             ],
             [
              1,
              "#f0f921"
             ]
            ],
            "type": "contour"
           }
          ],
          "contourcarpet": [
           {
            "colorbar": {
             "outlinewidth": 0,
             "ticks": ""
            },
            "type": "contourcarpet"
           }
          ],
          "heatmap": [
           {
            "colorbar": {
             "outlinewidth": 0,
             "ticks": ""
            },
            "colorscale": [
             [
              0,
              "#0d0887"
             ],
             [
              0.1111111111111111,
              "#46039f"
             ],
             [
              0.2222222222222222,
              "#7201a8"
             ],
             [
              0.3333333333333333,
              "#9c179e"
             ],
             [
              0.4444444444444444,
              "#bd3786"
             ],
             [
              0.5555555555555556,
              "#d8576b"
             ],
             [
              0.6666666666666666,
              "#ed7953"
             ],
             [
              0.7777777777777778,
              "#fb9f3a"
             ],
             [
              0.8888888888888888,
              "#fdca26"
             ],
             [
              1,
              "#f0f921"
             ]
            ],
            "type": "heatmap"
           }
          ],
          "heatmapgl": [
           {
            "colorbar": {
             "outlinewidth": 0,
             "ticks": ""
            },
            "colorscale": [
             [
              0,
              "#0d0887"
             ],
             [
              0.1111111111111111,
              "#46039f"
             ],
             [
              0.2222222222222222,
              "#7201a8"
             ],
             [
              0.3333333333333333,
              "#9c179e"
             ],
             [
              0.4444444444444444,
              "#bd3786"
             ],
             [
              0.5555555555555556,
              "#d8576b"
             ],
             [
              0.6666666666666666,
              "#ed7953"
             ],
             [
              0.7777777777777778,
              "#fb9f3a"
             ],
             [
              0.8888888888888888,
              "#fdca26"
             ],
             [
              1,
              "#f0f921"
             ]
            ],
            "type": "heatmapgl"
           }
          ],
          "histogram": [
           {
            "marker": {
             "pattern": {
              "fillmode": "overlay",
              "size": 10,
              "solidity": 0.2
             }
            },
            "type": "histogram"
           }
          ],
          "histogram2d": [
           {
            "colorbar": {
             "outlinewidth": 0,
             "ticks": ""
            },
            "colorscale": [
             [
              0,
              "#0d0887"
             ],
             [
              0.1111111111111111,
              "#46039f"
             ],
             [
              0.2222222222222222,
              "#7201a8"
             ],
             [
              0.3333333333333333,
              "#9c179e"
             ],
             [
              0.4444444444444444,
              "#bd3786"
             ],
             [
              0.5555555555555556,
              "#d8576b"
             ],
             [
              0.6666666666666666,
              "#ed7953"
             ],
             [
              0.7777777777777778,
              "#fb9f3a"
             ],
             [
              0.8888888888888888,
              "#fdca26"
             ],
             [
              1,
              "#f0f921"
             ]
            ],
            "type": "histogram2d"
           }
          ],
          "histogram2dcontour": [
           {
            "colorbar": {
             "outlinewidth": 0,
             "ticks": ""
            },
            "colorscale": [
             [
              0,
              "#0d0887"
             ],
             [
              0.1111111111111111,
              "#46039f"
             ],
             [
              0.2222222222222222,
              "#7201a8"
             ],
             [
              0.3333333333333333,
              "#9c179e"
             ],
             [
              0.4444444444444444,
              "#bd3786"
             ],
             [
              0.5555555555555556,
              "#d8576b"
             ],
             [
              0.6666666666666666,
              "#ed7953"
             ],
             [
              0.7777777777777778,
              "#fb9f3a"
             ],
             [
              0.8888888888888888,
              "#fdca26"
             ],
             [
              1,
              "#f0f921"
             ]
            ],
            "type": "histogram2dcontour"
           }
          ],
          "mesh3d": [
           {
            "colorbar": {
             "outlinewidth": 0,
             "ticks": ""
            },
            "type": "mesh3d"
           }
          ],
          "parcoords": [
           {
            "line": {
             "colorbar": {
              "outlinewidth": 0,
              "ticks": ""
             }
            },
            "type": "parcoords"
           }
          ],
          "pie": [
           {
            "automargin": true,
            "type": "pie"
           }
          ],
          "scatter": [
           {
            "fillpattern": {
             "fillmode": "overlay",
             "size": 10,
             "solidity": 0.2
            },
            "type": "scatter"
           }
          ],
          "scatter3d": [
           {
            "line": {
             "colorbar": {
              "outlinewidth": 0,
              "ticks": ""
             }
            },
            "marker": {
             "colorbar": {
              "outlinewidth": 0,
              "ticks": ""
             }
            },
            "type": "scatter3d"
           }
          ],
          "scattercarpet": [
           {
            "marker": {
             "colorbar": {
              "outlinewidth": 0,
              "ticks": ""
             }
            },
            "type": "scattercarpet"
           }
          ],
          "scattergeo": [
           {
            "marker": {
             "colorbar": {
              "outlinewidth": 0,
              "ticks": ""
             }
            },
            "type": "scattergeo"
           }
          ],
          "scattergl": [
           {
            "marker": {
             "colorbar": {
              "outlinewidth": 0,
              "ticks": ""
             }
            },
            "type": "scattergl"
           }
          ],
          "scattermapbox": [
           {
            "marker": {
             "colorbar": {
              "outlinewidth": 0,
              "ticks": ""
             }
            },
            "type": "scattermapbox"
           }
          ],
          "scatterpolar": [
           {
            "marker": {
             "colorbar": {
              "outlinewidth": 0,
              "ticks": ""
             }
            },
            "type": "scatterpolar"
           }
          ],
          "scatterpolargl": [
           {
            "marker": {
             "colorbar": {
              "outlinewidth": 0,
              "ticks": ""
             }
            },
            "type": "scatterpolargl"
           }
          ],
          "scatterternary": [
           {
            "marker": {
             "colorbar": {
              "outlinewidth": 0,
              "ticks": ""
             }
            },
            "type": "scatterternary"
           }
          ],
          "surface": [
           {
            "colorbar": {
             "outlinewidth": 0,
             "ticks": ""
            },
            "colorscale": [
             [
              0,
              "#0d0887"
             ],
             [
              0.1111111111111111,
              "#46039f"
             ],
             [
              0.2222222222222222,
              "#7201a8"
             ],
             [
              0.3333333333333333,
              "#9c179e"
             ],
             [
              0.4444444444444444,
              "#bd3786"
             ],
             [
              0.5555555555555556,
              "#d8576b"
             ],
             [
              0.6666666666666666,
              "#ed7953"
             ],
             [
              0.7777777777777778,
              "#fb9f3a"
             ],
             [
              0.8888888888888888,
              "#fdca26"
             ],
             [
              1,
              "#f0f921"
             ]
            ],
            "type": "surface"
           }
          ],
          "table": [
           {
            "cells": {
             "fill": {
              "color": "#EBF0F8"
             },
             "line": {
              "color": "white"
             }
            },
            "header": {
             "fill": {
              "color": "#C8D4E3"
             },
             "line": {
              "color": "white"
             }
            },
            "type": "table"
           }
          ]
         },
         "layout": {
          "annotationdefaults": {
           "arrowcolor": "#2a3f5f",
           "arrowhead": 0,
           "arrowwidth": 1
          },
          "autotypenumbers": "strict",
          "coloraxis": {
           "colorbar": {
            "outlinewidth": 0,
            "ticks": ""
           }
          },
          "colorscale": {
           "diverging": [
            [
             0,
             "#8e0152"
            ],
            [
             0.1,
             "#c51b7d"
            ],
            [
             0.2,
             "#de77ae"
            ],
            [
             0.3,
             "#f1b6da"
            ],
            [
             0.4,
             "#fde0ef"
            ],
            [
             0.5,
             "#f7f7f7"
            ],
            [
             0.6,
             "#e6f5d0"
            ],
            [
             0.7,
             "#b8e186"
            ],
            [
             0.8,
             "#7fbc41"
            ],
            [
             0.9,
             "#4d9221"
            ],
            [
             1,
             "#276419"
            ]
           ],
           "sequential": [
            [
             0,
             "#0d0887"
            ],
            [
             0.1111111111111111,
             "#46039f"
            ],
            [
             0.2222222222222222,
             "#7201a8"
            ],
            [
             0.3333333333333333,
             "#9c179e"
            ],
            [
             0.4444444444444444,
             "#bd3786"
            ],
            [
             0.5555555555555556,
             "#d8576b"
            ],
            [
             0.6666666666666666,
             "#ed7953"
            ],
            [
             0.7777777777777778,
             "#fb9f3a"
            ],
            [
             0.8888888888888888,
             "#fdca26"
            ],
            [
             1,
             "#f0f921"
            ]
           ],
           "sequentialminus": [
            [
             0,
             "#0d0887"
            ],
            [
             0.1111111111111111,
             "#46039f"
            ],
            [
             0.2222222222222222,
             "#7201a8"
            ],
            [
             0.3333333333333333,
             "#9c179e"
            ],
            [
             0.4444444444444444,
             "#bd3786"
            ],
            [
             0.5555555555555556,
             "#d8576b"
            ],
            [
             0.6666666666666666,
             "#ed7953"
            ],
            [
             0.7777777777777778,
             "#fb9f3a"
            ],
            [
             0.8888888888888888,
             "#fdca26"
            ],
            [
             1,
             "#f0f921"
            ]
           ]
          },
          "colorway": [
           "#636efa",
           "#EF553B",
           "#00cc96",
           "#ab63fa",
           "#FFA15A",
           "#19d3f3",
           "#FF6692",
           "#B6E880",
           "#FF97FF",
           "#FECB52"
          ],
          "font": {
           "color": "#2a3f5f"
          },
          "geo": {
           "bgcolor": "white",
           "lakecolor": "white",
           "landcolor": "#E5ECF6",
           "showlakes": true,
           "showland": true,
           "subunitcolor": "white"
          },
          "hoverlabel": {
           "align": "left"
          },
          "hovermode": "closest",
          "mapbox": {
           "style": "light"
          },
          "paper_bgcolor": "white",
          "plot_bgcolor": "#E5ECF6",
          "polar": {
           "angularaxis": {
            "gridcolor": "white",
            "linecolor": "white",
            "ticks": ""
           },
           "bgcolor": "#E5ECF6",
           "radialaxis": {
            "gridcolor": "white",
            "linecolor": "white",
            "ticks": ""
           }
          },
          "scene": {
           "xaxis": {
            "backgroundcolor": "#E5ECF6",
            "gridcolor": "white",
            "gridwidth": 2,
            "linecolor": "white",
            "showbackground": true,
            "ticks": "",
            "zerolinecolor": "white"
           },
           "yaxis": {
            "backgroundcolor": "#E5ECF6",
            "gridcolor": "white",
            "gridwidth": 2,
            "linecolor": "white",
            "showbackground": true,
            "ticks": "",
            "zerolinecolor": "white"
           },
           "zaxis": {
            "backgroundcolor": "#E5ECF6",
            "gridcolor": "white",
            "gridwidth": 2,
            "linecolor": "white",
            "showbackground": true,
            "ticks": "",
            "zerolinecolor": "white"
           }
          },
          "shapedefaults": {
           "line": {
            "color": "#2a3f5f"
           }
          },
          "ternary": {
           "aaxis": {
            "gridcolor": "white",
            "linecolor": "white",
            "ticks": ""
           },
           "baxis": {
            "gridcolor": "white",
            "linecolor": "white",
            "ticks": ""
           },
           "bgcolor": "#E5ECF6",
           "caxis": {
            "gridcolor": "white",
            "linecolor": "white",
            "ticks": ""
           }
          },
          "title": {
           "x": 0.05
          },
          "xaxis": {
           "automargin": true,
           "gridcolor": "white",
           "linecolor": "white",
           "ticks": "",
           "title": {
            "standoff": 15
           },
           "zerolinecolor": "white",
           "zerolinewidth": 2
          },
          "yaxis": {
           "automargin": true,
           "gridcolor": "white",
           "linecolor": "white",
           "ticks": "",
           "title": {
            "standoff": 15
           },
           "zerolinecolor": "white",
           "zerolinewidth": 2
          }
         }
        },
        "title": {
         "text": "Proportions de l'impact carbone de chaque ingrédient"
        }
       }
      }
     },
     "metadata": {},
     "output_type": "display_data"
    }
   ],
   "source": [
    "data = go.Pie(labels=fusion[\"ingredient\"], values=fusion[\"Impact Carbone de l'ingrédient\"], marker=dict(colors=couleur))\n",
    "layout = go.Layout(title=\"Proportions de l'impact carbone de chaque ingrédient\")\n",
    "\n",
    "fig = go.Figure(data=[data], layout=layout)\n",
    "iplot(fig)\n"
   ]
  }
 ],
 "metadata": {
  "kernelspec": {
   "display_name": "Cook",
   "language": "python",
   "name": "python3"
  },
  "language_info": {
   "codemirror_mode": {
    "name": "ipython",
    "version": 3
   },
   "file_extension": ".py",
   "mimetype": "text/x-python",
   "name": "python",
   "nbconvert_exporter": "python",
   "pygments_lexer": "ipython3",
   "version": "3.11.3"
  },
  "orig_nbformat": 4
 },
 "nbformat": 4,
 "nbformat_minor": 2
}

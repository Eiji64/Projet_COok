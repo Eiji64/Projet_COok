{
 "cells": [
  {
   "attachments": {},
   "cell_type": "markdown",
   "metadata": {},
   "source": [
    "## Import des bibilotheques"
   ]
  },
  {
   "cell_type": "code",
   "execution_count": 15,
   "metadata": {},
   "outputs": [],
   "source": [
    "import pandas as pd\n",
    "\n",
    "from plotly.offline import iplot\n",
    "import plotly.graph_objs as go\n",
    "import plotly.express as px\n",
    "from plotly.subplots import make_subplots\n",
    "\n"
   ]
  },
  {
   "attachments": {},
   "cell_type": "markdown",
   "metadata": {},
   "source": [
    "## J'importe mon csv "
   ]
  },
  {
   "cell_type": "code",
   "execution_count": 49,
   "metadata": {},
   "outputs": [],
   "source": [
    "df = pd.read_csv(\"datas/page_detail_etape.csv\")\n"
   ]
  },
  {
   "cell_type": "code",
   "execution_count": 50,
   "metadata": {},
   "outputs": [
    {
     "data": {
      "text/html": [
       "<div>\n",
       "<style scoped>\n",
       "    .dataframe tbody tr th:only-of-type {\n",
       "        vertical-align: middle;\n",
       "    }\n",
       "\n",
       "    .dataframe tbody tr th {\n",
       "        vertical-align: top;\n",
       "    }\n",
       "\n",
       "    .dataframe thead th {\n",
       "        text-align: right;\n",
       "    }\n",
       "</style>\n",
       "<table border=\"1\" class=\"dataframe\">\n",
       "  <thead>\n",
       "    <tr style=\"text-align: right;\">\n",
       "      <th></th>\n",
       "      <th>Code AGB</th>\n",
       "      <th>Code CIQUAL</th>\n",
       "      <th>Groupe d'aliment</th>\n",
       "      <th>Sous-groupe d'aliment</th>\n",
       "      <th>Nom du Produit en Français</th>\n",
       "      <th>LCI Name</th>\n",
       "      <th>Agriculture</th>\n",
       "      <th>Transformation</th>\n",
       "      <th>Emballage</th>\n",
       "      <th>Transport</th>\n",
       "      <th>Supermarché et distribution</th>\n",
       "      <th>Consommation</th>\n",
       "      <th>Total</th>\n",
       "    </tr>\n",
       "  </thead>\n",
       "  <tbody>\n",
       "    <tr>\n",
       "      <th>0</th>\n",
       "      <td>11084</td>\n",
       "      <td>11084</td>\n",
       "      <td>aides culinaires et ingrédients divers</td>\n",
       "      <td>algues</td>\n",
       "      <td>Agar (algue), cru</td>\n",
       "      <td>Seaweed, agar, raw</td>\n",
       "      <td>4.569259</td>\n",
       "      <td>1.492415</td>\n",
       "      <td>0.290252</td>\n",
       "      <td>0.384404</td>\n",
       "      <td>0.020135</td>\n",
       "      <td>0.009943</td>\n",
       "      <td>6.766407</td>\n",
       "    </tr>\n",
       "    <tr>\n",
       "      <th>1</th>\n",
       "      <td>11023</td>\n",
       "      <td>11023</td>\n",
       "      <td>aides culinaires et ingrédients divers</td>\n",
       "      <td>herbes</td>\n",
       "      <td>Ail séché, poudre</td>\n",
       "      <td>Garlic, powder, dried</td>\n",
       "      <td>0.066043</td>\n",
       "      <td>0.000000</td>\n",
       "      <td>0.478390</td>\n",
       "      <td>0.189268</td>\n",
       "      <td>0.015709</td>\n",
       "      <td>0.000000</td>\n",
       "      <td>0.749409</td>\n",
       "    </tr>\n",
       "    <tr>\n",
       "      <th>2</th>\n",
       "      <td>11000</td>\n",
       "      <td>11000</td>\n",
       "      <td>aides culinaires et ingrédients divers</td>\n",
       "      <td>herbes</td>\n",
       "      <td>Ail, cru</td>\n",
       "      <td>Garlic, fresh</td>\n",
       "      <td>0.082554</td>\n",
       "      <td>0.000000</td>\n",
       "      <td>0.000000</td>\n",
       "      <td>0.173563</td>\n",
       "      <td>0.019636</td>\n",
       "      <td>0.080370</td>\n",
       "      <td>0.356122</td>\n",
       "    </tr>\n",
       "    <tr>\n",
       "      <th>3</th>\n",
       "      <td>11093</td>\n",
       "      <td>11093</td>\n",
       "      <td>aides culinaires et ingrédients divers</td>\n",
       "      <td>herbes</td>\n",
       "      <td>Aneth, frais</td>\n",
       "      <td>Dill, fresh</td>\n",
       "      <td>0.222514</td>\n",
       "      <td>0.000000</td>\n",
       "      <td>0.329456</td>\n",
       "      <td>0.162968</td>\n",
       "      <td>0.019636</td>\n",
       "      <td>0.080370</td>\n",
       "      <td>0.814944</td>\n",
       "    </tr>\n",
       "    <tr>\n",
       "      <th>4</th>\n",
       "      <td>20995</td>\n",
       "      <td>20995</td>\n",
       "      <td>aides culinaires et ingrédients divers</td>\n",
       "      <td>algues</td>\n",
       "      <td>Ao-nori (Enteromorpha sp.), séchée ou déshydratée</td>\n",
       "      <td>Sea lettuce (Enteromorpha sp.), dried or dehyd...</td>\n",
       "      <td>4.569259</td>\n",
       "      <td>1.492415</td>\n",
       "      <td>0.290252</td>\n",
       "      <td>0.384404</td>\n",
       "      <td>0.020135</td>\n",
       "      <td>0.009943</td>\n",
       "      <td>6.766407</td>\n",
       "    </tr>\n",
       "  </tbody>\n",
       "</table>\n",
       "</div>"
      ],
      "text/plain": [
       "  Code AGB  Code CIQUAL                        Groupe d'aliment  \\\n",
       "0    11084        11084  aides culinaires et ingrédients divers   \n",
       "1    11023        11023  aides culinaires et ingrédients divers   \n",
       "2    11000        11000  aides culinaires et ingrédients divers   \n",
       "3    11093        11093  aides culinaires et ingrédients divers   \n",
       "4    20995        20995  aides culinaires et ingrédients divers   \n",
       "\n",
       "  Sous-groupe d'aliment                         Nom du Produit en Français  \\\n",
       "0                algues                                  Agar (algue), cru   \n",
       "1                herbes                                  Ail séché, poudre   \n",
       "2                herbes                                           Ail, cru   \n",
       "3                herbes                                       Aneth, frais   \n",
       "4                algues  Ao-nori (Enteromorpha sp.), séchée ou déshydratée   \n",
       "\n",
       "                                            LCI Name  Agriculture  \\\n",
       "0                                 Seaweed, agar, raw     4.569259   \n",
       "1                              Garlic, powder, dried     0.066043   \n",
       "2                                      Garlic, fresh     0.082554   \n",
       "3                                        Dill, fresh     0.222514   \n",
       "4  Sea lettuce (Enteromorpha sp.), dried or dehyd...     4.569259   \n",
       "\n",
       "   Transformation  Emballage  Transport  Supermarché et distribution  \\\n",
       "0        1.492415   0.290252   0.384404                     0.020135   \n",
       "1        0.000000   0.478390   0.189268                     0.015709   \n",
       "2        0.000000   0.000000   0.173563                     0.019636   \n",
       "3        0.000000   0.329456   0.162968                     0.019636   \n",
       "4        1.492415   0.290252   0.384404                     0.020135   \n",
       "\n",
       "   Consommation     Total  \n",
       "0      0.009943  6.766407  \n",
       "1      0.000000  0.749409  \n",
       "2      0.080370  0.356122  \n",
       "3      0.080370  0.814944  \n",
       "4      0.009943  6.766407  "
      ]
     },
     "execution_count": 50,
     "metadata": {},
     "output_type": "execute_result"
    }
   ],
   "source": [
    "# Pour supprimer la première colonne d'un DataFrame en Python, vous pouvez utiliser la méthode drop() en spécifiant le nom de la colonne à supprimer et l'argument axis=1 pour indiquer que vous souhaitez supprimer une colonne. Voici comment vous pouvez procéder :\n",
    "\n",
    "# python\n",
    "\n",
    "#df = df.drop(df.columns[0], axis=1)\n",
    "df.head()"
   ]
  },
  {
   "cell_type": "code",
   "execution_count": 19,
   "metadata": {},
   "outputs": [
    {
     "data": {
      "text/plain": [
       "Index(['Code AGB', 'Code CIQUAL', 'Groupe d'aliment', 'Sous-groupe d'aliment',\n",
       "       'Nom du Produit en Français', 'LCI Name', 'Agriculture',\n",
       "       'Transformation', 'Emballage', 'Transport',\n",
       "       'Supermarché et distribution', 'Consommation', 'Total'],\n",
       "      dtype='object')"
      ]
     },
     "execution_count": 19,
     "metadata": {},
     "output_type": "execute_result"
    }
   ],
   "source": [
    "df.columns"
   ]
  },
  {
   "attachments": {},
   "cell_type": "markdown",
   "metadata": {},
   "source": [
    "### Comparaison de l'impact moyen d'un indicateur écologique en fonction de l'étape de production pour chaque catégorie d'aliment."
   ]
  },
  {
   "cell_type": "code",
   "execution_count": 51,
   "metadata": {},
   "outputs": [
    {
     "data": {
      "text/html": [
       "<div>\n",
       "<style scoped>\n",
       "    .dataframe tbody tr th:only-of-type {\n",
       "        vertical-align: middle;\n",
       "    }\n",
       "\n",
       "    .dataframe tbody tr th {\n",
       "        vertical-align: top;\n",
       "    }\n",
       "\n",
       "    .dataframe thead th {\n",
       "        text-align: right;\n",
       "    }\n",
       "</style>\n",
       "<table border=\"1\" class=\"dataframe\">\n",
       "  <thead>\n",
       "    <tr style=\"text-align: right;\">\n",
       "      <th></th>\n",
       "      <th>Agriculture</th>\n",
       "      <th>Transformation</th>\n",
       "      <th>Emballage</th>\n",
       "      <th>Transport</th>\n",
       "      <th>Supermarché et distribution</th>\n",
       "      <th>Consommation</th>\n",
       "      <th>Total</th>\n",
       "    </tr>\n",
       "    <tr>\n",
       "      <th>Groupe d'aliment</th>\n",
       "      <th></th>\n",
       "      <th></th>\n",
       "      <th></th>\n",
       "      <th></th>\n",
       "      <th></th>\n",
       "      <th></th>\n",
       "      <th></th>\n",
       "    </tr>\n",
       "  </thead>\n",
       "  <tbody>\n",
       "    <tr>\n",
       "      <th>aides culinaires et ingrédients divers</th>\n",
       "      <td>2.031066</td>\n",
       "      <td>0.538959</td>\n",
       "      <td>0.299062</td>\n",
       "      <td>0.235792</td>\n",
       "      <td>0.025990</td>\n",
       "      <td>0.011558</td>\n",
       "      <td>3.142427</td>\n",
       "    </tr>\n",
       "    <tr>\n",
       "      <th>aliments infantiles</th>\n",
       "      <td>1.620546</td>\n",
       "      <td>0.413626</td>\n",
       "      <td>0.180929</td>\n",
       "      <td>0.161804</td>\n",
       "      <td>0.019906</td>\n",
       "      <td>0.006430</td>\n",
       "      <td>2.403242</td>\n",
       "    </tr>\n",
       "    <tr>\n",
       "      <th>boissons</th>\n",
       "      <td>0.605000</td>\n",
       "      <td>0.517809</td>\n",
       "      <td>0.208404</td>\n",
       "      <td>0.170390</td>\n",
       "      <td>0.020806</td>\n",
       "      <td>0.004367</td>\n",
       "      <td>1.526776</td>\n",
       "    </tr>\n",
       "    <tr>\n",
       "      <th>entrées et plats composés</th>\n",
       "      <td>3.659338</td>\n",
       "      <td>0.354920</td>\n",
       "      <td>0.193881</td>\n",
       "      <td>0.284142</td>\n",
       "      <td>0.031671</td>\n",
       "      <td>0.040799</td>\n",
       "      <td>4.564751</td>\n",
       "    </tr>\n",
       "    <tr>\n",
       "      <th>fruits, légumes, légumineuses et oléagineux</th>\n",
       "      <td>0.657662</td>\n",
       "      <td>0.114214</td>\n",
       "      <td>0.180453</td>\n",
       "      <td>0.318938</td>\n",
       "      <td>0.034118</td>\n",
       "      <td>0.080976</td>\n",
       "      <td>1.386362</td>\n",
       "    </tr>\n",
       "    <tr>\n",
       "      <th>glaces et sorbets</th>\n",
       "      <td>0.995903</td>\n",
       "      <td>0.298704</td>\n",
       "      <td>0.183951</td>\n",
       "      <td>0.206351</td>\n",
       "      <td>0.064524</td>\n",
       "      <td>0.025304</td>\n",
       "      <td>1.774739</td>\n",
       "    </tr>\n",
       "    <tr>\n",
       "      <th>lait et produits laitiers</th>\n",
       "      <td>3.431258</td>\n",
       "      <td>0.412786</td>\n",
       "      <td>0.220547</td>\n",
       "      <td>0.210364</td>\n",
       "      <td>0.033761</td>\n",
       "      <td>0.006088</td>\n",
       "      <td>4.314804</td>\n",
       "    </tr>\n",
       "    <tr>\n",
       "      <th>matières grasses</th>\n",
       "      <td>2.830651</td>\n",
       "      <td>0.624718</td>\n",
       "      <td>0.188152</td>\n",
       "      <td>0.285022</td>\n",
       "      <td>0.029667</td>\n",
       "      <td>0.004060</td>\n",
       "      <td>3.962271</td>\n",
       "    </tr>\n",
       "    <tr>\n",
       "      <th>produits céréaliers</th>\n",
       "      <td>1.513876</td>\n",
       "      <td>0.591245</td>\n",
       "      <td>0.195568</td>\n",
       "      <td>0.165044</td>\n",
       "      <td>0.017868</td>\n",
       "      <td>0.009669</td>\n",
       "      <td>2.493270</td>\n",
       "    </tr>\n",
       "    <tr>\n",
       "      <th>produits sucrés</th>\n",
       "      <td>1.674982</td>\n",
       "      <td>4.609929</td>\n",
       "      <td>0.184307</td>\n",
       "      <td>0.222138</td>\n",
       "      <td>0.017757</td>\n",
       "      <td>0.000883</td>\n",
       "      <td>6.709996</td>\n",
       "    </tr>\n",
       "    <tr>\n",
       "      <th>viandes, œufs, poissons</th>\n",
       "      <td>11.332831</td>\n",
       "      <td>0.428253</td>\n",
       "      <td>0.402606</td>\n",
       "      <td>0.538952</td>\n",
       "      <td>0.042495</td>\n",
       "      <td>0.081368</td>\n",
       "      <td>12.826505</td>\n",
       "    </tr>\n",
       "  </tbody>\n",
       "</table>\n",
       "</div>"
      ],
      "text/plain": [
       "                                             Agriculture  Transformation  \\\n",
       "Groupe d'aliment                                                           \n",
       "aides culinaires et ingrédients divers          2.031066        0.538959   \n",
       "aliments infantiles                             1.620546        0.413626   \n",
       "boissons                                        0.605000        0.517809   \n",
       "entrées et plats composés                       3.659338        0.354920   \n",
       "fruits, légumes, légumineuses et oléagineux     0.657662        0.114214   \n",
       "glaces et sorbets                               0.995903        0.298704   \n",
       "lait et produits laitiers                       3.431258        0.412786   \n",
       "matières grasses                                2.830651        0.624718   \n",
       "produits céréaliers                             1.513876        0.591245   \n",
       "produits sucrés                                 1.674982        4.609929   \n",
       "viandes, œufs, poissons                        11.332831        0.428253   \n",
       "\n",
       "                                             Emballage  Transport  \\\n",
       "Groupe d'aliment                                                    \n",
       "aides culinaires et ingrédients divers        0.299062   0.235792   \n",
       "aliments infantiles                           0.180929   0.161804   \n",
       "boissons                                      0.208404   0.170390   \n",
       "entrées et plats composés                     0.193881   0.284142   \n",
       "fruits, légumes, légumineuses et oléagineux   0.180453   0.318938   \n",
       "glaces et sorbets                             0.183951   0.206351   \n",
       "lait et produits laitiers                     0.220547   0.210364   \n",
       "matières grasses                              0.188152   0.285022   \n",
       "produits céréaliers                           0.195568   0.165044   \n",
       "produits sucrés                               0.184307   0.222138   \n",
       "viandes, œufs, poissons                       0.402606   0.538952   \n",
       "\n",
       "                                             Supermarché et distribution  \\\n",
       "Groupe d'aliment                                                           \n",
       "aides culinaires et ingrédients divers                          0.025990   \n",
       "aliments infantiles                                             0.019906   \n",
       "boissons                                                        0.020806   \n",
       "entrées et plats composés                                       0.031671   \n",
       "fruits, légumes, légumineuses et oléagineux                     0.034118   \n",
       "glaces et sorbets                                               0.064524   \n",
       "lait et produits laitiers                                       0.033761   \n",
       "matières grasses                                                0.029667   \n",
       "produits céréaliers                                             0.017868   \n",
       "produits sucrés                                                 0.017757   \n",
       "viandes, œufs, poissons                                         0.042495   \n",
       "\n",
       "                                             Consommation      Total  \n",
       "Groupe d'aliment                                                      \n",
       "aides culinaires et ingrédients divers           0.011558   3.142427  \n",
       "aliments infantiles                              0.006430   2.403242  \n",
       "boissons                                         0.004367   1.526776  \n",
       "entrées et plats composés                        0.040799   4.564751  \n",
       "fruits, légumes, légumineuses et oléagineux      0.080976   1.386362  \n",
       "glaces et sorbets                                0.025304   1.774739  \n",
       "lait et produits laitiers                        0.006088   4.314804  \n",
       "matières grasses                                 0.004060   3.962271  \n",
       "produits céréaliers                              0.009669   2.493270  \n",
       "produits sucrés                                  0.000883   6.709996  \n",
       "viandes, œufs, poissons                          0.081368  12.826505  "
      ]
     },
     "execution_count": 51,
     "metadata": {},
     "output_type": "execute_result"
    }
   ],
   "source": [
    "df_CO2_groupe = df.groupby(\"Groupe d'aliment\")[['Agriculture', 'Transformation', 'Emballage', 'Transport','Supermarché et distribution', 'Consommation', 'Total']].mean()\n",
    "df_CO2_groupe"
   ]
  },
  {
   "attachments": {},
   "cell_type": "markdown",
   "metadata": {},
   "source": [
    "Groupe d'aliment apparait ici en index et pas vraiment en colonne, on peut le retransformer en colonne"
   ]
  },
  {
   "cell_type": "code",
   "execution_count": 52,
   "metadata": {},
   "outputs": [
    {
     "data": {
      "text/html": [
       "<div>\n",
       "<style scoped>\n",
       "    .dataframe tbody tr th:only-of-type {\n",
       "        vertical-align: middle;\n",
       "    }\n",
       "\n",
       "    .dataframe tbody tr th {\n",
       "        vertical-align: top;\n",
       "    }\n",
       "\n",
       "    .dataframe thead th {\n",
       "        text-align: right;\n",
       "    }\n",
       "</style>\n",
       "<table border=\"1\" class=\"dataframe\">\n",
       "  <thead>\n",
       "    <tr style=\"text-align: right;\">\n",
       "      <th></th>\n",
       "      <th>Groupe d'aliment</th>\n",
       "      <th>Agriculture</th>\n",
       "      <th>Transformation</th>\n",
       "      <th>Emballage</th>\n",
       "      <th>Transport</th>\n",
       "      <th>Supermarché et distribution</th>\n",
       "      <th>Consommation</th>\n",
       "      <th>Total</th>\n",
       "    </tr>\n",
       "  </thead>\n",
       "  <tbody>\n",
       "    <tr>\n",
       "      <th>0</th>\n",
       "      <td>aides culinaires et ingrédients divers</td>\n",
       "      <td>2.031066</td>\n",
       "      <td>0.538959</td>\n",
       "      <td>0.299062</td>\n",
       "      <td>0.235792</td>\n",
       "      <td>0.025990</td>\n",
       "      <td>0.011558</td>\n",
       "      <td>3.142427</td>\n",
       "    </tr>\n",
       "    <tr>\n",
       "      <th>1</th>\n",
       "      <td>aliments infantiles</td>\n",
       "      <td>1.620546</td>\n",
       "      <td>0.413626</td>\n",
       "      <td>0.180929</td>\n",
       "      <td>0.161804</td>\n",
       "      <td>0.019906</td>\n",
       "      <td>0.006430</td>\n",
       "      <td>2.403242</td>\n",
       "    </tr>\n",
       "    <tr>\n",
       "      <th>2</th>\n",
       "      <td>boissons</td>\n",
       "      <td>0.605000</td>\n",
       "      <td>0.517809</td>\n",
       "      <td>0.208404</td>\n",
       "      <td>0.170390</td>\n",
       "      <td>0.020806</td>\n",
       "      <td>0.004367</td>\n",
       "      <td>1.526776</td>\n",
       "    </tr>\n",
       "    <tr>\n",
       "      <th>3</th>\n",
       "      <td>entrées et plats composés</td>\n",
       "      <td>3.659338</td>\n",
       "      <td>0.354920</td>\n",
       "      <td>0.193881</td>\n",
       "      <td>0.284142</td>\n",
       "      <td>0.031671</td>\n",
       "      <td>0.040799</td>\n",
       "      <td>4.564751</td>\n",
       "    </tr>\n",
       "    <tr>\n",
       "      <th>4</th>\n",
       "      <td>fruits, légumes, légumineuses et oléagineux</td>\n",
       "      <td>0.657662</td>\n",
       "      <td>0.114214</td>\n",
       "      <td>0.180453</td>\n",
       "      <td>0.318938</td>\n",
       "      <td>0.034118</td>\n",
       "      <td>0.080976</td>\n",
       "      <td>1.386362</td>\n",
       "    </tr>\n",
       "    <tr>\n",
       "      <th>5</th>\n",
       "      <td>glaces et sorbets</td>\n",
       "      <td>0.995903</td>\n",
       "      <td>0.298704</td>\n",
       "      <td>0.183951</td>\n",
       "      <td>0.206351</td>\n",
       "      <td>0.064524</td>\n",
       "      <td>0.025304</td>\n",
       "      <td>1.774739</td>\n",
       "    </tr>\n",
       "    <tr>\n",
       "      <th>6</th>\n",
       "      <td>lait et produits laitiers</td>\n",
       "      <td>3.431258</td>\n",
       "      <td>0.412786</td>\n",
       "      <td>0.220547</td>\n",
       "      <td>0.210364</td>\n",
       "      <td>0.033761</td>\n",
       "      <td>0.006088</td>\n",
       "      <td>4.314804</td>\n",
       "    </tr>\n",
       "    <tr>\n",
       "      <th>7</th>\n",
       "      <td>matières grasses</td>\n",
       "      <td>2.830651</td>\n",
       "      <td>0.624718</td>\n",
       "      <td>0.188152</td>\n",
       "      <td>0.285022</td>\n",
       "      <td>0.029667</td>\n",
       "      <td>0.004060</td>\n",
       "      <td>3.962271</td>\n",
       "    </tr>\n",
       "    <tr>\n",
       "      <th>8</th>\n",
       "      <td>produits céréaliers</td>\n",
       "      <td>1.513876</td>\n",
       "      <td>0.591245</td>\n",
       "      <td>0.195568</td>\n",
       "      <td>0.165044</td>\n",
       "      <td>0.017868</td>\n",
       "      <td>0.009669</td>\n",
       "      <td>2.493270</td>\n",
       "    </tr>\n",
       "    <tr>\n",
       "      <th>9</th>\n",
       "      <td>produits sucrés</td>\n",
       "      <td>1.674982</td>\n",
       "      <td>4.609929</td>\n",
       "      <td>0.184307</td>\n",
       "      <td>0.222138</td>\n",
       "      <td>0.017757</td>\n",
       "      <td>0.000883</td>\n",
       "      <td>6.709996</td>\n",
       "    </tr>\n",
       "    <tr>\n",
       "      <th>10</th>\n",
       "      <td>viandes, œufs, poissons</td>\n",
       "      <td>11.332831</td>\n",
       "      <td>0.428253</td>\n",
       "      <td>0.402606</td>\n",
       "      <td>0.538952</td>\n",
       "      <td>0.042495</td>\n",
       "      <td>0.081368</td>\n",
       "      <td>12.826505</td>\n",
       "    </tr>\n",
       "  </tbody>\n",
       "</table>\n",
       "</div>"
      ],
      "text/plain": [
       "                               Groupe d'aliment  Agriculture  Transformation  \\\n",
       "0        aides culinaires et ingrédients divers     2.031066        0.538959   \n",
       "1                           aliments infantiles     1.620546        0.413626   \n",
       "2                                      boissons     0.605000        0.517809   \n",
       "3                     entrées et plats composés     3.659338        0.354920   \n",
       "4   fruits, légumes, légumineuses et oléagineux     0.657662        0.114214   \n",
       "5                             glaces et sorbets     0.995903        0.298704   \n",
       "6                     lait et produits laitiers     3.431258        0.412786   \n",
       "7                              matières grasses     2.830651        0.624718   \n",
       "8                           produits céréaliers     1.513876        0.591245   \n",
       "9                               produits sucrés     1.674982        4.609929   \n",
       "10                      viandes, œufs, poissons    11.332831        0.428253   \n",
       "\n",
       "    Emballage  Transport  Supermarché et distribution  Consommation      Total  \n",
       "0    0.299062   0.235792                     0.025990      0.011558   3.142427  \n",
       "1    0.180929   0.161804                     0.019906      0.006430   2.403242  \n",
       "2    0.208404   0.170390                     0.020806      0.004367   1.526776  \n",
       "3    0.193881   0.284142                     0.031671      0.040799   4.564751  \n",
       "4    0.180453   0.318938                     0.034118      0.080976   1.386362  \n",
       "5    0.183951   0.206351                     0.064524      0.025304   1.774739  \n",
       "6    0.220547   0.210364                     0.033761      0.006088   4.314804  \n",
       "7    0.188152   0.285022                     0.029667      0.004060   3.962271  \n",
       "8    0.195568   0.165044                     0.017868      0.009669   2.493270  \n",
       "9    0.184307   0.222138                     0.017757      0.000883   6.709996  \n",
       "10   0.402606   0.538952                     0.042495      0.081368  12.826505  "
      ]
     },
     "execution_count": 52,
     "metadata": {},
     "output_type": "execute_result"
    }
   ],
   "source": [
    "df_CO2_groupe.reset_index(inplace=True)\n",
    "df_CO2_groupe"
   ]
  },
  {
   "attachments": {},
   "cell_type": "markdown",
   "metadata": {},
   "source": [
    "On peut simplifier le dataframe en \"fondant\" dans une seule colonne toutes les étapes (de production) et leurs valeurs (de Co2 émis) respectives"
   ]
  },
  {
   "cell_type": "code",
   "execution_count": 53,
   "metadata": {},
   "outputs": [
    {
     "data": {
      "text/html": [
       "<div>\n",
       "<style scoped>\n",
       "    .dataframe tbody tr th:only-of-type {\n",
       "        vertical-align: middle;\n",
       "    }\n",
       "\n",
       "    .dataframe tbody tr th {\n",
       "        vertical-align: top;\n",
       "    }\n",
       "\n",
       "    .dataframe thead th {\n",
       "        text-align: right;\n",
       "    }\n",
       "</style>\n",
       "<table border=\"1\" class=\"dataframe\">\n",
       "  <thead>\n",
       "    <tr style=\"text-align: right;\">\n",
       "      <th></th>\n",
       "      <th>Groupe d'aliment</th>\n",
       "      <th>etape</th>\n",
       "      <th>value</th>\n",
       "    </tr>\n",
       "  </thead>\n",
       "  <tbody>\n",
       "    <tr>\n",
       "      <th>0</th>\n",
       "      <td>aides culinaires et ingrédients divers</td>\n",
       "      <td>Agriculture</td>\n",
       "      <td>2.031066</td>\n",
       "    </tr>\n",
       "    <tr>\n",
       "      <th>1</th>\n",
       "      <td>aliments infantiles</td>\n",
       "      <td>Agriculture</td>\n",
       "      <td>1.620546</td>\n",
       "    </tr>\n",
       "    <tr>\n",
       "      <th>2</th>\n",
       "      <td>boissons</td>\n",
       "      <td>Agriculture</td>\n",
       "      <td>0.605000</td>\n",
       "    </tr>\n",
       "    <tr>\n",
       "      <th>3</th>\n",
       "      <td>entrées et plats composés</td>\n",
       "      <td>Agriculture</td>\n",
       "      <td>3.659338</td>\n",
       "    </tr>\n",
       "    <tr>\n",
       "      <th>4</th>\n",
       "      <td>fruits, légumes, légumineuses et oléagineux</td>\n",
       "      <td>Agriculture</td>\n",
       "      <td>0.657662</td>\n",
       "    </tr>\n",
       "    <tr>\n",
       "      <th>...</th>\n",
       "      <td>...</td>\n",
       "      <td>...</td>\n",
       "      <td>...</td>\n",
       "    </tr>\n",
       "    <tr>\n",
       "      <th>72</th>\n",
       "      <td>lait et produits laitiers</td>\n",
       "      <td>Total</td>\n",
       "      <td>4.314804</td>\n",
       "    </tr>\n",
       "    <tr>\n",
       "      <th>73</th>\n",
       "      <td>matières grasses</td>\n",
       "      <td>Total</td>\n",
       "      <td>3.962271</td>\n",
       "    </tr>\n",
       "    <tr>\n",
       "      <th>74</th>\n",
       "      <td>produits céréaliers</td>\n",
       "      <td>Total</td>\n",
       "      <td>2.493270</td>\n",
       "    </tr>\n",
       "    <tr>\n",
       "      <th>75</th>\n",
       "      <td>produits sucrés</td>\n",
       "      <td>Total</td>\n",
       "      <td>6.709996</td>\n",
       "    </tr>\n",
       "    <tr>\n",
       "      <th>76</th>\n",
       "      <td>viandes, œufs, poissons</td>\n",
       "      <td>Total</td>\n",
       "      <td>12.826505</td>\n",
       "    </tr>\n",
       "  </tbody>\n",
       "</table>\n",
       "<p>77 rows × 3 columns</p>\n",
       "</div>"
      ],
      "text/plain": [
       "                               Groupe d'aliment        etape      value\n",
       "0        aides culinaires et ingrédients divers  Agriculture   2.031066\n",
       "1                           aliments infantiles  Agriculture   1.620546\n",
       "2                                      boissons  Agriculture   0.605000\n",
       "3                     entrées et plats composés  Agriculture   3.659338\n",
       "4   fruits, légumes, légumineuses et oléagineux  Agriculture   0.657662\n",
       "..                                          ...          ...        ...\n",
       "72                    lait et produits laitiers        Total   4.314804\n",
       "73                             matières grasses        Total   3.962271\n",
       "74                          produits céréaliers        Total   2.493270\n",
       "75                              produits sucrés        Total   6.709996\n",
       "76                      viandes, œufs, poissons        Total  12.826505\n",
       "\n",
       "[77 rows x 3 columns]"
      ]
     },
     "execution_count": 53,
     "metadata": {},
     "output_type": "execute_result"
    }
   ],
   "source": [
    "variables_CO2 = [\"Agriculture\", \"Transformation\", \"Emballage\", \"Transport\", \"Supermarché et distribution\", \"Consommation\",\"Total\"]\n",
    "df_CO2_groupe = pd.melt(df_CO2_groupe, id_vars=[\"Groupe d'aliment\"], value_vars=variables_CO2, var_name=\"etape\", value_name=\"value\")\n",
    "df_CO2_groupe"
   ]
  },
  {
   "attachments": {},
   "cell_type": "markdown",
   "metadata": {},
   "source": [
    "### De même, mais cette fois en prenant en compte la variabilité au sein des groupes d'aliments."
   ]
  },
  {
   "cell_type": "code",
   "execution_count": 14,
   "metadata": {},
   "outputs": [
    {
     "data": {
      "text/html": [
       "<div>\n",
       "<style scoped>\n",
       "    .dataframe tbody tr th:only-of-type {\n",
       "        vertical-align: middle;\n",
       "    }\n",
       "\n",
       "    .dataframe tbody tr th {\n",
       "        vertical-align: top;\n",
       "    }\n",
       "\n",
       "    .dataframe thead th {\n",
       "        text-align: right;\n",
       "    }\n",
       "</style>\n",
       "<table border=\"1\" class=\"dataframe\">\n",
       "  <thead>\n",
       "    <tr style=\"text-align: right;\">\n",
       "      <th></th>\n",
       "      <th>Agriculture</th>\n",
       "      <th>Transformation</th>\n",
       "      <th>Emballage</th>\n",
       "      <th>Transport</th>\n",
       "      <th>Supermarché et distribution</th>\n",
       "      <th>Consommation</th>\n",
       "      <th>Total</th>\n",
       "    </tr>\n",
       "    <tr>\n",
       "      <th>Groupe d'aliment</th>\n",
       "      <th></th>\n",
       "      <th></th>\n",
       "      <th></th>\n",
       "      <th></th>\n",
       "      <th></th>\n",
       "      <th></th>\n",
       "      <th></th>\n",
       "    </tr>\n",
       "  </thead>\n",
       "  <tbody>\n",
       "    <tr>\n",
       "      <th>aides culinaires et ingrédients divers</th>\n",
       "      <td>2.441324</td>\n",
       "      <td>1.081707</td>\n",
       "      <td>0.223228</td>\n",
       "      <td>0.083529</td>\n",
       "      <td>0.010890</td>\n",
       "      <td>0.018703</td>\n",
       "      <td>2.803268</td>\n",
       "    </tr>\n",
       "    <tr>\n",
       "      <th>aliments infantiles</th>\n",
       "      <td>3.375453</td>\n",
       "      <td>0.997646</td>\n",
       "      <td>0.033386</td>\n",
       "      <td>0.044379</td>\n",
       "      <td>0.004285</td>\n",
       "      <td>0.005365</td>\n",
       "      <td>3.431455</td>\n",
       "    </tr>\n",
       "    <tr>\n",
       "      <th>boissons</th>\n",
       "      <td>2.311834</td>\n",
       "      <td>2.613026</td>\n",
       "      <td>0.154466</td>\n",
       "      <td>0.095845</td>\n",
       "      <td>0.011783</td>\n",
       "      <td>0.011533</td>\n",
       "      <td>4.525577</td>\n",
       "    </tr>\n",
       "    <tr>\n",
       "      <th>entrées et plats composés</th>\n",
       "      <td>4.886019</td>\n",
       "      <td>0.209878</td>\n",
       "      <td>0.104008</td>\n",
       "      <td>0.220444</td>\n",
       "      <td>0.013166</td>\n",
       "      <td>0.041087</td>\n",
       "      <td>4.954365</td>\n",
       "    </tr>\n",
       "    <tr>\n",
       "      <th>fruits, légumes, légumineuses et oléagineux</th>\n",
       "      <td>0.933562</td>\n",
       "      <td>0.341393</td>\n",
       "      <td>0.159757</td>\n",
       "      <td>0.580183</td>\n",
       "      <td>0.033206</td>\n",
       "      <td>0.104824</td>\n",
       "      <td>1.312605</td>\n",
       "    </tr>\n",
       "    <tr>\n",
       "      <th>glaces et sorbets</th>\n",
       "      <td>0.302727</td>\n",
       "      <td>0.356981</td>\n",
       "      <td>0.016435</td>\n",
       "      <td>0.029532</td>\n",
       "      <td>0.000000</td>\n",
       "      <td>0.000000</td>\n",
       "      <td>0.488751</td>\n",
       "    </tr>\n",
       "    <tr>\n",
       "      <th>lait et produits laitiers</th>\n",
       "      <td>2.335918</td>\n",
       "      <td>0.817965</td>\n",
       "      <td>0.046028</td>\n",
       "      <td>0.036947</td>\n",
       "      <td>0.006305</td>\n",
       "      <td>0.001915</td>\n",
       "      <td>2.440263</td>\n",
       "    </tr>\n",
       "    <tr>\n",
       "      <th>matières grasses</th>\n",
       "      <td>2.309400</td>\n",
       "      <td>2.549584</td>\n",
       "      <td>0.065021</td>\n",
       "      <td>0.106950</td>\n",
       "      <td>0.010423</td>\n",
       "      <td>0.003296</td>\n",
       "      <td>3.777839</td>\n",
       "    </tr>\n",
       "    <tr>\n",
       "      <th>produits céréaliers</th>\n",
       "      <td>0.989220</td>\n",
       "      <td>1.053258</td>\n",
       "      <td>0.100257</td>\n",
       "      <td>0.058114</td>\n",
       "      <td>0.009450</td>\n",
       "      <td>0.030934</td>\n",
       "      <td>1.661558</td>\n",
       "    </tr>\n",
       "    <tr>\n",
       "      <th>produits sucrés</th>\n",
       "      <td>1.422639</td>\n",
       "      <td>5.064157</td>\n",
       "      <td>0.150490</td>\n",
       "      <td>0.067513</td>\n",
       "      <td>0.001492</td>\n",
       "      <td>0.002286</td>\n",
       "      <td>5.792033</td>\n",
       "    </tr>\n",
       "    <tr>\n",
       "      <th>viandes, œufs, poissons</th>\n",
       "      <td>11.385244</td>\n",
       "      <td>0.682679</td>\n",
       "      <td>0.601109</td>\n",
       "      <td>0.704628</td>\n",
       "      <td>0.017533</td>\n",
       "      <td>0.159496</td>\n",
       "      <td>11.259289</td>\n",
       "    </tr>\n",
       "  </tbody>\n",
       "</table>\n",
       "</div>"
      ],
      "text/plain": [
       "                                             Agriculture  Transformation  \\\n",
       "Groupe d'aliment                                                           \n",
       "aides culinaires et ingrédients divers          2.441324        1.081707   \n",
       "aliments infantiles                             3.375453        0.997646   \n",
       "boissons                                        2.311834        2.613026   \n",
       "entrées et plats composés                       4.886019        0.209878   \n",
       "fruits, légumes, légumineuses et oléagineux     0.933562        0.341393   \n",
       "glaces et sorbets                               0.302727        0.356981   \n",
       "lait et produits laitiers                       2.335918        0.817965   \n",
       "matières grasses                                2.309400        2.549584   \n",
       "produits céréaliers                             0.989220        1.053258   \n",
       "produits sucrés                                 1.422639        5.064157   \n",
       "viandes, œufs, poissons                        11.385244        0.682679   \n",
       "\n",
       "                                             Emballage  Transport  \\\n",
       "Groupe d'aliment                                                    \n",
       "aides culinaires et ingrédients divers        0.223228   0.083529   \n",
       "aliments infantiles                           0.033386   0.044379   \n",
       "boissons                                      0.154466   0.095845   \n",
       "entrées et plats composés                     0.104008   0.220444   \n",
       "fruits, légumes, légumineuses et oléagineux   0.159757   0.580183   \n",
       "glaces et sorbets                             0.016435   0.029532   \n",
       "lait et produits laitiers                     0.046028   0.036947   \n",
       "matières grasses                              0.065021   0.106950   \n",
       "produits céréaliers                           0.100257   0.058114   \n",
       "produits sucrés                               0.150490   0.067513   \n",
       "viandes, œufs, poissons                       0.601109   0.704628   \n",
       "\n",
       "                                             Supermarché et distribution  \\\n",
       "Groupe d'aliment                                                           \n",
       "aides culinaires et ingrédients divers                          0.010890   \n",
       "aliments infantiles                                             0.004285   \n",
       "boissons                                                        0.011783   \n",
       "entrées et plats composés                                       0.013166   \n",
       "fruits, légumes, légumineuses et oléagineux                     0.033206   \n",
       "glaces et sorbets                                               0.000000   \n",
       "lait et produits laitiers                                       0.006305   \n",
       "matières grasses                                                0.010423   \n",
       "produits céréaliers                                             0.009450   \n",
       "produits sucrés                                                 0.001492   \n",
       "viandes, œufs, poissons                                         0.017533   \n",
       "\n",
       "                                             Consommation      Total  \n",
       "Groupe d'aliment                                                      \n",
       "aides culinaires et ingrédients divers           0.018703   2.803268  \n",
       "aliments infantiles                              0.005365   3.431455  \n",
       "boissons                                         0.011533   4.525577  \n",
       "entrées et plats composés                        0.041087   4.954365  \n",
       "fruits, légumes, légumineuses et oléagineux      0.104824   1.312605  \n",
       "glaces et sorbets                                0.000000   0.488751  \n",
       "lait et produits laitiers                        0.001915   2.440263  \n",
       "matières grasses                                 0.003296   3.777839  \n",
       "produits céréaliers                              0.030934   1.661558  \n",
       "produits sucrés                                  0.002286   5.792033  \n",
       "viandes, œufs, poissons                          0.159496  11.259289  "
      ]
     },
     "execution_count": 14,
     "metadata": {},
     "output_type": "execute_result"
    }
   ],
   "source": [
    "df.groupby(\"Groupe d'aliment\")[['Agriculture', 'Transformation', 'Emballage', 'Transport','Supermarché et distribution', 'Consommation', 'Total']].std()       "
   ]
  },
  {
   "attachments": {},
   "cell_type": "markdown",
   "metadata": {},
   "source": [
    "### Réalisez un zoom sur la catégorie \"viandes, œufs, poissons\""
   ]
  },
  {
   "cell_type": "code",
   "execution_count": 85,
   "metadata": {},
   "outputs": [
    {
     "data": {
      "text/html": [
       "<div>\n",
       "<style scoped>\n",
       "    .dataframe tbody tr th:only-of-type {\n",
       "        vertical-align: middle;\n",
       "    }\n",
       "\n",
       "    .dataframe tbody tr th {\n",
       "        vertical-align: top;\n",
       "    }\n",
       "\n",
       "    .dataframe thead th {\n",
       "        text-align: right;\n",
       "    }\n",
       "</style>\n",
       "<table border=\"1\" class=\"dataframe\">\n",
       "  <thead>\n",
       "    <tr style=\"text-align: right;\">\n",
       "      <th></th>\n",
       "      <th>Groupe d'aliment</th>\n",
       "      <th>etape</th>\n",
       "      <th>value</th>\n",
       "    </tr>\n",
       "  </thead>\n",
       "  <tbody>\n",
       "    <tr>\n",
       "      <th>10</th>\n",
       "      <td>viandes, œufs, poissons</td>\n",
       "      <td>Agriculture</td>\n",
       "      <td>11.332831</td>\n",
       "    </tr>\n",
       "    <tr>\n",
       "      <th>21</th>\n",
       "      <td>viandes, œufs, poissons</td>\n",
       "      <td>Transformation</td>\n",
       "      <td>0.428253</td>\n",
       "    </tr>\n",
       "    <tr>\n",
       "      <th>32</th>\n",
       "      <td>viandes, œufs, poissons</td>\n",
       "      <td>Emballage</td>\n",
       "      <td>0.402606</td>\n",
       "    </tr>\n",
       "    <tr>\n",
       "      <th>43</th>\n",
       "      <td>viandes, œufs, poissons</td>\n",
       "      <td>Transport</td>\n",
       "      <td>0.538952</td>\n",
       "    </tr>\n",
       "    <tr>\n",
       "      <th>54</th>\n",
       "      <td>viandes, œufs, poissons</td>\n",
       "      <td>Supermarché et distribution</td>\n",
       "      <td>0.042495</td>\n",
       "    </tr>\n",
       "    <tr>\n",
       "      <th>65</th>\n",
       "      <td>viandes, œufs, poissons</td>\n",
       "      <td>Consommation</td>\n",
       "      <td>0.081368</td>\n",
       "    </tr>\n",
       "    <tr>\n",
       "      <th>76</th>\n",
       "      <td>viandes, œufs, poissons</td>\n",
       "      <td>Total</td>\n",
       "      <td>12.826505</td>\n",
       "    </tr>\n",
       "  </tbody>\n",
       "</table>\n",
       "</div>"
      ],
      "text/plain": [
       "           Groupe d'aliment                        etape      value\n",
       "10  viandes, œufs, poissons                  Agriculture  11.332831\n",
       "21  viandes, œufs, poissons               Transformation   0.428253\n",
       "32  viandes, œufs, poissons                    Emballage   0.402606\n",
       "43  viandes, œufs, poissons                    Transport   0.538952\n",
       "54  viandes, œufs, poissons  Supermarché et distribution   0.042495\n",
       "65  viandes, œufs, poissons                 Consommation   0.081368\n",
       "76  viandes, œufs, poissons                        Total  12.826505"
      ]
     },
     "execution_count": 85,
     "metadata": {},
     "output_type": "execute_result"
    }
   ],
   "source": [
    "df_zoom_vop = df_CO2_groupe.loc[df_CO2_groupe['Groupe d\\'aliment'] == \"viandes, œufs, poissons\"]\n",
    "df_zoom_vop"
   ]
  },
  {
   "attachments": {},
   "cell_type": "markdown",
   "metadata": {},
   "source": [
    "### De même avec la sous-catégorie \"viande crues\""
   ]
  },
  {
   "cell_type": "code",
   "execution_count": 98,
   "metadata": {},
   "outputs": [
    {
     "data": {
      "text/html": [
       "<div>\n",
       "<style scoped>\n",
       "    .dataframe tbody tr th:only-of-type {\n",
       "        vertical-align: middle;\n",
       "    }\n",
       "\n",
       "    .dataframe tbody tr th {\n",
       "        vertical-align: top;\n",
       "    }\n",
       "\n",
       "    .dataframe thead th {\n",
       "        text-align: right;\n",
       "    }\n",
       "</style>\n",
       "<table border=\"1\" class=\"dataframe\">\n",
       "  <thead>\n",
       "    <tr style=\"text-align: right;\">\n",
       "      <th></th>\n",
       "      <th>Agriculture</th>\n",
       "      <th>Transformation</th>\n",
       "      <th>Emballage</th>\n",
       "      <th>Transport</th>\n",
       "      <th>Supermarché et distribution</th>\n",
       "      <th>Consommation</th>\n",
       "      <th>Total</th>\n",
       "    </tr>\n",
       "    <tr>\n",
       "      <th>Sous-groupe d'aliment</th>\n",
       "      <th></th>\n",
       "      <th></th>\n",
       "      <th></th>\n",
       "      <th></th>\n",
       "      <th></th>\n",
       "      <th></th>\n",
       "      <th></th>\n",
       "    </tr>\n",
       "  </thead>\n",
       "  <tbody>\n",
       "    <tr>\n",
       "      <th>aides culinaires</th>\n",
       "      <td>0.448756</td>\n",
       "      <td>2.213240</td>\n",
       "      <td>0.845139</td>\n",
       "      <td>0.193884</td>\n",
       "      <td>0.019531</td>\n",
       "      <td>0.009671</td>\n",
       "      <td>3.730220</td>\n",
       "    </tr>\n",
       "    <tr>\n",
       "      <th>algues</th>\n",
       "      <td>4.569259</td>\n",
       "      <td>1.492415</td>\n",
       "      <td>0.290252</td>\n",
       "      <td>0.291665</td>\n",
       "      <td>0.020135</td>\n",
       "      <td>0.009943</td>\n",
       "      <td>6.673668</td>\n",
       "    </tr>\n",
       "    <tr>\n",
       "      <th>autres matières grasses</th>\n",
       "      <td>1.087133</td>\n",
       "      <td>0.160527</td>\n",
       "      <td>0.181107</td>\n",
       "      <td>0.193455</td>\n",
       "      <td>0.038891</td>\n",
       "      <td>0.006688</td>\n",
       "      <td>1.667800</td>\n",
       "    </tr>\n",
       "    <tr>\n",
       "      <th>autres produits à base de viande</th>\n",
       "      <td>13.410348</td>\n",
       "      <td>0.618804</td>\n",
       "      <td>0.367419</td>\n",
       "      <td>0.252284</td>\n",
       "      <td>0.040035</td>\n",
       "      <td>0.081207</td>\n",
       "      <td>14.770097</td>\n",
       "    </tr>\n",
       "    <tr>\n",
       "      <th>beurres</th>\n",
       "      <td>6.417801</td>\n",
       "      <td>0.067600</td>\n",
       "      <td>0.180553</td>\n",
       "      <td>0.247967</td>\n",
       "      <td>0.038995</td>\n",
       "      <td>0.006688</td>\n",
       "      <td>6.959605</td>\n",
       "    </tr>\n",
       "    <tr>\n",
       "      <th>...</th>\n",
       "      <td>...</td>\n",
       "      <td>...</td>\n",
       "      <td>...</td>\n",
       "      <td>...</td>\n",
       "      <td>...</td>\n",
       "      <td>...</td>\n",
       "      <td>...</td>\n",
       "    </tr>\n",
       "    <tr>\n",
       "      <th>sucres, miels et assimilés</th>\n",
       "      <td>0.526798</td>\n",
       "      <td>0.261960</td>\n",
       "      <td>0.076890</td>\n",
       "      <td>0.122261</td>\n",
       "      <td>0.017321</td>\n",
       "      <td>0.000000</td>\n",
       "      <td>1.005230</td>\n",
       "    </tr>\n",
       "    <tr>\n",
       "      <th>viandes crues</th>\n",
       "      <td>15.446147</td>\n",
       "      <td>0.448245</td>\n",
       "      <td>0.327706</td>\n",
       "      <td>0.233050</td>\n",
       "      <td>0.040732</td>\n",
       "      <td>0.039900</td>\n",
       "      <td>16.535780</td>\n",
       "    </tr>\n",
       "    <tr>\n",
       "      <th>viandes cuites</th>\n",
       "      <td>23.527420</td>\n",
       "      <td>0.499570</td>\n",
       "      <td>0.410694</td>\n",
       "      <td>0.300600</td>\n",
       "      <td>0.052769</td>\n",
       "      <td>0.146746</td>\n",
       "      <td>24.937798</td>\n",
       "    </tr>\n",
       "    <tr>\n",
       "      <th>épices</th>\n",
       "      <td>4.855382</td>\n",
       "      <td>0.263151</td>\n",
       "      <td>0.430455</td>\n",
       "      <td>0.312808</td>\n",
       "      <td>0.015709</td>\n",
       "      <td>0.000000</td>\n",
       "      <td>5.877504</td>\n",
       "    </tr>\n",
       "    <tr>\n",
       "      <th>œufs</th>\n",
       "      <td>2.946377</td>\n",
       "      <td>0.255308</td>\n",
       "      <td>0.151841</td>\n",
       "      <td>0.217559</td>\n",
       "      <td>0.037715</td>\n",
       "      <td>0.125641</td>\n",
       "      <td>3.734441</td>\n",
       "    </tr>\n",
       "  </tbody>\n",
       "</table>\n",
       "<p>61 rows × 7 columns</p>\n",
       "</div>"
      ],
      "text/plain": [
       "                                  Agriculture  Transformation  Emballage  \\\n",
       "Sous-groupe d'aliment                                                      \n",
       "aides culinaires                     0.448756        2.213240   0.845139   \n",
       "algues                               4.569259        1.492415   0.290252   \n",
       "autres matières grasses              1.087133        0.160527   0.181107   \n",
       "autres produits à base de viande    13.410348        0.618804   0.367419   \n",
       "beurres                              6.417801        0.067600   0.180553   \n",
       "...                                       ...             ...        ...   \n",
       "sucres, miels et assimilés           0.526798        0.261960   0.076890   \n",
       "viandes crues                       15.446147        0.448245   0.327706   \n",
       "viandes cuites                      23.527420        0.499570   0.410694   \n",
       "épices                               4.855382        0.263151   0.430455   \n",
       "œufs                                 2.946377        0.255308   0.151841   \n",
       "\n",
       "                                  Transport  Supermarché et distribution  \\\n",
       "Sous-groupe d'aliment                                                      \n",
       "aides culinaires                   0.193884                     0.019531   \n",
       "algues                             0.291665                     0.020135   \n",
       "autres matières grasses            0.193455                     0.038891   \n",
       "autres produits à base de viande   0.252284                     0.040035   \n",
       "beurres                            0.247967                     0.038995   \n",
       "...                                     ...                          ...   \n",
       "sucres, miels et assimilés         0.122261                     0.017321   \n",
       "viandes crues                      0.233050                     0.040732   \n",
       "viandes cuites                     0.300600                     0.052769   \n",
       "épices                             0.312808                     0.015709   \n",
       "œufs                               0.217559                     0.037715   \n",
       "\n",
       "                                  Consommation      Total  \n",
       "Sous-groupe d'aliment                                      \n",
       "aides culinaires                      0.009671   3.730220  \n",
       "algues                                0.009943   6.673668  \n",
       "autres matières grasses               0.006688   1.667800  \n",
       "autres produits à base de viande      0.081207  14.770097  \n",
       "beurres                               0.006688   6.959605  \n",
       "...                                        ...        ...  \n",
       "sucres, miels et assimilés            0.000000   1.005230  \n",
       "viandes crues                         0.039900  16.535780  \n",
       "viandes cuites                        0.146746  24.937798  \n",
       "épices                                0.000000   5.877504  \n",
       "œufs                                  0.125641   3.734441  \n",
       "\n",
       "[61 rows x 7 columns]"
      ]
     },
     "execution_count": 98,
     "metadata": {},
     "output_type": "execute_result"
    }
   ],
   "source": [
    "df_CO2_sous_groupe= df.groupby(\"Sous-groupe d'aliment\")[['Agriculture', 'Transformation', 'Emballage', 'Transport','Supermarché et distribution', 'Consommation', 'Total']].mean()\n",
    "df_CO2_sous_groupe"
   ]
  },
  {
   "attachments": {},
   "cell_type": "markdown",
   "metadata": {},
   "source": [
    "### Faites un regroupement de modalités pour obtenir une meilleur visualisation (par espèce animal par exemple)."
   ]
  },
  {
   "cell_type": "code",
   "execution_count": 104,
   "metadata": {},
   "outputs": [
    {
     "data": {
      "text/html": [
       "<div>\n",
       "<style scoped>\n",
       "    .dataframe tbody tr th:only-of-type {\n",
       "        vertical-align: middle;\n",
       "    }\n",
       "\n",
       "    .dataframe tbody tr th {\n",
       "        vertical-align: top;\n",
       "    }\n",
       "\n",
       "    .dataframe thead th {\n",
       "        text-align: right;\n",
       "    }\n",
       "</style>\n",
       "<table border=\"1\" class=\"dataframe\">\n",
       "  <thead>\n",
       "    <tr style=\"text-align: right;\">\n",
       "      <th></th>\n",
       "      <th>Sous-groupe d'aliment</th>\n",
       "      <th>etape</th>\n",
       "      <th>value</th>\n",
       "    </tr>\n",
       "  </thead>\n",
       "  <tbody>\n",
       "    <tr>\n",
       "      <th>0</th>\n",
       "      <td>viandes crues</td>\n",
       "      <td>Agriculture</td>\n",
       "      <td>15.446147</td>\n",
       "    </tr>\n",
       "    <tr>\n",
       "      <th>1</th>\n",
       "      <td>viandes crues</td>\n",
       "      <td>Transformation</td>\n",
       "      <td>0.448245</td>\n",
       "    </tr>\n",
       "    <tr>\n",
       "      <th>2</th>\n",
       "      <td>viandes crues</td>\n",
       "      <td>Emballage</td>\n",
       "      <td>0.327706</td>\n",
       "    </tr>\n",
       "    <tr>\n",
       "      <th>3</th>\n",
       "      <td>viandes crues</td>\n",
       "      <td>Transport</td>\n",
       "      <td>0.233050</td>\n",
       "    </tr>\n",
       "    <tr>\n",
       "      <th>4</th>\n",
       "      <td>viandes crues</td>\n",
       "      <td>Supermarché et distribution</td>\n",
       "      <td>0.040732</td>\n",
       "    </tr>\n",
       "    <tr>\n",
       "      <th>5</th>\n",
       "      <td>viandes crues</td>\n",
       "      <td>Consommation</td>\n",
       "      <td>0.039900</td>\n",
       "    </tr>\n",
       "    <tr>\n",
       "      <th>6</th>\n",
       "      <td>viandes crues</td>\n",
       "      <td>Total</td>\n",
       "      <td>16.535780</td>\n",
       "    </tr>\n",
       "  </tbody>\n",
       "</table>\n",
       "</div>"
      ],
      "text/plain": [
       "  Sous-groupe d'aliment                        etape      value\n",
       "0         viandes crues                  Agriculture  15.446147\n",
       "1         viandes crues               Transformation   0.448245\n",
       "2         viandes crues                    Emballage   0.327706\n",
       "3         viandes crues                    Transport   0.233050\n",
       "4         viandes crues  Supermarché et distribution   0.040732\n",
       "5         viandes crues                 Consommation   0.039900\n",
       "6         viandes crues                        Total  16.535780"
      ]
     },
     "execution_count": 104,
     "metadata": {},
     "output_type": "execute_result"
    }
   ],
   "source": [
    "df_groupe = df[df['Sous-groupe d\\'aliment'] == 'viandes crues'].groupby(['Sous-groupe d\\'aliment'])[['Agriculture', 'Transformation', 'Emballage', 'Transport', 'Supermarché et distribution', 'Consommation', 'Total']].mean()\n",
    "df_groupe.reset_index(inplace=True)\n",
    "df_groupe = pd.melt(df_groupe, id_vars=['Sous-groupe d\\'aliment'], value_vars=variables_CO2, var_name=\"etape\", value_name=\"value\")\n",
    "df_groupe"
   ]
  },
  {
   "attachments": {},
   "cell_type": "markdown",
   "metadata": {},
   "source": [
    "## Representations graphiques"
   ]
  },
  {
   "cell_type": "code",
   "execution_count": 80,
   "metadata": {},
   "outputs": [
    {
     "data": {
      "application/vnd.plotly.v1+json": {
       "config": {
        "plotlyServerURL": "https://plot.ly"
       },
       "data": [
        {
         "marker": {
          "color": [
           "#2E91E5",
           "#E15F99",
           "#1CA71C",
           "#FB0D0D",
           "#DA16FF",
           "#222A2A",
           "#B68100",
           "#750D86",
           "#EB663B",
           "#511CFB",
           "#00A08B"
          ]
         },
         "name": "Agriculture",
         "showlegend": false,
         "type": "bar",
         "x": [
          "aides culinaires et ingrédients divers",
          "aliments infantiles",
          "boissons",
          "entrées et plats composés",
          "fruits, légumes, légumineuses et oléagineux",
          "glaces et sorbets",
          "lait et produits laitiers",
          "matières grasses",
          "produits céréaliers",
          "produits sucrés",
          "viandes, œufs, poissons"
         ],
         "xaxis": "x",
         "y": [
          2.0310656756250003,
          1.620546050969697,
          0.6049996588732457,
          3.6593377774044518,
          0.6576618040640845,
          0.9959032292,
          3.4312579463228703,
          2.8306507560714285,
          1.5138756528191488,
          1.6749821133962266,
          11.332830680500775
         ],
         "yaxis": "y"
        },
        {
         "marker": {
          "color": [
           "#2E91E5",
           "#E15F99",
           "#1CA71C",
           "#FB0D0D",
           "#DA16FF",
           "#222A2A",
           "#B68100",
           "#750D86",
           "#EB663B",
           "#511CFB",
           "#00A08B"
          ]
         },
         "name": "Transformation",
         "showlegend": false,
         "type": "bar",
         "x": [
          "aides culinaires et ingrédients divers",
          "aliments infantiles",
          "boissons",
          "entrées et plats composés",
          "fruits, légumes, légumineuses et oléagineux",
          "glaces et sorbets",
          "lait et produits laitiers",
          "matières grasses",
          "produits céréaliers",
          "produits sucrés",
          "viandes, œufs, poissons"
         ],
         "xaxis": "x2",
         "y": [
          0.5389585740051875,
          0.4136260186969697,
          0.517808697631579,
          0.3549203766632192,
          0.11421412822394367,
          0.2987041836,
          0.4127855908834081,
          0.6247184898571428,
          0.5912451626962766,
          4.6099286756603775,
          0.42825317144155034
         ],
         "yaxis": "y2"
        },
        {
         "marker": {
          "color": [
           "#2E91E5",
           "#E15F99",
           "#1CA71C",
           "#FB0D0D",
           "#DA16FF",
           "#222A2A",
           "#B68100",
           "#750D86",
           "#EB663B",
           "#511CFB",
           "#00A08B"
          ]
         },
         "name": "Emballage",
         "showlegend": false,
         "type": "bar",
         "x": [
          "aides culinaires et ingrédients divers",
          "aliments infantiles",
          "boissons",
          "entrées et plats composés",
          "fruits, légumes, légumineuses et oléagineux",
          "glaces et sorbets",
          "lait et produits laitiers",
          "matières grasses",
          "produits céréaliers",
          "produits sucrés",
          "viandes, œufs, poissons"
         ],
         "xaxis": "x3",
         "y": [
          0.29906204338500003,
          0.18092949151515153,
          0.20840449558245616,
          0.19388097526917808,
          0.1804531436338028,
          0.18395141159999998,
          0.22054682839461884,
          0.18815171125,
          0.19556825934840424,
          0.18430741724528302,
          0.4026064527937984
         ],
         "yaxis": "y3"
        },
        {
         "marker": {
          "color": [
           "#2E91E5",
           "#E15F99",
           "#1CA71C",
           "#FB0D0D",
           "#DA16FF",
           "#222A2A",
           "#B68100",
           "#750D86",
           "#EB663B",
           "#511CFB",
           "#00A08B"
          ]
         },
         "name": "Transport",
         "showlegend": false,
         "type": "bar",
         "x": [
          "aides culinaires et ingrédients divers",
          "aliments infantiles",
          "boissons",
          "entrées et plats composés",
          "fruits, légumes, légumineuses et oléagineux",
          "glaces et sorbets",
          "lait et produits laitiers",
          "matières grasses",
          "produits céréaliers",
          "produits sucrés",
          "viandes, œufs, poissons"
         ],
         "xaxis": "x4",
         "y": [
          0.23579175886249998,
          0.1618040887878788,
          0.17038965313070173,
          0.2841422032260274,
          0.31893820478403756,
          0.20635114719999997,
          0.21036399080717488,
          0.28502200642857145,
          0.16504401318085107,
          0.2221376445283019,
          0.5389515373736434
         ],
         "yaxis": "y4"
        },
        {
         "marker": {
          "color": [
           "#2E91E5",
           "#E15F99",
           "#1CA71C",
           "#FB0D0D",
           "#DA16FF",
           "#222A2A",
           "#B68100",
           "#750D86",
           "#EB663B",
           "#511CFB",
           "#00A08B"
          ]
         },
         "name": "Supermarché et distribution",
         "showlegend": false,
         "type": "bar",
         "x": [
          "aides culinaires et ingrédients divers",
          "aliments infantiles",
          "boissons",
          "entrées et plats composés",
          "fruits, légumes, légumineuses et oléagineux",
          "glaces et sorbets",
          "lait et produits laitiers",
          "matières grasses",
          "produits céréaliers",
          "produits sucrés",
          "viandes, œufs, poissons"
         ],
         "xaxis": "x5",
         "y": [
          0.02599043673125,
          0.01990635312121212,
          0.020805867288464914,
          0.031670828579931504,
          0.034118292438967135,
          0.064524479,
          0.033761437878923765,
          0.029667305714285715,
          0.017867600551063827,
          0.017756749471698113,
          0.04249509249085271
         ],
         "yaxis": "y5"
        },
        {
         "marker": {
          "color": [
           "#2E91E5",
           "#E15F99",
           "#1CA71C",
           "#FB0D0D",
           "#DA16FF",
           "#222A2A",
           "#B68100",
           "#750D86",
           "#EB663B",
           "#511CFB",
           "#00A08B"
          ]
         },
         "name": "Consommation",
         "showlegend": false,
         "type": "bar",
         "x": [
          "aides culinaires et ingrédients divers",
          "aliments infantiles",
          "boissons",
          "entrées et plats composés",
          "fruits, légumes, légumineuses et oléagineux",
          "glaces et sorbets",
          "lait et produits laitiers",
          "matières grasses",
          "produits céréaliers",
          "produits sucrés",
          "viandes, œufs, poissons"
         ],
         "xaxis": "x6",
         "y": [
          0.011558024015,
          0.006430137503030303,
          0.004367418379342105,
          0.04079851814075342,
          0.08097638607464788,
          0.025304288,
          0.0060877804726457395,
          0.004060305378571429,
          0.009668880585106383,
          0.000883262879245283,
          0.08136811428852712
         ],
         "yaxis": "y6"
        },
        {
         "marker": {
          "color": [
           "#2E91E5",
           "#E15F99",
           "#1CA71C",
           "#FB0D0D",
           "#DA16FF",
           "#222A2A",
           "#B68100",
           "#750D86",
           "#EB663B",
           "#511CFB",
           "#00A08B"
          ]
         },
         "name": "Total",
         "showlegend": false,
         "type": "bar",
         "x": [
          "aides culinaires et ingrédients divers",
          "aliments infantiles",
          "boissons",
          "entrées et plats composés",
          "fruits, légumes, légumineuses et oléagineux",
          "glaces et sorbets",
          "lait et produits laitiers",
          "matières grasses",
          "produits céréaliers",
          "produits sucrés",
          "viandes, œufs, poissons"
         ],
         "xaxis": "x7",
         "y": [
          3.1424265126239375,
          2.4032421405939393,
          1.5267757908857895,
          4.564750679283561,
          1.3863619592194834,
          1.7747387386,
          4.314803574759641,
          3.9622705746999998,
          2.493269569180851,
          6.709995863181132,
          12.826505048889146
         ],
         "yaxis": "y7"
        },
        {
         "legendgroup": "aides culinaires et ingrédients divers",
         "marker": {
          "color": [
           "#2E91E5",
           "#E15F99",
           "#1CA71C",
           "#FB0D0D",
           "#DA16FF",
           "#222A2A",
           "#B68100",
           "#750D86",
           "#EB663B",
           "#511CFB",
           "#00A08B"
          ],
          "size": 10,
          "symbol": "square"
         },
         "mode": "markers",
         "name": "aides culinaires et ingrédients divers",
         "showlegend": true,
         "type": "scatter",
         "x": [
          null
         ],
         "xaxis": "x",
         "y": [
          null
         ],
         "yaxis": "y"
        },
        {
         "legendgroup": "aliments infantiles",
         "marker": {
          "color": [
           "#2E91E5",
           "#E15F99",
           "#1CA71C",
           "#FB0D0D",
           "#DA16FF",
           "#222A2A",
           "#B68100",
           "#750D86",
           "#EB663B",
           "#511CFB",
           "#00A08B"
          ],
          "size": 10,
          "symbol": "square"
         },
         "mode": "markers",
         "name": "aliments infantiles",
         "showlegend": true,
         "type": "scatter",
         "x": [
          null
         ],
         "xaxis": "x",
         "y": [
          null
         ],
         "yaxis": "y"
        },
        {
         "legendgroup": "boissons",
         "marker": {
          "color": [
           "#2E91E5",
           "#E15F99",
           "#1CA71C",
           "#FB0D0D",
           "#DA16FF",
           "#222A2A",
           "#B68100",
           "#750D86",
           "#EB663B",
           "#511CFB",
           "#00A08B"
          ],
          "size": 10,
          "symbol": "square"
         },
         "mode": "markers",
         "name": "boissons",
         "showlegend": true,
         "type": "scatter",
         "x": [
          null
         ],
         "xaxis": "x",
         "y": [
          null
         ],
         "yaxis": "y"
        },
        {
         "legendgroup": "entrées et plats composés",
         "marker": {
          "color": [
           "#2E91E5",
           "#E15F99",
           "#1CA71C",
           "#FB0D0D",
           "#DA16FF",
           "#222A2A",
           "#B68100",
           "#750D86",
           "#EB663B",
           "#511CFB",
           "#00A08B"
          ],
          "size": 10,
          "symbol": "square"
         },
         "mode": "markers",
         "name": "entrées et plats composés",
         "showlegend": true,
         "type": "scatter",
         "x": [
          null
         ],
         "xaxis": "x",
         "y": [
          null
         ],
         "yaxis": "y"
        },
        {
         "legendgroup": "fruits, légumes, légumineuses et oléagineux",
         "marker": {
          "color": [
           "#2E91E5",
           "#E15F99",
           "#1CA71C",
           "#FB0D0D",
           "#DA16FF",
           "#222A2A",
           "#B68100",
           "#750D86",
           "#EB663B",
           "#511CFB",
           "#00A08B"
          ],
          "size": 10,
          "symbol": "square"
         },
         "mode": "markers",
         "name": "fruits, légumes, légumineuses et oléagineux",
         "showlegend": true,
         "type": "scatter",
         "x": [
          null
         ],
         "xaxis": "x",
         "y": [
          null
         ],
         "yaxis": "y"
        },
        {
         "legendgroup": "glaces et sorbets",
         "marker": {
          "color": [
           "#2E91E5",
           "#E15F99",
           "#1CA71C",
           "#FB0D0D",
           "#DA16FF",
           "#222A2A",
           "#B68100",
           "#750D86",
           "#EB663B",
           "#511CFB",
           "#00A08B"
          ],
          "size": 10,
          "symbol": "square"
         },
         "mode": "markers",
         "name": "glaces et sorbets",
         "showlegend": true,
         "type": "scatter",
         "x": [
          null
         ],
         "xaxis": "x",
         "y": [
          null
         ],
         "yaxis": "y"
        },
        {
         "legendgroup": "lait et produits laitiers",
         "marker": {
          "color": [
           "#2E91E5",
           "#E15F99",
           "#1CA71C",
           "#FB0D0D",
           "#DA16FF",
           "#222A2A",
           "#B68100",
           "#750D86",
           "#EB663B",
           "#511CFB",
           "#00A08B"
          ],
          "size": 10,
          "symbol": "square"
         },
         "mode": "markers",
         "name": "lait et produits laitiers",
         "showlegend": true,
         "type": "scatter",
         "x": [
          null
         ],
         "xaxis": "x",
         "y": [
          null
         ],
         "yaxis": "y"
        },
        {
         "legendgroup": "matières grasses",
         "marker": {
          "color": [
           "#2E91E5",
           "#E15F99",
           "#1CA71C",
           "#FB0D0D",
           "#DA16FF",
           "#222A2A",
           "#B68100",
           "#750D86",
           "#EB663B",
           "#511CFB",
           "#00A08B"
          ],
          "size": 10,
          "symbol": "square"
         },
         "mode": "markers",
         "name": "matières grasses",
         "showlegend": true,
         "type": "scatter",
         "x": [
          null
         ],
         "xaxis": "x",
         "y": [
          null
         ],
         "yaxis": "y"
        },
        {
         "legendgroup": "produits céréaliers",
         "marker": {
          "color": [
           "#2E91E5",
           "#E15F99",
           "#1CA71C",
           "#FB0D0D",
           "#DA16FF",
           "#222A2A",
           "#B68100",
           "#750D86",
           "#EB663B",
           "#511CFB",
           "#00A08B"
          ],
          "size": 10,
          "symbol": "square"
         },
         "mode": "markers",
         "name": "produits céréaliers",
         "showlegend": true,
         "type": "scatter",
         "x": [
          null
         ],
         "xaxis": "x",
         "y": [
          null
         ],
         "yaxis": "y"
        },
        {
         "legendgroup": "produits sucrés",
         "marker": {
          "color": [
           "#2E91E5",
           "#E15F99",
           "#1CA71C",
           "#FB0D0D",
           "#DA16FF",
           "#222A2A",
           "#B68100",
           "#750D86",
           "#EB663B",
           "#511CFB",
           "#00A08B"
          ],
          "size": 10,
          "symbol": "square"
         },
         "mode": "markers",
         "name": "produits sucrés",
         "showlegend": true,
         "type": "scatter",
         "x": [
          null
         ],
         "xaxis": "x",
         "y": [
          null
         ],
         "yaxis": "y"
        },
        {
         "legendgroup": "viandes, œufs, poissons",
         "marker": {
          "color": [
           "#2E91E5",
           "#E15F99",
           "#1CA71C",
           "#FB0D0D",
           "#DA16FF",
           "#222A2A",
           "#B68100",
           "#750D86",
           "#EB663B",
           "#511CFB",
           "#00A08B"
          ],
          "size": 10,
          "symbol": "square"
         },
         "mode": "markers",
         "name": "viandes, œufs, poissons",
         "showlegend": true,
         "type": "scatter",
         "x": [
          null
         ],
         "xaxis": "x",
         "y": [
          null
         ],
         "yaxis": "y"
        }
       ],
       "layout": {
        "template": {
         "data": {
          "bar": [
           {
            "error_x": {
             "color": "#2a3f5f"
            },
            "error_y": {
             "color": "#2a3f5f"
            },
            "marker": {
             "line": {
              "color": "#E5ECF6",
              "width": 0.5
             },
             "pattern": {
              "fillmode": "overlay",
              "size": 10,
              "solidity": 0.2
             }
            },
            "type": "bar"
           }
          ],
          "barpolar": [
           {
            "marker": {
             "line": {
              "color": "#E5ECF6",
              "width": 0.5
             },
             "pattern": {
              "fillmode": "overlay",
              "size": 10,
              "solidity": 0.2
             }
            },
            "type": "barpolar"
           }
          ],
          "carpet": [
           {
            "aaxis": {
             "endlinecolor": "#2a3f5f",
             "gridcolor": "white",
             "linecolor": "white",
             "minorgridcolor": "white",
             "startlinecolor": "#2a3f5f"
            },
            "baxis": {
             "endlinecolor": "#2a3f5f",
             "gridcolor": "white",
             "linecolor": "white",
             "minorgridcolor": "white",
             "startlinecolor": "#2a3f5f"
            },
            "type": "carpet"
           }
          ],
          "choropleth": [
           {
            "colorbar": {
             "outlinewidth": 0,
             "ticks": ""
            },
            "type": "choropleth"
           }
          ],
          "contour": [
           {
            "colorbar": {
             "outlinewidth": 0,
             "ticks": ""
            },
            "colorscale": [
             [
              0,
              "#0d0887"
             ],
             [
              0.1111111111111111,
              "#46039f"
             ],
             [
              0.2222222222222222,
              "#7201a8"
             ],
             [
              0.3333333333333333,
              "#9c179e"
             ],
             [
              0.4444444444444444,
              "#bd3786"
             ],
             [
              0.5555555555555556,
              "#d8576b"
             ],
             [
              0.6666666666666666,
              "#ed7953"
             ],
             [
              0.7777777777777778,
              "#fb9f3a"
             ],
             [
              0.8888888888888888,
              "#fdca26"
             ],
             [
              1,
              "#f0f921"
             ]
            ],
            "type": "contour"
           }
          ],
          "contourcarpet": [
           {
            "colorbar": {
             "outlinewidth": 0,
             "ticks": ""
            },
            "type": "contourcarpet"
           }
          ],
          "heatmap": [
           {
            "colorbar": {
             "outlinewidth": 0,
             "ticks": ""
            },
            "colorscale": [
             [
              0,
              "#0d0887"
             ],
             [
              0.1111111111111111,
              "#46039f"
             ],
             [
              0.2222222222222222,
              "#7201a8"
             ],
             [
              0.3333333333333333,
              "#9c179e"
             ],
             [
              0.4444444444444444,
              "#bd3786"
             ],
             [
              0.5555555555555556,
              "#d8576b"
             ],
             [
              0.6666666666666666,
              "#ed7953"
             ],
             [
              0.7777777777777778,
              "#fb9f3a"
             ],
             [
              0.8888888888888888,
              "#fdca26"
             ],
             [
              1,
              "#f0f921"
             ]
            ],
            "type": "heatmap"
           }
          ],
          "heatmapgl": [
           {
            "colorbar": {
             "outlinewidth": 0,
             "ticks": ""
            },
            "colorscale": [
             [
              0,
              "#0d0887"
             ],
             [
              0.1111111111111111,
              "#46039f"
             ],
             [
              0.2222222222222222,
              "#7201a8"
             ],
             [
              0.3333333333333333,
              "#9c179e"
             ],
             [
              0.4444444444444444,
              "#bd3786"
             ],
             [
              0.5555555555555556,
              "#d8576b"
             ],
             [
              0.6666666666666666,
              "#ed7953"
             ],
             [
              0.7777777777777778,
              "#fb9f3a"
             ],
             [
              0.8888888888888888,
              "#fdca26"
             ],
             [
              1,
              "#f0f921"
             ]
            ],
            "type": "heatmapgl"
           }
          ],
          "histogram": [
           {
            "marker": {
             "pattern": {
              "fillmode": "overlay",
              "size": 10,
              "solidity": 0.2
             }
            },
            "type": "histogram"
           }
          ],
          "histogram2d": [
           {
            "colorbar": {
             "outlinewidth": 0,
             "ticks": ""
            },
            "colorscale": [
             [
              0,
              "#0d0887"
             ],
             [
              0.1111111111111111,
              "#46039f"
             ],
             [
              0.2222222222222222,
              "#7201a8"
             ],
             [
              0.3333333333333333,
              "#9c179e"
             ],
             [
              0.4444444444444444,
              "#bd3786"
             ],
             [
              0.5555555555555556,
              "#d8576b"
             ],
             [
              0.6666666666666666,
              "#ed7953"
             ],
             [
              0.7777777777777778,
              "#fb9f3a"
             ],
             [
              0.8888888888888888,
              "#fdca26"
             ],
             [
              1,
              "#f0f921"
             ]
            ],
            "type": "histogram2d"
           }
          ],
          "histogram2dcontour": [
           {
            "colorbar": {
             "outlinewidth": 0,
             "ticks": ""
            },
            "colorscale": [
             [
              0,
              "#0d0887"
             ],
             [
              0.1111111111111111,
              "#46039f"
             ],
             [
              0.2222222222222222,
              "#7201a8"
             ],
             [
              0.3333333333333333,
              "#9c179e"
             ],
             [
              0.4444444444444444,
              "#bd3786"
             ],
             [
              0.5555555555555556,
              "#d8576b"
             ],
             [
              0.6666666666666666,
              "#ed7953"
             ],
             [
              0.7777777777777778,
              "#fb9f3a"
             ],
             [
              0.8888888888888888,
              "#fdca26"
             ],
             [
              1,
              "#f0f921"
             ]
            ],
            "type": "histogram2dcontour"
           }
          ],
          "mesh3d": [
           {
            "colorbar": {
             "outlinewidth": 0,
             "ticks": ""
            },
            "type": "mesh3d"
           }
          ],
          "parcoords": [
           {
            "line": {
             "colorbar": {
              "outlinewidth": 0,
              "ticks": ""
             }
            },
            "type": "parcoords"
           }
          ],
          "pie": [
           {
            "automargin": true,
            "type": "pie"
           }
          ],
          "scatter": [
           {
            "fillpattern": {
             "fillmode": "overlay",
             "size": 10,
             "solidity": 0.2
            },
            "type": "scatter"
           }
          ],
          "scatter3d": [
           {
            "line": {
             "colorbar": {
              "outlinewidth": 0,
              "ticks": ""
             }
            },
            "marker": {
             "colorbar": {
              "outlinewidth": 0,
              "ticks": ""
             }
            },
            "type": "scatter3d"
           }
          ],
          "scattercarpet": [
           {
            "marker": {
             "colorbar": {
              "outlinewidth": 0,
              "ticks": ""
             }
            },
            "type": "scattercarpet"
           }
          ],
          "scattergeo": [
           {
            "marker": {
             "colorbar": {
              "outlinewidth": 0,
              "ticks": ""
             }
            },
            "type": "scattergeo"
           }
          ],
          "scattergl": [
           {
            "marker": {
             "colorbar": {
              "outlinewidth": 0,
              "ticks": ""
             }
            },
            "type": "scattergl"
           }
          ],
          "scattermapbox": [
           {
            "marker": {
             "colorbar": {
              "outlinewidth": 0,
              "ticks": ""
             }
            },
            "type": "scattermapbox"
           }
          ],
          "scatterpolar": [
           {
            "marker": {
             "colorbar": {
              "outlinewidth": 0,
              "ticks": ""
             }
            },
            "type": "scatterpolar"
           }
          ],
          "scatterpolargl": [
           {
            "marker": {
             "colorbar": {
              "outlinewidth": 0,
              "ticks": ""
             }
            },
            "type": "scatterpolargl"
           }
          ],
          "scatterternary": [
           {
            "marker": {
             "colorbar": {
              "outlinewidth": 0,
              "ticks": ""
             }
            },
            "type": "scatterternary"
           }
          ],
          "surface": [
           {
            "colorbar": {
             "outlinewidth": 0,
             "ticks": ""
            },
            "colorscale": [
             [
              0,
              "#0d0887"
             ],
             [
              0.1111111111111111,
              "#46039f"
             ],
             [
              0.2222222222222222,
              "#7201a8"
             ],
             [
              0.3333333333333333,
              "#9c179e"
             ],
             [
              0.4444444444444444,
              "#bd3786"
             ],
             [
              0.5555555555555556,
              "#d8576b"
             ],
             [
              0.6666666666666666,
              "#ed7953"
             ],
             [
              0.7777777777777778,
              "#fb9f3a"
             ],
             [
              0.8888888888888888,
              "#fdca26"
             ],
             [
              1,
              "#f0f921"
             ]
            ],
            "type": "surface"
           }
          ],
          "table": [
           {
            "cells": {
             "fill": {
              "color": "#EBF0F8"
             },
             "line": {
              "color": "white"
             }
            },
            "header": {
             "fill": {
              "color": "#C8D4E3"
             },
             "line": {
              "color": "white"
             }
            },
            "type": "table"
           }
          ]
         },
         "layout": {
          "annotationdefaults": {
           "arrowcolor": "#2a3f5f",
           "arrowhead": 0,
           "arrowwidth": 1
          },
          "autotypenumbers": "strict",
          "coloraxis": {
           "colorbar": {
            "outlinewidth": 0,
            "ticks": ""
           }
          },
          "colorscale": {
           "diverging": [
            [
             0,
             "#8e0152"
            ],
            [
             0.1,
             "#c51b7d"
            ],
            [
             0.2,
             "#de77ae"
            ],
            [
             0.3,
             "#f1b6da"
            ],
            [
             0.4,
             "#fde0ef"
            ],
            [
             0.5,
             "#f7f7f7"
            ],
            [
             0.6,
             "#e6f5d0"
            ],
            [
             0.7,
             "#b8e186"
            ],
            [
             0.8,
             "#7fbc41"
            ],
            [
             0.9,
             "#4d9221"
            ],
            [
             1,
             "#276419"
            ]
           ],
           "sequential": [
            [
             0,
             "#0d0887"
            ],
            [
             0.1111111111111111,
             "#46039f"
            ],
            [
             0.2222222222222222,
             "#7201a8"
            ],
            [
             0.3333333333333333,
             "#9c179e"
            ],
            [
             0.4444444444444444,
             "#bd3786"
            ],
            [
             0.5555555555555556,
             "#d8576b"
            ],
            [
             0.6666666666666666,
             "#ed7953"
            ],
            [
             0.7777777777777778,
             "#fb9f3a"
            ],
            [
             0.8888888888888888,
             "#fdca26"
            ],
            [
             1,
             "#f0f921"
            ]
           ],
           "sequentialminus": [
            [
             0,
             "#0d0887"
            ],
            [
             0.1111111111111111,
             "#46039f"
            ],
            [
             0.2222222222222222,
             "#7201a8"
            ],
            [
             0.3333333333333333,
             "#9c179e"
            ],
            [
             0.4444444444444444,
             "#bd3786"
            ],
            [
             0.5555555555555556,
             "#d8576b"
            ],
            [
             0.6666666666666666,
             "#ed7953"
            ],
            [
             0.7777777777777778,
             "#fb9f3a"
            ],
            [
             0.8888888888888888,
             "#fdca26"
            ],
            [
             1,
             "#f0f921"
            ]
           ]
          },
          "colorway": [
           "#636efa",
           "#EF553B",
           "#00cc96",
           "#ab63fa",
           "#FFA15A",
           "#19d3f3",
           "#FF6692",
           "#B6E880",
           "#FF97FF",
           "#FECB52"
          ],
          "font": {
           "color": "#2a3f5f"
          },
          "geo": {
           "bgcolor": "white",
           "lakecolor": "white",
           "landcolor": "#E5ECF6",
           "showlakes": true,
           "showland": true,
           "subunitcolor": "white"
          },
          "hoverlabel": {
           "align": "left"
          },
          "hovermode": "closest",
          "mapbox": {
           "style": "light"
          },
          "paper_bgcolor": "white",
          "plot_bgcolor": "#E5ECF6",
          "polar": {
           "angularaxis": {
            "gridcolor": "white",
            "linecolor": "white",
            "ticks": ""
           },
           "bgcolor": "#E5ECF6",
           "radialaxis": {
            "gridcolor": "white",
            "linecolor": "white",
            "ticks": ""
           }
          },
          "scene": {
           "xaxis": {
            "backgroundcolor": "#E5ECF6",
            "gridcolor": "white",
            "gridwidth": 2,
            "linecolor": "white",
            "showbackground": true,
            "ticks": "",
            "zerolinecolor": "white"
           },
           "yaxis": {
            "backgroundcolor": "#E5ECF6",
            "gridcolor": "white",
            "gridwidth": 2,
            "linecolor": "white",
            "showbackground": true,
            "ticks": "",
            "zerolinecolor": "white"
           },
           "zaxis": {
            "backgroundcolor": "#E5ECF6",
            "gridcolor": "white",
            "gridwidth": 2,
            "linecolor": "white",
            "showbackground": true,
            "ticks": "",
            "zerolinecolor": "white"
           }
          },
          "shapedefaults": {
           "line": {
            "color": "#2a3f5f"
           }
          },
          "ternary": {
           "aaxis": {
            "gridcolor": "white",
            "linecolor": "white",
            "ticks": ""
           },
           "baxis": {
            "gridcolor": "white",
            "linecolor": "white",
            "ticks": ""
           },
           "bgcolor": "#E5ECF6",
           "caxis": {
            "gridcolor": "white",
            "linecolor": "white",
            "ticks": ""
           }
          },
          "title": {
           "x": 0.05
          },
          "xaxis": {
           "automargin": true,
           "gridcolor": "white",
           "linecolor": "white",
           "ticks": "",
           "title": {
            "standoff": 15
           },
           "zerolinecolor": "white",
           "zerolinewidth": 2
          },
          "yaxis": {
           "automargin": true,
           "gridcolor": "white",
           "linecolor": "white",
           "ticks": "",
           "title": {
            "standoff": 15
           },
           "zerolinecolor": "white",
           "zerolinewidth": 2
          }
         }
        },
        "xaxis": {
         "anchor": "y",
         "domain": [
          0,
          0.1183673469387755
         ],
         "title": {
          "text": "Agriculture"
         }
        },
        "xaxis2": {
         "anchor": "y2",
         "domain": [
          0.14693877551020407,
          0.26530612244897955
         ],
         "title": {
          "text": "Transformation"
         }
        },
        "xaxis3": {
         "anchor": "y3",
         "domain": [
          0.29387755102040813,
          0.4122448979591836
         ],
         "title": {
          "text": "Emballage"
         }
        },
        "xaxis4": {
         "anchor": "y4",
         "domain": [
          0.4408163265306122,
          0.5591836734693877
         ],
         "title": {
          "text": "Transport"
         }
        },
        "xaxis5": {
         "anchor": "y5",
         "domain": [
          0.5877551020408163,
          0.7061224489795918
         ],
         "title": {
          "text": "Supermarché et distribution"
         }
        },
        "xaxis6": {
         "anchor": "y6",
         "domain": [
          0.7346938775510204,
          0.8530612244897959
         ],
         "title": {
          "text": "Consommation"
         }
        },
        "xaxis7": {
         "anchor": "y7",
         "domain": [
          0.8816326530612244,
          0.9999999999999999
         ],
         "title": {
          "text": "Total"
         }
        },
        "yaxis": {
         "anchor": "x",
         "domain": [
          0,
          1
         ],
         "title": {
          "text": "kg CO2 eq/kg de produit"
         }
        },
        "yaxis2": {
         "anchor": "x2",
         "domain": [
          0,
          1
         ],
         "matches": "y",
         "showticklabels": false
        },
        "yaxis3": {
         "anchor": "x3",
         "domain": [
          0,
          1
         ],
         "matches": "y",
         "showticklabels": false
        },
        "yaxis4": {
         "anchor": "x4",
         "domain": [
          0,
          1
         ],
         "matches": "y",
         "showticklabels": false
        },
        "yaxis5": {
         "anchor": "x5",
         "domain": [
          0,
          1
         ],
         "matches": "y",
         "showticklabels": false
        },
        "yaxis6": {
         "anchor": "x6",
         "domain": [
          0,
          1
         ],
         "matches": "y",
         "showticklabels": false
        },
        "yaxis7": {
         "anchor": "x7",
         "domain": [
          0,
          1
         ],
         "matches": "y",
         "showticklabels": false
        }
       }
      }
     },
     "metadata": {},
     "output_type": "display_data"
    }
   ],
   "source": [
    "couleur = px.colors.qualitative.Dark24[:df_CO2_groupe[\"Groupe d'aliment\"].nunique()]\n",
    "\n",
    "\n",
    "fig = make_subplots(rows=1, cols=7, shared_yaxes=True)\n",
    "for i, etape in enumerate( df_CO2_groupe[\"etape\"].unique()):\n",
    "    sub_df = df_CO2_groupe[df_CO2_groupe[\"etape\"] == etape]\n",
    "    graph = go.Bar(x=sub_df[\"Groupe d'aliment\"], y=sub_df[\"value\"], name=etape, marker=dict(color=couleur)) \n",
    "    fig.add_trace(graph, row=1, col=i+1)\n",
    "\n",
    "\n",
    "# Set x-axis label for each subplot\n",
    "    fig.update_xaxes(title_text=etape, row=1, col=i+1)\n",
    "\n",
    "# Add legend for each color with ingredient name\n",
    "for aliment in df_CO2_groupe[\"Groupe d'aliment\"].unique():\n",
    "    fig.add_trace(go.Scatter(x=[None], y=[None], mode='markers', marker=dict(color=couleur, size=10, symbol='square'), showlegend=True, legendgroup=aliment, name=aliment), row=1, col=1)\n",
    "\n",
    "    # Set y-axis label for the middle subplot\n",
    "fig.update_yaxes(title_text=\"kg CO2 eq/kg de produit\", row=1, col=1)\n",
    "\n",
    "# Hide column name from the legend\n",
    "fig.update_traces(showlegend=False, selector=dict(type='bar'))\n",
    "\n",
    "fig.show()"
   ]
  },
  {
   "cell_type": "code",
   "execution_count": 89,
   "metadata": {},
   "outputs": [
    {
     "data": {
      "application/vnd.plotly.v1+json": {
       "config": {
        "plotlyServerURL": "https://plot.ly"
       },
       "data": [
        {
         "name": "Agriculture",
         "type": "box",
         "x": [
          "aides culinaires et ingrédients divers",
          "aliments infantiles",
          "boissons",
          "entrées et plats composés",
          "fruits, légumes, légumineuses et oléagineux",
          "glaces et sorbets",
          "lait et produits laitiers",
          "matières grasses",
          "produits céréaliers",
          "produits sucrés",
          "viandes, œufs, poissons"
         ],
         "xaxis": "x",
         "y": [
          2.0310656756250003,
          1.620546050969697,
          0.6049996588732457,
          3.6593377774044518,
          0.6576618040640845,
          0.9959032292,
          3.4312579463228703,
          2.8306507560714285,
          1.5138756528191488,
          1.6749821133962266,
          11.332830680500775
         ],
         "yaxis": "y"
        },
        {
         "name": "Transformation",
         "type": "box",
         "x": [
          "aides culinaires et ingrédients divers",
          "aliments infantiles",
          "boissons",
          "entrées et plats composés",
          "fruits, légumes, légumineuses et oléagineux",
          "glaces et sorbets",
          "lait et produits laitiers",
          "matières grasses",
          "produits céréaliers",
          "produits sucrés",
          "viandes, œufs, poissons"
         ],
         "xaxis": "x2",
         "y": [
          0.5389585740051875,
          0.4136260186969697,
          0.517808697631579,
          0.3549203766632192,
          0.11421412822394367,
          0.2987041836,
          0.4127855908834081,
          0.6247184898571428,
          0.5912451626962766,
          4.6099286756603775,
          0.42825317144155034
         ],
         "yaxis": "y2"
        },
        {
         "name": "Emballage",
         "type": "box",
         "x": [
          "aides culinaires et ingrédients divers",
          "aliments infantiles",
          "boissons",
          "entrées et plats composés",
          "fruits, légumes, légumineuses et oléagineux",
          "glaces et sorbets",
          "lait et produits laitiers",
          "matières grasses",
          "produits céréaliers",
          "produits sucrés",
          "viandes, œufs, poissons"
         ],
         "xaxis": "x3",
         "y": [
          0.29906204338500003,
          0.18092949151515153,
          0.20840449558245616,
          0.19388097526917808,
          0.1804531436338028,
          0.18395141159999998,
          0.22054682839461884,
          0.18815171125,
          0.19556825934840424,
          0.18430741724528302,
          0.4026064527937984
         ],
         "yaxis": "y3"
        },
        {
         "name": "Transport",
         "type": "box",
         "x": [
          "aides culinaires et ingrédients divers",
          "aliments infantiles",
          "boissons",
          "entrées et plats composés",
          "fruits, légumes, légumineuses et oléagineux",
          "glaces et sorbets",
          "lait et produits laitiers",
          "matières grasses",
          "produits céréaliers",
          "produits sucrés",
          "viandes, œufs, poissons"
         ],
         "xaxis": "x4",
         "y": [
          0.23579175886249998,
          0.1618040887878788,
          0.17038965313070173,
          0.2841422032260274,
          0.31893820478403756,
          0.20635114719999997,
          0.21036399080717488,
          0.28502200642857145,
          0.16504401318085107,
          0.2221376445283019,
          0.5389515373736434
         ],
         "yaxis": "y4"
        },
        {
         "name": "Supermarché et distribution",
         "type": "box",
         "x": [
          "aides culinaires et ingrédients divers",
          "aliments infantiles",
          "boissons",
          "entrées et plats composés",
          "fruits, légumes, légumineuses et oléagineux",
          "glaces et sorbets",
          "lait et produits laitiers",
          "matières grasses",
          "produits céréaliers",
          "produits sucrés",
          "viandes, œufs, poissons"
         ],
         "xaxis": "x5",
         "y": [
          0.02599043673125,
          0.01990635312121212,
          0.020805867288464914,
          0.031670828579931504,
          0.034118292438967135,
          0.064524479,
          0.033761437878923765,
          0.029667305714285715,
          0.017867600551063827,
          0.017756749471698113,
          0.04249509249085271
         ],
         "yaxis": "y5"
        },
        {
         "name": "Consommation",
         "type": "box",
         "x": [
          "aides culinaires et ingrédients divers",
          "aliments infantiles",
          "boissons",
          "entrées et plats composés",
          "fruits, légumes, légumineuses et oléagineux",
          "glaces et sorbets",
          "lait et produits laitiers",
          "matières grasses",
          "produits céréaliers",
          "produits sucrés",
          "viandes, œufs, poissons"
         ],
         "xaxis": "x6",
         "y": [
          0.011558024015,
          0.006430137503030303,
          0.004367418379342105,
          0.04079851814075342,
          0.08097638607464788,
          0.025304288,
          0.0060877804726457395,
          0.004060305378571429,
          0.009668880585106383,
          0.000883262879245283,
          0.08136811428852712
         ],
         "yaxis": "y6"
        },
        {
         "name": "Total",
         "type": "box",
         "x": [
          "aides culinaires et ingrédients divers",
          "aliments infantiles",
          "boissons",
          "entrées et plats composés",
          "fruits, légumes, légumineuses et oléagineux",
          "glaces et sorbets",
          "lait et produits laitiers",
          "matières grasses",
          "produits céréaliers",
          "produits sucrés",
          "viandes, œufs, poissons"
         ],
         "xaxis": "x7",
         "y": [
          3.1424265126239375,
          2.4032421405939393,
          1.5267757908857895,
          4.564750679283561,
          1.3863619592194834,
          1.7747387386,
          4.314803574759641,
          3.9622705746999998,
          2.493269569180851,
          6.709995863181132,
          12.826505048889146
         ],
         "yaxis": "y7"
        }
       ],
       "layout": {
        "template": {
         "data": {
          "bar": [
           {
            "error_x": {
             "color": "#2a3f5f"
            },
            "error_y": {
             "color": "#2a3f5f"
            },
            "marker": {
             "line": {
              "color": "#E5ECF6",
              "width": 0.5
             },
             "pattern": {
              "fillmode": "overlay",
              "size": 10,
              "solidity": 0.2
             }
            },
            "type": "bar"
           }
          ],
          "barpolar": [
           {
            "marker": {
             "line": {
              "color": "#E5ECF6",
              "width": 0.5
             },
             "pattern": {
              "fillmode": "overlay",
              "size": 10,
              "solidity": 0.2
             }
            },
            "type": "barpolar"
           }
          ],
          "carpet": [
           {
            "aaxis": {
             "endlinecolor": "#2a3f5f",
             "gridcolor": "white",
             "linecolor": "white",
             "minorgridcolor": "white",
             "startlinecolor": "#2a3f5f"
            },
            "baxis": {
             "endlinecolor": "#2a3f5f",
             "gridcolor": "white",
             "linecolor": "white",
             "minorgridcolor": "white",
             "startlinecolor": "#2a3f5f"
            },
            "type": "carpet"
           }
          ],
          "choropleth": [
           {
            "colorbar": {
             "outlinewidth": 0,
             "ticks": ""
            },
            "type": "choropleth"
           }
          ],
          "contour": [
           {
            "colorbar": {
             "outlinewidth": 0,
             "ticks": ""
            },
            "colorscale": [
             [
              0,
              "#0d0887"
             ],
             [
              0.1111111111111111,
              "#46039f"
             ],
             [
              0.2222222222222222,
              "#7201a8"
             ],
             [
              0.3333333333333333,
              "#9c179e"
             ],
             [
              0.4444444444444444,
              "#bd3786"
             ],
             [
              0.5555555555555556,
              "#d8576b"
             ],
             [
              0.6666666666666666,
              "#ed7953"
             ],
             [
              0.7777777777777778,
              "#fb9f3a"
             ],
             [
              0.8888888888888888,
              "#fdca26"
             ],
             [
              1,
              "#f0f921"
             ]
            ],
            "type": "contour"
           }
          ],
          "contourcarpet": [
           {
            "colorbar": {
             "outlinewidth": 0,
             "ticks": ""
            },
            "type": "contourcarpet"
           }
          ],
          "heatmap": [
           {
            "colorbar": {
             "outlinewidth": 0,
             "ticks": ""
            },
            "colorscale": [
             [
              0,
              "#0d0887"
             ],
             [
              0.1111111111111111,
              "#46039f"
             ],
             [
              0.2222222222222222,
              "#7201a8"
             ],
             [
              0.3333333333333333,
              "#9c179e"
             ],
             [
              0.4444444444444444,
              "#bd3786"
             ],
             [
              0.5555555555555556,
              "#d8576b"
             ],
             [
              0.6666666666666666,
              "#ed7953"
             ],
             [
              0.7777777777777778,
              "#fb9f3a"
             ],
             [
              0.8888888888888888,
              "#fdca26"
             ],
             [
              1,
              "#f0f921"
             ]
            ],
            "type": "heatmap"
           }
          ],
          "heatmapgl": [
           {
            "colorbar": {
             "outlinewidth": 0,
             "ticks": ""
            },
            "colorscale": [
             [
              0,
              "#0d0887"
             ],
             [
              0.1111111111111111,
              "#46039f"
             ],
             [
              0.2222222222222222,
              "#7201a8"
             ],
             [
              0.3333333333333333,
              "#9c179e"
             ],
             [
              0.4444444444444444,
              "#bd3786"
             ],
             [
              0.5555555555555556,
              "#d8576b"
             ],
             [
              0.6666666666666666,
              "#ed7953"
             ],
             [
              0.7777777777777778,
              "#fb9f3a"
             ],
             [
              0.8888888888888888,
              "#fdca26"
             ],
             [
              1,
              "#f0f921"
             ]
            ],
            "type": "heatmapgl"
           }
          ],
          "histogram": [
           {
            "marker": {
             "pattern": {
              "fillmode": "overlay",
              "size": 10,
              "solidity": 0.2
             }
            },
            "type": "histogram"
           }
          ],
          "histogram2d": [
           {
            "colorbar": {
             "outlinewidth": 0,
             "ticks": ""
            },
            "colorscale": [
             [
              0,
              "#0d0887"
             ],
             [
              0.1111111111111111,
              "#46039f"
             ],
             [
              0.2222222222222222,
              "#7201a8"
             ],
             [
              0.3333333333333333,
              "#9c179e"
             ],
             [
              0.4444444444444444,
              "#bd3786"
             ],
             [
              0.5555555555555556,
              "#d8576b"
             ],
             [
              0.6666666666666666,
              "#ed7953"
             ],
             [
              0.7777777777777778,
              "#fb9f3a"
             ],
             [
              0.8888888888888888,
              "#fdca26"
             ],
             [
              1,
              "#f0f921"
             ]
            ],
            "type": "histogram2d"
           }
          ],
          "histogram2dcontour": [
           {
            "colorbar": {
             "outlinewidth": 0,
             "ticks": ""
            },
            "colorscale": [
             [
              0,
              "#0d0887"
             ],
             [
              0.1111111111111111,
              "#46039f"
             ],
             [
              0.2222222222222222,
              "#7201a8"
             ],
             [
              0.3333333333333333,
              "#9c179e"
             ],
             [
              0.4444444444444444,
              "#bd3786"
             ],
             [
              0.5555555555555556,
              "#d8576b"
             ],
             [
              0.6666666666666666,
              "#ed7953"
             ],
             [
              0.7777777777777778,
              "#fb9f3a"
             ],
             [
              0.8888888888888888,
              "#fdca26"
             ],
             [
              1,
              "#f0f921"
             ]
            ],
            "type": "histogram2dcontour"
           }
          ],
          "mesh3d": [
           {
            "colorbar": {
             "outlinewidth": 0,
             "ticks": ""
            },
            "type": "mesh3d"
           }
          ],
          "parcoords": [
           {
            "line": {
             "colorbar": {
              "outlinewidth": 0,
              "ticks": ""
             }
            },
            "type": "parcoords"
           }
          ],
          "pie": [
           {
            "automargin": true,
            "type": "pie"
           }
          ],
          "scatter": [
           {
            "fillpattern": {
             "fillmode": "overlay",
             "size": 10,
             "solidity": 0.2
            },
            "type": "scatter"
           }
          ],
          "scatter3d": [
           {
            "line": {
             "colorbar": {
              "outlinewidth": 0,
              "ticks": ""
             }
            },
            "marker": {
             "colorbar": {
              "outlinewidth": 0,
              "ticks": ""
             }
            },
            "type": "scatter3d"
           }
          ],
          "scattercarpet": [
           {
            "marker": {
             "colorbar": {
              "outlinewidth": 0,
              "ticks": ""
             }
            },
            "type": "scattercarpet"
           }
          ],
          "scattergeo": [
           {
            "marker": {
             "colorbar": {
              "outlinewidth": 0,
              "ticks": ""
             }
            },
            "type": "scattergeo"
           }
          ],
          "scattergl": [
           {
            "marker": {
             "colorbar": {
              "outlinewidth": 0,
              "ticks": ""
             }
            },
            "type": "scattergl"
           }
          ],
          "scattermapbox": [
           {
            "marker": {
             "colorbar": {
              "outlinewidth": 0,
              "ticks": ""
             }
            },
            "type": "scattermapbox"
           }
          ],
          "scatterpolar": [
           {
            "marker": {
             "colorbar": {
              "outlinewidth": 0,
              "ticks": ""
             }
            },
            "type": "scatterpolar"
           }
          ],
          "scatterpolargl": [
           {
            "marker": {
             "colorbar": {
              "outlinewidth": 0,
              "ticks": ""
             }
            },
            "type": "scatterpolargl"
           }
          ],
          "scatterternary": [
           {
            "marker": {
             "colorbar": {
              "outlinewidth": 0,
              "ticks": ""
             }
            },
            "type": "scatterternary"
           }
          ],
          "surface": [
           {
            "colorbar": {
             "outlinewidth": 0,
             "ticks": ""
            },
            "colorscale": [
             [
              0,
              "#0d0887"
             ],
             [
              0.1111111111111111,
              "#46039f"
             ],
             [
              0.2222222222222222,
              "#7201a8"
             ],
             [
              0.3333333333333333,
              "#9c179e"
             ],
             [
              0.4444444444444444,
              "#bd3786"
             ],
             [
              0.5555555555555556,
              "#d8576b"
             ],
             [
              0.6666666666666666,
              "#ed7953"
             ],
             [
              0.7777777777777778,
              "#fb9f3a"
             ],
             [
              0.8888888888888888,
              "#fdca26"
             ],
             [
              1,
              "#f0f921"
             ]
            ],
            "type": "surface"
           }
          ],
          "table": [
           {
            "cells": {
             "fill": {
              "color": "#EBF0F8"
             },
             "line": {
              "color": "white"
             }
            },
            "header": {
             "fill": {
              "color": "#C8D4E3"
             },
             "line": {
              "color": "white"
             }
            },
            "type": "table"
           }
          ]
         },
         "layout": {
          "annotationdefaults": {
           "arrowcolor": "#2a3f5f",
           "arrowhead": 0,
           "arrowwidth": 1
          },
          "autotypenumbers": "strict",
          "coloraxis": {
           "colorbar": {
            "outlinewidth": 0,
            "ticks": ""
           }
          },
          "colorscale": {
           "diverging": [
            [
             0,
             "#8e0152"
            ],
            [
             0.1,
             "#c51b7d"
            ],
            [
             0.2,
             "#de77ae"
            ],
            [
             0.3,
             "#f1b6da"
            ],
            [
             0.4,
             "#fde0ef"
            ],
            [
             0.5,
             "#f7f7f7"
            ],
            [
             0.6,
             "#e6f5d0"
            ],
            [
             0.7,
             "#b8e186"
            ],
            [
             0.8,
             "#7fbc41"
            ],
            [
             0.9,
             "#4d9221"
            ],
            [
             1,
             "#276419"
            ]
           ],
           "sequential": [
            [
             0,
             "#0d0887"
            ],
            [
             0.1111111111111111,
             "#46039f"
            ],
            [
             0.2222222222222222,
             "#7201a8"
            ],
            [
             0.3333333333333333,
             "#9c179e"
            ],
            [
             0.4444444444444444,
             "#bd3786"
            ],
            [
             0.5555555555555556,
             "#d8576b"
            ],
            [
             0.6666666666666666,
             "#ed7953"
            ],
            [
             0.7777777777777778,
             "#fb9f3a"
            ],
            [
             0.8888888888888888,
             "#fdca26"
            ],
            [
             1,
             "#f0f921"
            ]
           ],
           "sequentialminus": [
            [
             0,
             "#0d0887"
            ],
            [
             0.1111111111111111,
             "#46039f"
            ],
            [
             0.2222222222222222,
             "#7201a8"
            ],
            [
             0.3333333333333333,
             "#9c179e"
            ],
            [
             0.4444444444444444,
             "#bd3786"
            ],
            [
             0.5555555555555556,
             "#d8576b"
            ],
            [
             0.6666666666666666,
             "#ed7953"
            ],
            [
             0.7777777777777778,
             "#fb9f3a"
            ],
            [
             0.8888888888888888,
             "#fdca26"
            ],
            [
             1,
             "#f0f921"
            ]
           ]
          },
          "colorway": [
           "#636efa",
           "#EF553B",
           "#00cc96",
           "#ab63fa",
           "#FFA15A",
           "#19d3f3",
           "#FF6692",
           "#B6E880",
           "#FF97FF",
           "#FECB52"
          ],
          "font": {
           "color": "#2a3f5f"
          },
          "geo": {
           "bgcolor": "white",
           "lakecolor": "white",
           "landcolor": "#E5ECF6",
           "showlakes": true,
           "showland": true,
           "subunitcolor": "white"
          },
          "hoverlabel": {
           "align": "left"
          },
          "hovermode": "closest",
          "mapbox": {
           "style": "light"
          },
          "paper_bgcolor": "white",
          "plot_bgcolor": "#E5ECF6",
          "polar": {
           "angularaxis": {
            "gridcolor": "white",
            "linecolor": "white",
            "ticks": ""
           },
           "bgcolor": "#E5ECF6",
           "radialaxis": {
            "gridcolor": "white",
            "linecolor": "white",
            "ticks": ""
           }
          },
          "scene": {
           "xaxis": {
            "backgroundcolor": "#E5ECF6",
            "gridcolor": "white",
            "gridwidth": 2,
            "linecolor": "white",
            "showbackground": true,
            "ticks": "",
            "zerolinecolor": "white"
           },
           "yaxis": {
            "backgroundcolor": "#E5ECF6",
            "gridcolor": "white",
            "gridwidth": 2,
            "linecolor": "white",
            "showbackground": true,
            "ticks": "",
            "zerolinecolor": "white"
           },
           "zaxis": {
            "backgroundcolor": "#E5ECF6",
            "gridcolor": "white",
            "gridwidth": 2,
            "linecolor": "white",
            "showbackground": true,
            "ticks": "",
            "zerolinecolor": "white"
           }
          },
          "shapedefaults": {
           "line": {
            "color": "#2a3f5f"
           }
          },
          "ternary": {
           "aaxis": {
            "gridcolor": "white",
            "linecolor": "white",
            "ticks": ""
           },
           "baxis": {
            "gridcolor": "white",
            "linecolor": "white",
            "ticks": ""
           },
           "bgcolor": "#E5ECF6",
           "caxis": {
            "gridcolor": "white",
            "linecolor": "white",
            "ticks": ""
           }
          },
          "title": {
           "x": 0.05
          },
          "xaxis": {
           "automargin": true,
           "gridcolor": "white",
           "linecolor": "white",
           "ticks": "",
           "title": {
            "standoff": 15
           },
           "zerolinecolor": "white",
           "zerolinewidth": 2
          },
          "yaxis": {
           "automargin": true,
           "gridcolor": "white",
           "linecolor": "white",
           "ticks": "",
           "title": {
            "standoff": 15
           },
           "zerolinecolor": "white",
           "zerolinewidth": 2
          }
         }
        },
        "xaxis": {
         "anchor": "y",
         "domain": [
          0,
          0.1183673469387755
         ],
         "title": {
          "text": "Agriculture"
         }
        },
        "xaxis2": {
         "anchor": "y2",
         "domain": [
          0.14693877551020407,
          0.26530612244897955
         ],
         "title": {
          "text": "Transformation"
         }
        },
        "xaxis3": {
         "anchor": "y3",
         "domain": [
          0.29387755102040813,
          0.4122448979591836
         ],
         "title": {
          "text": "Emballage"
         }
        },
        "xaxis4": {
         "anchor": "y4",
         "domain": [
          0.4408163265306122,
          0.5591836734693877
         ],
         "title": {
          "text": "Transport"
         }
        },
        "xaxis5": {
         "anchor": "y5",
         "domain": [
          0.5877551020408163,
          0.7061224489795918
         ],
         "title": {
          "text": "Supermarché et distribution"
         }
        },
        "xaxis6": {
         "anchor": "y6",
         "domain": [
          0.7346938775510204,
          0.8530612244897959
         ],
         "title": {
          "text": "Consommation"
         }
        },
        "xaxis7": {
         "anchor": "y7",
         "domain": [
          0.8816326530612244,
          0.9999999999999999
         ],
         "title": {
          "text": "Total"
         }
        },
        "yaxis": {
         "anchor": "x",
         "domain": [
          0,
          1
         ],
         "title": {
          "text": "kg CO2 eq/kg de produit"
         }
        },
        "yaxis2": {
         "anchor": "x2",
         "domain": [
          0,
          1
         ],
         "matches": "y",
         "showticklabels": false
        },
        "yaxis3": {
         "anchor": "x3",
         "domain": [
          0,
          1
         ],
         "matches": "y",
         "showticklabels": false
        },
        "yaxis4": {
         "anchor": "x4",
         "domain": [
          0,
          1
         ],
         "matches": "y",
         "showticklabels": false
        },
        "yaxis5": {
         "anchor": "x5",
         "domain": [
          0,
          1
         ],
         "matches": "y",
         "showticklabels": false
        },
        "yaxis6": {
         "anchor": "x6",
         "domain": [
          0,
          1
         ],
         "matches": "y",
         "showticklabels": false
        },
        "yaxis7": {
         "anchor": "x7",
         "domain": [
          0,
          1
         ],
         "matches": "y",
         "showticklabels": false
        }
       }
      }
     },
     "metadata": {},
     "output_type": "display_data"
    }
   ],
   "source": [
    "fig = make_subplots(rows=1, cols=7, shared_yaxes=True)\n",
    "for i, etape in enumerate( df_CO2_groupe[\"etape\"].unique()):\n",
    "    sub_df = df_CO2_groupe[df_CO2_groupe[\"etape\"] == etape]\n",
    "    graph = go.Box(x=sub_df[\"Groupe d'aliment\"], y=sub_df[\"value\"], name=etape) \n",
    "    fig.add_trace(graph, row=1, col=i+1)\n",
    "\n",
    "    # Set x-axis label for each subplot\n",
    "    fig.update_xaxes(title_text=etape, row=1, col=i+1)\n",
    "\n",
    "# Set y-axis label for the middle subplot\n",
    "fig.update_yaxes(title_text=\"kg CO2 eq/kg de produit\", row=1, col=1)\n",
    "\n",
    "\n",
    "fig.show()"
   ]
  },
  {
   "attachments": {},
   "cell_type": "markdown",
   "metadata": {},
   "source": []
  },
  {
   "cell_type": "code",
   "execution_count": 99,
   "metadata": {},
   "outputs": [
    {
     "data": {
      "application/vnd.plotly.v1+json": {
       "config": {
        "plotlyServerURL": "https://plot.ly"
       },
       "data": [
        {
         "marker": {
          "color": "#2E91E5"
         },
         "name": "aides culinaires et ingrédients divers",
         "showlegend": false,
         "type": "box",
         "xaxis": "x",
         "y": [
          2.0310656756250003
         ],
         "yaxis": "y"
        },
        {
         "marker": {
          "color": "#E15F99"
         },
         "name": "aliments infantiles",
         "showlegend": false,
         "type": "box",
         "xaxis": "x",
         "y": [
          1.620546050969697
         ],
         "yaxis": "y"
        },
        {
         "marker": {
          "color": "#1CA71C"
         },
         "name": "boissons",
         "showlegend": false,
         "type": "box",
         "xaxis": "x",
         "y": [
          0.6049996588732457
         ],
         "yaxis": "y"
        },
        {
         "marker": {
          "color": "#FB0D0D"
         },
         "name": "entrées et plats composés",
         "showlegend": false,
         "type": "box",
         "xaxis": "x",
         "y": [
          3.6593377774044518
         ],
         "yaxis": "y"
        },
        {
         "marker": {
          "color": "#DA16FF"
         },
         "name": "fruits, légumes, légumineuses et oléagineux",
         "showlegend": false,
         "type": "box",
         "xaxis": "x",
         "y": [
          0.6576618040640845
         ],
         "yaxis": "y"
        },
        {
         "marker": {
          "color": "#222A2A"
         },
         "name": "glaces et sorbets",
         "showlegend": false,
         "type": "box",
         "xaxis": "x",
         "y": [
          0.9959032292
         ],
         "yaxis": "y"
        },
        {
         "marker": {
          "color": "#B68100"
         },
         "name": "lait et produits laitiers",
         "showlegend": false,
         "type": "box",
         "xaxis": "x",
         "y": [
          3.4312579463228703
         ],
         "yaxis": "y"
        },
        {
         "marker": {
          "color": "#750D86"
         },
         "name": "matières grasses",
         "showlegend": false,
         "type": "box",
         "xaxis": "x",
         "y": [
          2.8306507560714285
         ],
         "yaxis": "y"
        },
        {
         "marker": {
          "color": "#EB663B"
         },
         "name": "produits céréaliers",
         "showlegend": false,
         "type": "box",
         "xaxis": "x",
         "y": [
          1.5138756528191488
         ],
         "yaxis": "y"
        },
        {
         "marker": {
          "color": "#511CFB"
         },
         "name": "produits sucrés",
         "showlegend": false,
         "type": "box",
         "xaxis": "x",
         "y": [
          1.6749821133962266
         ],
         "yaxis": "y"
        },
        {
         "marker": {
          "color": "#00A08B"
         },
         "name": "viandes, œufs, poissons",
         "showlegend": false,
         "type": "box",
         "xaxis": "x",
         "y": [
          11.332830680500775
         ],
         "yaxis": "y"
        },
        {
         "marker": {
          "color": "#2E91E5"
         },
         "name": "aides culinaires et ingrédients divers",
         "showlegend": false,
         "type": "box",
         "xaxis": "x2",
         "y": [
          0.5389585740051875
         ],
         "yaxis": "y2"
        },
        {
         "marker": {
          "color": "#E15F99"
         },
         "name": "aliments infantiles",
         "showlegend": false,
         "type": "box",
         "xaxis": "x2",
         "y": [
          0.4136260186969697
         ],
         "yaxis": "y2"
        },
        {
         "marker": {
          "color": "#1CA71C"
         },
         "name": "boissons",
         "showlegend": false,
         "type": "box",
         "xaxis": "x2",
         "y": [
          0.517808697631579
         ],
         "yaxis": "y2"
        },
        {
         "marker": {
          "color": "#FB0D0D"
         },
         "name": "entrées et plats composés",
         "showlegend": false,
         "type": "box",
         "xaxis": "x2",
         "y": [
          0.3549203766632192
         ],
         "yaxis": "y2"
        },
        {
         "marker": {
          "color": "#DA16FF"
         },
         "name": "fruits, légumes, légumineuses et oléagineux",
         "showlegend": false,
         "type": "box",
         "xaxis": "x2",
         "y": [
          0.11421412822394367
         ],
         "yaxis": "y2"
        },
        {
         "marker": {
          "color": "#222A2A"
         },
         "name": "glaces et sorbets",
         "showlegend": false,
         "type": "box",
         "xaxis": "x2",
         "y": [
          0.2987041836
         ],
         "yaxis": "y2"
        },
        {
         "marker": {
          "color": "#B68100"
         },
         "name": "lait et produits laitiers",
         "showlegend": false,
         "type": "box",
         "xaxis": "x2",
         "y": [
          0.4127855908834081
         ],
         "yaxis": "y2"
        },
        {
         "marker": {
          "color": "#750D86"
         },
         "name": "matières grasses",
         "showlegend": false,
         "type": "box",
         "xaxis": "x2",
         "y": [
          0.6247184898571428
         ],
         "yaxis": "y2"
        },
        {
         "marker": {
          "color": "#EB663B"
         },
         "name": "produits céréaliers",
         "showlegend": false,
         "type": "box",
         "xaxis": "x2",
         "y": [
          0.5912451626962766
         ],
         "yaxis": "y2"
        },
        {
         "marker": {
          "color": "#511CFB"
         },
         "name": "produits sucrés",
         "showlegend": false,
         "type": "box",
         "xaxis": "x2",
         "y": [
          4.6099286756603775
         ],
         "yaxis": "y2"
        },
        {
         "marker": {
          "color": "#00A08B"
         },
         "name": "viandes, œufs, poissons",
         "showlegend": false,
         "type": "box",
         "xaxis": "x2",
         "y": [
          0.42825317144155034
         ],
         "yaxis": "y2"
        },
        {
         "marker": {
          "color": "#2E91E5"
         },
         "name": "aides culinaires et ingrédients divers",
         "showlegend": false,
         "type": "box",
         "xaxis": "x3",
         "y": [
          0.29906204338500003
         ],
         "yaxis": "y3"
        },
        {
         "marker": {
          "color": "#E15F99"
         },
         "name": "aliments infantiles",
         "showlegend": false,
         "type": "box",
         "xaxis": "x3",
         "y": [
          0.18092949151515153
         ],
         "yaxis": "y3"
        },
        {
         "marker": {
          "color": "#1CA71C"
         },
         "name": "boissons",
         "showlegend": false,
         "type": "box",
         "xaxis": "x3",
         "y": [
          0.20840449558245616
         ],
         "yaxis": "y3"
        },
        {
         "marker": {
          "color": "#FB0D0D"
         },
         "name": "entrées et plats composés",
         "showlegend": false,
         "type": "box",
         "xaxis": "x3",
         "y": [
          0.19388097526917808
         ],
         "yaxis": "y3"
        },
        {
         "marker": {
          "color": "#DA16FF"
         },
         "name": "fruits, légumes, légumineuses et oléagineux",
         "showlegend": false,
         "type": "box",
         "xaxis": "x3",
         "y": [
          0.1804531436338028
         ],
         "yaxis": "y3"
        },
        {
         "marker": {
          "color": "#222A2A"
         },
         "name": "glaces et sorbets",
         "showlegend": false,
         "type": "box",
         "xaxis": "x3",
         "y": [
          0.18395141159999998
         ],
         "yaxis": "y3"
        },
        {
         "marker": {
          "color": "#B68100"
         },
         "name": "lait et produits laitiers",
         "showlegend": false,
         "type": "box",
         "xaxis": "x3",
         "y": [
          0.22054682839461884
         ],
         "yaxis": "y3"
        },
        {
         "marker": {
          "color": "#750D86"
         },
         "name": "matières grasses",
         "showlegend": false,
         "type": "box",
         "xaxis": "x3",
         "y": [
          0.18815171125
         ],
         "yaxis": "y3"
        },
        {
         "marker": {
          "color": "#EB663B"
         },
         "name": "produits céréaliers",
         "showlegend": false,
         "type": "box",
         "xaxis": "x3",
         "y": [
          0.19556825934840424
         ],
         "yaxis": "y3"
        },
        {
         "marker": {
          "color": "#511CFB"
         },
         "name": "produits sucrés",
         "showlegend": false,
         "type": "box",
         "xaxis": "x3",
         "y": [
          0.18430741724528302
         ],
         "yaxis": "y3"
        },
        {
         "marker": {
          "color": "#00A08B"
         },
         "name": "viandes, œufs, poissons",
         "showlegend": false,
         "type": "box",
         "xaxis": "x3",
         "y": [
          0.4026064527937984
         ],
         "yaxis": "y3"
        },
        {
         "marker": {
          "color": "#2E91E5"
         },
         "name": "aides culinaires et ingrédients divers",
         "showlegend": false,
         "type": "box",
         "xaxis": "x4",
         "y": [
          0.23579175886249998
         ],
         "yaxis": "y4"
        },
        {
         "marker": {
          "color": "#E15F99"
         },
         "name": "aliments infantiles",
         "showlegend": false,
         "type": "box",
         "xaxis": "x4",
         "y": [
          0.1618040887878788
         ],
         "yaxis": "y4"
        },
        {
         "marker": {
          "color": "#1CA71C"
         },
         "name": "boissons",
         "showlegend": false,
         "type": "box",
         "xaxis": "x4",
         "y": [
          0.17038965313070173
         ],
         "yaxis": "y4"
        },
        {
         "marker": {
          "color": "#FB0D0D"
         },
         "name": "entrées et plats composés",
         "showlegend": false,
         "type": "box",
         "xaxis": "x4",
         "y": [
          0.2841422032260274
         ],
         "yaxis": "y4"
        },
        {
         "marker": {
          "color": "#DA16FF"
         },
         "name": "fruits, légumes, légumineuses et oléagineux",
         "showlegend": false,
         "type": "box",
         "xaxis": "x4",
         "y": [
          0.31893820478403756
         ],
         "yaxis": "y4"
        },
        {
         "marker": {
          "color": "#222A2A"
         },
         "name": "glaces et sorbets",
         "showlegend": false,
         "type": "box",
         "xaxis": "x4",
         "y": [
          0.20635114719999997
         ],
         "yaxis": "y4"
        },
        {
         "marker": {
          "color": "#B68100"
         },
         "name": "lait et produits laitiers",
         "showlegend": false,
         "type": "box",
         "xaxis": "x4",
         "y": [
          0.21036399080717488
         ],
         "yaxis": "y4"
        },
        {
         "marker": {
          "color": "#750D86"
         },
         "name": "matières grasses",
         "showlegend": false,
         "type": "box",
         "xaxis": "x4",
         "y": [
          0.28502200642857145
         ],
         "yaxis": "y4"
        },
        {
         "marker": {
          "color": "#EB663B"
         },
         "name": "produits céréaliers",
         "showlegend": false,
         "type": "box",
         "xaxis": "x4",
         "y": [
          0.16504401318085107
         ],
         "yaxis": "y4"
        },
        {
         "marker": {
          "color": "#511CFB"
         },
         "name": "produits sucrés",
         "showlegend": false,
         "type": "box",
         "xaxis": "x4",
         "y": [
          0.2221376445283019
         ],
         "yaxis": "y4"
        },
        {
         "marker": {
          "color": "#00A08B"
         },
         "name": "viandes, œufs, poissons",
         "showlegend": false,
         "type": "box",
         "xaxis": "x4",
         "y": [
          0.5389515373736434
         ],
         "yaxis": "y4"
        },
        {
         "marker": {
          "color": "#2E91E5"
         },
         "name": "aides culinaires et ingrédients divers",
         "showlegend": false,
         "type": "box",
         "xaxis": "x5",
         "y": [
          0.02599043673125
         ],
         "yaxis": "y5"
        },
        {
         "marker": {
          "color": "#E15F99"
         },
         "name": "aliments infantiles",
         "showlegend": false,
         "type": "box",
         "xaxis": "x5",
         "y": [
          0.01990635312121212
         ],
         "yaxis": "y5"
        },
        {
         "marker": {
          "color": "#1CA71C"
         },
         "name": "boissons",
         "showlegend": false,
         "type": "box",
         "xaxis": "x5",
         "y": [
          0.020805867288464914
         ],
         "yaxis": "y5"
        },
        {
         "marker": {
          "color": "#FB0D0D"
         },
         "name": "entrées et plats composés",
         "showlegend": false,
         "type": "box",
         "xaxis": "x5",
         "y": [
          0.031670828579931504
         ],
         "yaxis": "y5"
        },
        {
         "marker": {
          "color": "#DA16FF"
         },
         "name": "fruits, légumes, légumineuses et oléagineux",
         "showlegend": false,
         "type": "box",
         "xaxis": "x5",
         "y": [
          0.034118292438967135
         ],
         "yaxis": "y5"
        },
        {
         "marker": {
          "color": "#222A2A"
         },
         "name": "glaces et sorbets",
         "showlegend": false,
         "type": "box",
         "xaxis": "x5",
         "y": [
          0.064524479
         ],
         "yaxis": "y5"
        },
        {
         "marker": {
          "color": "#B68100"
         },
         "name": "lait et produits laitiers",
         "showlegend": false,
         "type": "box",
         "xaxis": "x5",
         "y": [
          0.033761437878923765
         ],
         "yaxis": "y5"
        },
        {
         "marker": {
          "color": "#750D86"
         },
         "name": "matières grasses",
         "showlegend": false,
         "type": "box",
         "xaxis": "x5",
         "y": [
          0.029667305714285715
         ],
         "yaxis": "y5"
        },
        {
         "marker": {
          "color": "#EB663B"
         },
         "name": "produits céréaliers",
         "showlegend": false,
         "type": "box",
         "xaxis": "x5",
         "y": [
          0.017867600551063827
         ],
         "yaxis": "y5"
        },
        {
         "marker": {
          "color": "#511CFB"
         },
         "name": "produits sucrés",
         "showlegend": false,
         "type": "box",
         "xaxis": "x5",
         "y": [
          0.017756749471698113
         ],
         "yaxis": "y5"
        },
        {
         "marker": {
          "color": "#00A08B"
         },
         "name": "viandes, œufs, poissons",
         "showlegend": false,
         "type": "box",
         "xaxis": "x5",
         "y": [
          0.04249509249085271
         ],
         "yaxis": "y5"
        },
        {
         "marker": {
          "color": "#2E91E5"
         },
         "name": "aides culinaires et ingrédients divers",
         "showlegend": false,
         "type": "box",
         "xaxis": "x6",
         "y": [
          0.011558024015
         ],
         "yaxis": "y6"
        },
        {
         "marker": {
          "color": "#E15F99"
         },
         "name": "aliments infantiles",
         "showlegend": false,
         "type": "box",
         "xaxis": "x6",
         "y": [
          0.006430137503030303
         ],
         "yaxis": "y6"
        },
        {
         "marker": {
          "color": "#1CA71C"
         },
         "name": "boissons",
         "showlegend": false,
         "type": "box",
         "xaxis": "x6",
         "y": [
          0.004367418379342105
         ],
         "yaxis": "y6"
        },
        {
         "marker": {
          "color": "#FB0D0D"
         },
         "name": "entrées et plats composés",
         "showlegend": false,
         "type": "box",
         "xaxis": "x6",
         "y": [
          0.04079851814075342
         ],
         "yaxis": "y6"
        },
        {
         "marker": {
          "color": "#DA16FF"
         },
         "name": "fruits, légumes, légumineuses et oléagineux",
         "showlegend": false,
         "type": "box",
         "xaxis": "x6",
         "y": [
          0.08097638607464788
         ],
         "yaxis": "y6"
        },
        {
         "marker": {
          "color": "#222A2A"
         },
         "name": "glaces et sorbets",
         "showlegend": false,
         "type": "box",
         "xaxis": "x6",
         "y": [
          0.025304288
         ],
         "yaxis": "y6"
        },
        {
         "marker": {
          "color": "#B68100"
         },
         "name": "lait et produits laitiers",
         "showlegend": false,
         "type": "box",
         "xaxis": "x6",
         "y": [
          0.0060877804726457395
         ],
         "yaxis": "y6"
        },
        {
         "marker": {
          "color": "#750D86"
         },
         "name": "matières grasses",
         "showlegend": false,
         "type": "box",
         "xaxis": "x6",
         "y": [
          0.004060305378571429
         ],
         "yaxis": "y6"
        },
        {
         "marker": {
          "color": "#EB663B"
         },
         "name": "produits céréaliers",
         "showlegend": false,
         "type": "box",
         "xaxis": "x6",
         "y": [
          0.009668880585106383
         ],
         "yaxis": "y6"
        },
        {
         "marker": {
          "color": "#511CFB"
         },
         "name": "produits sucrés",
         "showlegend": false,
         "type": "box",
         "xaxis": "x6",
         "y": [
          0.000883262879245283
         ],
         "yaxis": "y6"
        },
        {
         "marker": {
          "color": "#00A08B"
         },
         "name": "viandes, œufs, poissons",
         "showlegend": false,
         "type": "box",
         "xaxis": "x6",
         "y": [
          0.08136811428852712
         ],
         "yaxis": "y6"
        },
        {
         "marker": {
          "color": "#2E91E5"
         },
         "name": "aides culinaires et ingrédients divers",
         "showlegend": false,
         "type": "box",
         "xaxis": "x7",
         "y": [
          3.1424265126239375
         ],
         "yaxis": "y7"
        },
        {
         "marker": {
          "color": "#E15F99"
         },
         "name": "aliments infantiles",
         "showlegend": false,
         "type": "box",
         "xaxis": "x7",
         "y": [
          2.4032421405939393
         ],
         "yaxis": "y7"
        },
        {
         "marker": {
          "color": "#1CA71C"
         },
         "name": "boissons",
         "showlegend": false,
         "type": "box",
         "xaxis": "x7",
         "y": [
          1.5267757908857895
         ],
         "yaxis": "y7"
        },
        {
         "marker": {
          "color": "#FB0D0D"
         },
         "name": "entrées et plats composés",
         "showlegend": false,
         "type": "box",
         "xaxis": "x7",
         "y": [
          4.564750679283561
         ],
         "yaxis": "y7"
        },
        {
         "marker": {
          "color": "#DA16FF"
         },
         "name": "fruits, légumes, légumineuses et oléagineux",
         "showlegend": false,
         "type": "box",
         "xaxis": "x7",
         "y": [
          1.3863619592194834
         ],
         "yaxis": "y7"
        },
        {
         "marker": {
          "color": "#222A2A"
         },
         "name": "glaces et sorbets",
         "showlegend": false,
         "type": "box",
         "xaxis": "x7",
         "y": [
          1.7747387386
         ],
         "yaxis": "y7"
        },
        {
         "marker": {
          "color": "#B68100"
         },
         "name": "lait et produits laitiers",
         "showlegend": false,
         "type": "box",
         "xaxis": "x7",
         "y": [
          4.314803574759641
         ],
         "yaxis": "y7"
        },
        {
         "marker": {
          "color": "#750D86"
         },
         "name": "matières grasses",
         "showlegend": false,
         "type": "box",
         "xaxis": "x7",
         "y": [
          3.9622705746999998
         ],
         "yaxis": "y7"
        },
        {
         "marker": {
          "color": "#EB663B"
         },
         "name": "produits céréaliers",
         "showlegend": false,
         "type": "box",
         "xaxis": "x7",
         "y": [
          2.493269569180851
         ],
         "yaxis": "y7"
        },
        {
         "marker": {
          "color": "#511CFB"
         },
         "name": "produits sucrés",
         "showlegend": false,
         "type": "box",
         "xaxis": "x7",
         "y": [
          6.709995863181132
         ],
         "yaxis": "y7"
        },
        {
         "marker": {
          "color": "#00A08B"
         },
         "name": "viandes, œufs, poissons",
         "showlegend": false,
         "type": "box",
         "xaxis": "x7",
         "y": [
          12.826505048889146
         ],
         "yaxis": "y7"
        },
        {
         "legendgroup": "aides culinaires et ingrédients divers",
         "marker": {
          "color": "#2E91E5",
          "symbol": "square"
         },
         "mode": "markers",
         "name": "aides culinaires et ingrédients divers",
         "showlegend": true,
         "type": "scatter",
         "x": [
          null
         ],
         "xaxis": "x",
         "y": [
          null
         ],
         "yaxis": "y"
        },
        {
         "legendgroup": "aliments infantiles",
         "marker": {
          "color": "#E15F99",
          "symbol": "square"
         },
         "mode": "markers",
         "name": "aliments infantiles",
         "showlegend": true,
         "type": "scatter",
         "x": [
          null
         ],
         "xaxis": "x",
         "y": [
          null
         ],
         "yaxis": "y"
        },
        {
         "legendgroup": "boissons",
         "marker": {
          "color": "#1CA71C",
          "symbol": "square"
         },
         "mode": "markers",
         "name": "boissons",
         "showlegend": true,
         "type": "scatter",
         "x": [
          null
         ],
         "xaxis": "x",
         "y": [
          null
         ],
         "yaxis": "y"
        },
        {
         "legendgroup": "entrées et plats composés",
         "marker": {
          "color": "#FB0D0D",
          "symbol": "square"
         },
         "mode": "markers",
         "name": "entrées et plats composés",
         "showlegend": true,
         "type": "scatter",
         "x": [
          null
         ],
         "xaxis": "x",
         "y": [
          null
         ],
         "yaxis": "y"
        },
        {
         "legendgroup": "fruits, légumes, légumineuses et oléagineux",
         "marker": {
          "color": "#DA16FF",
          "symbol": "square"
         },
         "mode": "markers",
         "name": "fruits, légumes, légumineuses et oléagineux",
         "showlegend": true,
         "type": "scatter",
         "x": [
          null
         ],
         "xaxis": "x",
         "y": [
          null
         ],
         "yaxis": "y"
        },
        {
         "legendgroup": "glaces et sorbets",
         "marker": {
          "color": "#222A2A",
          "symbol": "square"
         },
         "mode": "markers",
         "name": "glaces et sorbets",
         "showlegend": true,
         "type": "scatter",
         "x": [
          null
         ],
         "xaxis": "x",
         "y": [
          null
         ],
         "yaxis": "y"
        },
        {
         "legendgroup": "lait et produits laitiers",
         "marker": {
          "color": "#B68100",
          "symbol": "square"
         },
         "mode": "markers",
         "name": "lait et produits laitiers",
         "showlegend": true,
         "type": "scatter",
         "x": [
          null
         ],
         "xaxis": "x",
         "y": [
          null
         ],
         "yaxis": "y"
        },
        {
         "legendgroup": "matières grasses",
         "marker": {
          "color": "#750D86",
          "symbol": "square"
         },
         "mode": "markers",
         "name": "matières grasses",
         "showlegend": true,
         "type": "scatter",
         "x": [
          null
         ],
         "xaxis": "x",
         "y": [
          null
         ],
         "yaxis": "y"
        },
        {
         "legendgroup": "produits céréaliers",
         "marker": {
          "color": "#EB663B",
          "symbol": "square"
         },
         "mode": "markers",
         "name": "produits céréaliers",
         "showlegend": true,
         "type": "scatter",
         "x": [
          null
         ],
         "xaxis": "x",
         "y": [
          null
         ],
         "yaxis": "y"
        },
        {
         "legendgroup": "produits sucrés",
         "marker": {
          "color": "#511CFB",
          "symbol": "square"
         },
         "mode": "markers",
         "name": "produits sucrés",
         "showlegend": true,
         "type": "scatter",
         "x": [
          null
         ],
         "xaxis": "x",
         "y": [
          null
         ],
         "yaxis": "y"
        },
        {
         "legendgroup": "viandes, œufs, poissons",
         "marker": {
          "color": "#00A08B",
          "symbol": "square"
         },
         "mode": "markers",
         "name": "viandes, œufs, poissons",
         "showlegend": true,
         "type": "scatter",
         "x": [
          null
         ],
         "xaxis": "x",
         "y": [
          null
         ],
         "yaxis": "y"
        }
       ],
       "layout": {
        "template": {
         "data": {
          "bar": [
           {
            "error_x": {
             "color": "#2a3f5f"
            },
            "error_y": {
             "color": "#2a3f5f"
            },
            "marker": {
             "line": {
              "color": "#E5ECF6",
              "width": 0.5
             },
             "pattern": {
              "fillmode": "overlay",
              "size": 10,
              "solidity": 0.2
             }
            },
            "type": "bar"
           }
          ],
          "barpolar": [
           {
            "marker": {
             "line": {
              "color": "#E5ECF6",
              "width": 0.5
             },
             "pattern": {
              "fillmode": "overlay",
              "size": 10,
              "solidity": 0.2
             }
            },
            "type": "barpolar"
           }
          ],
          "carpet": [
           {
            "aaxis": {
             "endlinecolor": "#2a3f5f",
             "gridcolor": "white",
             "linecolor": "white",
             "minorgridcolor": "white",
             "startlinecolor": "#2a3f5f"
            },
            "baxis": {
             "endlinecolor": "#2a3f5f",
             "gridcolor": "white",
             "linecolor": "white",
             "minorgridcolor": "white",
             "startlinecolor": "#2a3f5f"
            },
            "type": "carpet"
           }
          ],
          "choropleth": [
           {
            "colorbar": {
             "outlinewidth": 0,
             "ticks": ""
            },
            "type": "choropleth"
           }
          ],
          "contour": [
           {
            "colorbar": {
             "outlinewidth": 0,
             "ticks": ""
            },
            "colorscale": [
             [
              0,
              "#0d0887"
             ],
             [
              0.1111111111111111,
              "#46039f"
             ],
             [
              0.2222222222222222,
              "#7201a8"
             ],
             [
              0.3333333333333333,
              "#9c179e"
             ],
             [
              0.4444444444444444,
              "#bd3786"
             ],
             [
              0.5555555555555556,
              "#d8576b"
             ],
             [
              0.6666666666666666,
              "#ed7953"
             ],
             [
              0.7777777777777778,
              "#fb9f3a"
             ],
             [
              0.8888888888888888,
              "#fdca26"
             ],
             [
              1,
              "#f0f921"
             ]
            ],
            "type": "contour"
           }
          ],
          "contourcarpet": [
           {
            "colorbar": {
             "outlinewidth": 0,
             "ticks": ""
            },
            "type": "contourcarpet"
           }
          ],
          "heatmap": [
           {
            "colorbar": {
             "outlinewidth": 0,
             "ticks": ""
            },
            "colorscale": [
             [
              0,
              "#0d0887"
             ],
             [
              0.1111111111111111,
              "#46039f"
             ],
             [
              0.2222222222222222,
              "#7201a8"
             ],
             [
              0.3333333333333333,
              "#9c179e"
             ],
             [
              0.4444444444444444,
              "#bd3786"
             ],
             [
              0.5555555555555556,
              "#d8576b"
             ],
             [
              0.6666666666666666,
              "#ed7953"
             ],
             [
              0.7777777777777778,
              "#fb9f3a"
             ],
             [
              0.8888888888888888,
              "#fdca26"
             ],
             [
              1,
              "#f0f921"
             ]
            ],
            "type": "heatmap"
           }
          ],
          "heatmapgl": [
           {
            "colorbar": {
             "outlinewidth": 0,
             "ticks": ""
            },
            "colorscale": [
             [
              0,
              "#0d0887"
             ],
             [
              0.1111111111111111,
              "#46039f"
             ],
             [
              0.2222222222222222,
              "#7201a8"
             ],
             [
              0.3333333333333333,
              "#9c179e"
             ],
             [
              0.4444444444444444,
              "#bd3786"
             ],
             [
              0.5555555555555556,
              "#d8576b"
             ],
             [
              0.6666666666666666,
              "#ed7953"
             ],
             [
              0.7777777777777778,
              "#fb9f3a"
             ],
             [
              0.8888888888888888,
              "#fdca26"
             ],
             [
              1,
              "#f0f921"
             ]
            ],
            "type": "heatmapgl"
           }
          ],
          "histogram": [
           {
            "marker": {
             "pattern": {
              "fillmode": "overlay",
              "size": 10,
              "solidity": 0.2
             }
            },
            "type": "histogram"
           }
          ],
          "histogram2d": [
           {
            "colorbar": {
             "outlinewidth": 0,
             "ticks": ""
            },
            "colorscale": [
             [
              0,
              "#0d0887"
             ],
             [
              0.1111111111111111,
              "#46039f"
             ],
             [
              0.2222222222222222,
              "#7201a8"
             ],
             [
              0.3333333333333333,
              "#9c179e"
             ],
             [
              0.4444444444444444,
              "#bd3786"
             ],
             [
              0.5555555555555556,
              "#d8576b"
             ],
             [
              0.6666666666666666,
              "#ed7953"
             ],
             [
              0.7777777777777778,
              "#fb9f3a"
             ],
             [
              0.8888888888888888,
              "#fdca26"
             ],
             [
              1,
              "#f0f921"
             ]
            ],
            "type": "histogram2d"
           }
          ],
          "histogram2dcontour": [
           {
            "colorbar": {
             "outlinewidth": 0,
             "ticks": ""
            },
            "colorscale": [
             [
              0,
              "#0d0887"
             ],
             [
              0.1111111111111111,
              "#46039f"
             ],
             [
              0.2222222222222222,
              "#7201a8"
             ],
             [
              0.3333333333333333,
              "#9c179e"
             ],
             [
              0.4444444444444444,
              "#bd3786"
             ],
             [
              0.5555555555555556,
              "#d8576b"
             ],
             [
              0.6666666666666666,
              "#ed7953"
             ],
             [
              0.7777777777777778,
              "#fb9f3a"
             ],
             [
              0.8888888888888888,
              "#fdca26"
             ],
             [
              1,
              "#f0f921"
             ]
            ],
            "type": "histogram2dcontour"
           }
          ],
          "mesh3d": [
           {
            "colorbar": {
             "outlinewidth": 0,
             "ticks": ""
            },
            "type": "mesh3d"
           }
          ],
          "parcoords": [
           {
            "line": {
             "colorbar": {
              "outlinewidth": 0,
              "ticks": ""
             }
            },
            "type": "parcoords"
           }
          ],
          "pie": [
           {
            "automargin": true,
            "type": "pie"
           }
          ],
          "scatter": [
           {
            "fillpattern": {
             "fillmode": "overlay",
             "size": 10,
             "solidity": 0.2
            },
            "type": "scatter"
           }
          ],
          "scatter3d": [
           {
            "line": {
             "colorbar": {
              "outlinewidth": 0,
              "ticks": ""
             }
            },
            "marker": {
             "colorbar": {
              "outlinewidth": 0,
              "ticks": ""
             }
            },
            "type": "scatter3d"
           }
          ],
          "scattercarpet": [
           {
            "marker": {
             "colorbar": {
              "outlinewidth": 0,
              "ticks": ""
             }
            },
            "type": "scattercarpet"
           }
          ],
          "scattergeo": [
           {
            "marker": {
             "colorbar": {
              "outlinewidth": 0,
              "ticks": ""
             }
            },
            "type": "scattergeo"
           }
          ],
          "scattergl": [
           {
            "marker": {
             "colorbar": {
              "outlinewidth": 0,
              "ticks": ""
             }
            },
            "type": "scattergl"
           }
          ],
          "scattermapbox": [
           {
            "marker": {
             "colorbar": {
              "outlinewidth": 0,
              "ticks": ""
             }
            },
            "type": "scattermapbox"
           }
          ],
          "scatterpolar": [
           {
            "marker": {
             "colorbar": {
              "outlinewidth": 0,
              "ticks": ""
             }
            },
            "type": "scatterpolar"
           }
          ],
          "scatterpolargl": [
           {
            "marker": {
             "colorbar": {
              "outlinewidth": 0,
              "ticks": ""
             }
            },
            "type": "scatterpolargl"
           }
          ],
          "scatterternary": [
           {
            "marker": {
             "colorbar": {
              "outlinewidth": 0,
              "ticks": ""
             }
            },
            "type": "scatterternary"
           }
          ],
          "surface": [
           {
            "colorbar": {
             "outlinewidth": 0,
             "ticks": ""
            },
            "colorscale": [
             [
              0,
              "#0d0887"
             ],
             [
              0.1111111111111111,
              "#46039f"
             ],
             [
              0.2222222222222222,
              "#7201a8"
             ],
             [
              0.3333333333333333,
              "#9c179e"
             ],
             [
              0.4444444444444444,
              "#bd3786"
             ],
             [
              0.5555555555555556,
              "#d8576b"
             ],
             [
              0.6666666666666666,
              "#ed7953"
             ],
             [
              0.7777777777777778,
              "#fb9f3a"
             ],
             [
              0.8888888888888888,
              "#fdca26"
             ],
             [
              1,
              "#f0f921"
             ]
            ],
            "type": "surface"
           }
          ],
          "table": [
           {
            "cells": {
             "fill": {
              "color": "#EBF0F8"
             },
             "line": {
              "color": "white"
             }
            },
            "header": {
             "fill": {
              "color": "#C8D4E3"
             },
             "line": {
              "color": "white"
             }
            },
            "type": "table"
           }
          ]
         },
         "layout": {
          "annotationdefaults": {
           "arrowcolor": "#2a3f5f",
           "arrowhead": 0,
           "arrowwidth": 1
          },
          "autotypenumbers": "strict",
          "coloraxis": {
           "colorbar": {
            "outlinewidth": 0,
            "ticks": ""
           }
          },
          "colorscale": {
           "diverging": [
            [
             0,
             "#8e0152"
            ],
            [
             0.1,
             "#c51b7d"
            ],
            [
             0.2,
             "#de77ae"
            ],
            [
             0.3,
             "#f1b6da"
            ],
            [
             0.4,
             "#fde0ef"
            ],
            [
             0.5,
             "#f7f7f7"
            ],
            [
             0.6,
             "#e6f5d0"
            ],
            [
             0.7,
             "#b8e186"
            ],
            [
             0.8,
             "#7fbc41"
            ],
            [
             0.9,
             "#4d9221"
            ],
            [
             1,
             "#276419"
            ]
           ],
           "sequential": [
            [
             0,
             "#0d0887"
            ],
            [
             0.1111111111111111,
             "#46039f"
            ],
            [
             0.2222222222222222,
             "#7201a8"
            ],
            [
             0.3333333333333333,
             "#9c179e"
            ],
            [
             0.4444444444444444,
             "#bd3786"
            ],
            [
             0.5555555555555556,
             "#d8576b"
            ],
            [
             0.6666666666666666,
             "#ed7953"
            ],
            [
             0.7777777777777778,
             "#fb9f3a"
            ],
            [
             0.8888888888888888,
             "#fdca26"
            ],
            [
             1,
             "#f0f921"
            ]
           ],
           "sequentialminus": [
            [
             0,
             "#0d0887"
            ],
            [
             0.1111111111111111,
             "#46039f"
            ],
            [
             0.2222222222222222,
             "#7201a8"
            ],
            [
             0.3333333333333333,
             "#9c179e"
            ],
            [
             0.4444444444444444,
             "#bd3786"
            ],
            [
             0.5555555555555556,
             "#d8576b"
            ],
            [
             0.6666666666666666,
             "#ed7953"
            ],
            [
             0.7777777777777778,
             "#fb9f3a"
            ],
            [
             0.8888888888888888,
             "#fdca26"
            ],
            [
             1,
             "#f0f921"
            ]
           ]
          },
          "colorway": [
           "#636efa",
           "#EF553B",
           "#00cc96",
           "#ab63fa",
           "#FFA15A",
           "#19d3f3",
           "#FF6692",
           "#B6E880",
           "#FF97FF",
           "#FECB52"
          ],
          "font": {
           "color": "#2a3f5f"
          },
          "geo": {
           "bgcolor": "white",
           "lakecolor": "white",
           "landcolor": "#E5ECF6",
           "showlakes": true,
           "showland": true,
           "subunitcolor": "white"
          },
          "hoverlabel": {
           "align": "left"
          },
          "hovermode": "closest",
          "mapbox": {
           "style": "light"
          },
          "paper_bgcolor": "white",
          "plot_bgcolor": "#E5ECF6",
          "polar": {
           "angularaxis": {
            "gridcolor": "white",
            "linecolor": "white",
            "ticks": ""
           },
           "bgcolor": "#E5ECF6",
           "radialaxis": {
            "gridcolor": "white",
            "linecolor": "white",
            "ticks": ""
           }
          },
          "scene": {
           "xaxis": {
            "backgroundcolor": "#E5ECF6",
            "gridcolor": "white",
            "gridwidth": 2,
            "linecolor": "white",
            "showbackground": true,
            "ticks": "",
            "zerolinecolor": "white"
           },
           "yaxis": {
            "backgroundcolor": "#E5ECF6",
            "gridcolor": "white",
            "gridwidth": 2,
            "linecolor": "white",
            "showbackground": true,
            "ticks": "",
            "zerolinecolor": "white"
           },
           "zaxis": {
            "backgroundcolor": "#E5ECF6",
            "gridcolor": "white",
            "gridwidth": 2,
            "linecolor": "white",
            "showbackground": true,
            "ticks": "",
            "zerolinecolor": "white"
           }
          },
          "shapedefaults": {
           "line": {
            "color": "#2a3f5f"
           }
          },
          "ternary": {
           "aaxis": {
            "gridcolor": "white",
            "linecolor": "white",
            "ticks": ""
           },
           "baxis": {
            "gridcolor": "white",
            "linecolor": "white",
            "ticks": ""
           },
           "bgcolor": "#E5ECF6",
           "caxis": {
            "gridcolor": "white",
            "linecolor": "white",
            "ticks": ""
           }
          },
          "title": {
           "x": 0.05
          },
          "xaxis": {
           "automargin": true,
           "gridcolor": "white",
           "linecolor": "white",
           "ticks": "",
           "title": {
            "standoff": 15
           },
           "zerolinecolor": "white",
           "zerolinewidth": 2
          },
          "yaxis": {
           "automargin": true,
           "gridcolor": "white",
           "linecolor": "white",
           "ticks": "",
           "title": {
            "standoff": 15
           },
           "zerolinecolor": "white",
           "zerolinewidth": 2
          }
         }
        },
        "xaxis": {
         "anchor": "y",
         "domain": [
          0,
          0.1183673469387755
         ],
         "title": {
          "text": "Agriculture"
         }
        },
        "xaxis2": {
         "anchor": "y2",
         "domain": [
          0.14693877551020407,
          0.26530612244897955
         ],
         "title": {
          "text": "Transformation"
         }
        },
        "xaxis3": {
         "anchor": "y3",
         "domain": [
          0.29387755102040813,
          0.4122448979591836
         ],
         "title": {
          "text": "Emballage"
         }
        },
        "xaxis4": {
         "anchor": "y4",
         "domain": [
          0.4408163265306122,
          0.5591836734693877
         ],
         "title": {
          "text": "Transport"
         }
        },
        "xaxis5": {
         "anchor": "y5",
         "domain": [
          0.5877551020408163,
          0.7061224489795918
         ],
         "title": {
          "text": "Supermarché et distribution"
         }
        },
        "xaxis6": {
         "anchor": "y6",
         "domain": [
          0.7346938775510204,
          0.8530612244897959
         ],
         "title": {
          "text": "Consommation"
         }
        },
        "xaxis7": {
         "anchor": "y7",
         "domain": [
          0.8816326530612244,
          0.9999999999999999
         ],
         "title": {
          "text": "Total"
         }
        },
        "yaxis": {
         "anchor": "x",
         "domain": [
          0,
          1
         ],
         "title": {
          "text": "kg CO2 eq/kg de produit"
         }
        },
        "yaxis2": {
         "anchor": "x2",
         "domain": [
          0,
          1
         ],
         "matches": "y",
         "showticklabels": false
        },
        "yaxis3": {
         "anchor": "x3",
         "domain": [
          0,
          1
         ],
         "matches": "y",
         "showticklabels": false
        },
        "yaxis4": {
         "anchor": "x4",
         "domain": [
          0,
          1
         ],
         "matches": "y",
         "showticklabels": false
        },
        "yaxis5": {
         "anchor": "x5",
         "domain": [
          0,
          1
         ],
         "matches": "y",
         "showticklabels": false
        },
        "yaxis6": {
         "anchor": "x6",
         "domain": [
          0,
          1
         ],
         "matches": "y",
         "showticklabels": false
        },
        "yaxis7": {
         "anchor": "x7",
         "domain": [
          0,
          1
         ],
         "matches": "y",
         "showticklabels": false
        }
       }
      }
     },
     "metadata": {},
     "output_type": "display_data"
    }
   ],
   "source": [
    "fig = make_subplots(rows=1, cols=7, shared_yaxes=True)\n",
    "couleur = px.colors.qualitative.Dark24[:df_CO2_groupe[\"Groupe d'aliment\"].nunique()]\n",
    "for i, etape in enumerate(df_CO2_groupe[\"etape\"].unique()):\n",
    "    sub_df = df_CO2_groupe[df_CO2_groupe[\"etape\"] == etape]\n",
    "    box_data = []\n",
    "    for j, aliment in enumerate(df_CO2_groupe[\"Groupe d'aliment\"].unique()):\n",
    "        sub_df_aliment = sub_df[sub_df[\"Groupe d'aliment\"] == aliment]\n",
    "        box_data.append(go.Box(y=sub_df_aliment[\"value\"], name=aliment, marker=dict(color=couleur[j])))\n",
    "    \n",
    "    for trace in box_data:\n",
    "        fig.add_trace(trace, row=1, col=i+1)\n",
    "\n",
    "    # Set x-axis label for each subplot\n",
    "    fig.update_xaxes(title_text=etape, row=1, col=i+1)\n",
    "\n",
    "# Set y-axis label for the middle subplot\n",
    "fig.update_yaxes(title_text=\"kg CO2 eq/kg de produit\", row=1, col=1)\n",
    "\n",
    "# Hide column name from the legend because they are repeated\n",
    "fig.update_traces(showlegend=False, selector=dict(type='box'))\n",
    "\n",
    "# And then we add legend for each color with ingredient name\n",
    "for j, aliment in enumerate(df_CO2_groupe[\"Groupe d'aliment\"].unique()):\n",
    "    fig.add_trace(go.Scatter(x=[None], y=[None], mode='markers', marker=dict(color=couleur[j], symbol='square'), showlegend=True, legendgroup=aliment, name=aliment), row=1, col=1)\n",
    "\n",
    "fig.show()"
   ]
  },
  {
   "cell_type": "code",
   "execution_count": 86,
   "metadata": {},
   "outputs": [
    {
     "data": {
      "application/vnd.plotly.v1+json": {
       "config": {
        "plotlyServerURL": "https://plot.ly"
       },
       "data": [
        {
         "marker": {
          "color": [
           "#2E91E5"
          ]
         },
         "name": "Agriculture",
         "showlegend": false,
         "type": "bar",
         "x": [
          "viandes, œufs, poissons"
         ],
         "xaxis": "x",
         "y": [
          11.332830680500775
         ],
         "yaxis": "y"
        },
        {
         "marker": {
          "color": [
           "#2E91E5"
          ]
         },
         "name": "Transformation",
         "showlegend": false,
         "type": "bar",
         "x": [
          "viandes, œufs, poissons"
         ],
         "xaxis": "x2",
         "y": [
          0.42825317144155034
         ],
         "yaxis": "y2"
        },
        {
         "marker": {
          "color": [
           "#2E91E5"
          ]
         },
         "name": "Emballage",
         "showlegend": false,
         "type": "bar",
         "x": [
          "viandes, œufs, poissons"
         ],
         "xaxis": "x3",
         "y": [
          0.4026064527937984
         ],
         "yaxis": "y3"
        },
        {
         "marker": {
          "color": [
           "#2E91E5"
          ]
         },
         "name": "Transport",
         "showlegend": false,
         "type": "bar",
         "x": [
          "viandes, œufs, poissons"
         ],
         "xaxis": "x4",
         "y": [
          0.5389515373736434
         ],
         "yaxis": "y4"
        },
        {
         "marker": {
          "color": [
           "#2E91E5"
          ]
         },
         "name": "Supermarché et distribution",
         "showlegend": false,
         "type": "bar",
         "x": [
          "viandes, œufs, poissons"
         ],
         "xaxis": "x5",
         "y": [
          0.04249509249085271
         ],
         "yaxis": "y5"
        },
        {
         "marker": {
          "color": [
           "#2E91E5"
          ]
         },
         "name": "Consommation",
         "showlegend": false,
         "type": "bar",
         "x": [
          "viandes, œufs, poissons"
         ],
         "xaxis": "x6",
         "y": [
          0.08136811428852712
         ],
         "yaxis": "y6"
        },
        {
         "marker": {
          "color": [
           "#2E91E5"
          ]
         },
         "name": "Total",
         "showlegend": false,
         "type": "bar",
         "x": [
          "viandes, œufs, poissons"
         ],
         "xaxis": "x7",
         "y": [
          12.826505048889146
         ],
         "yaxis": "y7"
        },
        {
         "legendgroup": "viandes, œufs, poissons",
         "marker": {
          "color": [
           "#2E91E5"
          ],
          "size": 10,
          "symbol": "square"
         },
         "mode": "markers",
         "name": "viandes, œufs, poissons",
         "showlegend": true,
         "type": "scatter",
         "x": [
          null
         ],
         "xaxis": "x",
         "y": [
          null
         ],
         "yaxis": "y"
        }
       ],
       "layout": {
        "template": {
         "data": {
          "bar": [
           {
            "error_x": {
             "color": "#2a3f5f"
            },
            "error_y": {
             "color": "#2a3f5f"
            },
            "marker": {
             "line": {
              "color": "#E5ECF6",
              "width": 0.5
             },
             "pattern": {
              "fillmode": "overlay",
              "size": 10,
              "solidity": 0.2
             }
            },
            "type": "bar"
           }
          ],
          "barpolar": [
           {
            "marker": {
             "line": {
              "color": "#E5ECF6",
              "width": 0.5
             },
             "pattern": {
              "fillmode": "overlay",
              "size": 10,
              "solidity": 0.2
             }
            },
            "type": "barpolar"
           }
          ],
          "carpet": [
           {
            "aaxis": {
             "endlinecolor": "#2a3f5f",
             "gridcolor": "white",
             "linecolor": "white",
             "minorgridcolor": "white",
             "startlinecolor": "#2a3f5f"
            },
            "baxis": {
             "endlinecolor": "#2a3f5f",
             "gridcolor": "white",
             "linecolor": "white",
             "minorgridcolor": "white",
             "startlinecolor": "#2a3f5f"
            },
            "type": "carpet"
           }
          ],
          "choropleth": [
           {
            "colorbar": {
             "outlinewidth": 0,
             "ticks": ""
            },
            "type": "choropleth"
           }
          ],
          "contour": [
           {
            "colorbar": {
             "outlinewidth": 0,
             "ticks": ""
            },
            "colorscale": [
             [
              0,
              "#0d0887"
             ],
             [
              0.1111111111111111,
              "#46039f"
             ],
             [
              0.2222222222222222,
              "#7201a8"
             ],
             [
              0.3333333333333333,
              "#9c179e"
             ],
             [
              0.4444444444444444,
              "#bd3786"
             ],
             [
              0.5555555555555556,
              "#d8576b"
             ],
             [
              0.6666666666666666,
              "#ed7953"
             ],
             [
              0.7777777777777778,
              "#fb9f3a"
             ],
             [
              0.8888888888888888,
              "#fdca26"
             ],
             [
              1,
              "#f0f921"
             ]
            ],
            "type": "contour"
           }
          ],
          "contourcarpet": [
           {
            "colorbar": {
             "outlinewidth": 0,
             "ticks": ""
            },
            "type": "contourcarpet"
           }
          ],
          "heatmap": [
           {
            "colorbar": {
             "outlinewidth": 0,
             "ticks": ""
            },
            "colorscale": [
             [
              0,
              "#0d0887"
             ],
             [
              0.1111111111111111,
              "#46039f"
             ],
             [
              0.2222222222222222,
              "#7201a8"
             ],
             [
              0.3333333333333333,
              "#9c179e"
             ],
             [
              0.4444444444444444,
              "#bd3786"
             ],
             [
              0.5555555555555556,
              "#d8576b"
             ],
             [
              0.6666666666666666,
              "#ed7953"
             ],
             [
              0.7777777777777778,
              "#fb9f3a"
             ],
             [
              0.8888888888888888,
              "#fdca26"
             ],
             [
              1,
              "#f0f921"
             ]
            ],
            "type": "heatmap"
           }
          ],
          "heatmapgl": [
           {
            "colorbar": {
             "outlinewidth": 0,
             "ticks": ""
            },
            "colorscale": [
             [
              0,
              "#0d0887"
             ],
             [
              0.1111111111111111,
              "#46039f"
             ],
             [
              0.2222222222222222,
              "#7201a8"
             ],
             [
              0.3333333333333333,
              "#9c179e"
             ],
             [
              0.4444444444444444,
              "#bd3786"
             ],
             [
              0.5555555555555556,
              "#d8576b"
             ],
             [
              0.6666666666666666,
              "#ed7953"
             ],
             [
              0.7777777777777778,
              "#fb9f3a"
             ],
             [
              0.8888888888888888,
              "#fdca26"
             ],
             [
              1,
              "#f0f921"
             ]
            ],
            "type": "heatmapgl"
           }
          ],
          "histogram": [
           {
            "marker": {
             "pattern": {
              "fillmode": "overlay",
              "size": 10,
              "solidity": 0.2
             }
            },
            "type": "histogram"
           }
          ],
          "histogram2d": [
           {
            "colorbar": {
             "outlinewidth": 0,
             "ticks": ""
            },
            "colorscale": [
             [
              0,
              "#0d0887"
             ],
             [
              0.1111111111111111,
              "#46039f"
             ],
             [
              0.2222222222222222,
              "#7201a8"
             ],
             [
              0.3333333333333333,
              "#9c179e"
             ],
             [
              0.4444444444444444,
              "#bd3786"
             ],
             [
              0.5555555555555556,
              "#d8576b"
             ],
             [
              0.6666666666666666,
              "#ed7953"
             ],
             [
              0.7777777777777778,
              "#fb9f3a"
             ],
             [
              0.8888888888888888,
              "#fdca26"
             ],
             [
              1,
              "#f0f921"
             ]
            ],
            "type": "histogram2d"
           }
          ],
          "histogram2dcontour": [
           {
            "colorbar": {
             "outlinewidth": 0,
             "ticks": ""
            },
            "colorscale": [
             [
              0,
              "#0d0887"
             ],
             [
              0.1111111111111111,
              "#46039f"
             ],
             [
              0.2222222222222222,
              "#7201a8"
             ],
             [
              0.3333333333333333,
              "#9c179e"
             ],
             [
              0.4444444444444444,
              "#bd3786"
             ],
             [
              0.5555555555555556,
              "#d8576b"
             ],
             [
              0.6666666666666666,
              "#ed7953"
             ],
             [
              0.7777777777777778,
              "#fb9f3a"
             ],
             [
              0.8888888888888888,
              "#fdca26"
             ],
             [
              1,
              "#f0f921"
             ]
            ],
            "type": "histogram2dcontour"
           }
          ],
          "mesh3d": [
           {
            "colorbar": {
             "outlinewidth": 0,
             "ticks": ""
            },
            "type": "mesh3d"
           }
          ],
          "parcoords": [
           {
            "line": {
             "colorbar": {
              "outlinewidth": 0,
              "ticks": ""
             }
            },
            "type": "parcoords"
           }
          ],
          "pie": [
           {
            "automargin": true,
            "type": "pie"
           }
          ],
          "scatter": [
           {
            "fillpattern": {
             "fillmode": "overlay",
             "size": 10,
             "solidity": 0.2
            },
            "type": "scatter"
           }
          ],
          "scatter3d": [
           {
            "line": {
             "colorbar": {
              "outlinewidth": 0,
              "ticks": ""
             }
            },
            "marker": {
             "colorbar": {
              "outlinewidth": 0,
              "ticks": ""
             }
            },
            "type": "scatter3d"
           }
          ],
          "scattercarpet": [
           {
            "marker": {
             "colorbar": {
              "outlinewidth": 0,
              "ticks": ""
             }
            },
            "type": "scattercarpet"
           }
          ],
          "scattergeo": [
           {
            "marker": {
             "colorbar": {
              "outlinewidth": 0,
              "ticks": ""
             }
            },
            "type": "scattergeo"
           }
          ],
          "scattergl": [
           {
            "marker": {
             "colorbar": {
              "outlinewidth": 0,
              "ticks": ""
             }
            },
            "type": "scattergl"
           }
          ],
          "scattermapbox": [
           {
            "marker": {
             "colorbar": {
              "outlinewidth": 0,
              "ticks": ""
             }
            },
            "type": "scattermapbox"
           }
          ],
          "scatterpolar": [
           {
            "marker": {
             "colorbar": {
              "outlinewidth": 0,
              "ticks": ""
             }
            },
            "type": "scatterpolar"
           }
          ],
          "scatterpolargl": [
           {
            "marker": {
             "colorbar": {
              "outlinewidth": 0,
              "ticks": ""
             }
            },
            "type": "scatterpolargl"
           }
          ],
          "scatterternary": [
           {
            "marker": {
             "colorbar": {
              "outlinewidth": 0,
              "ticks": ""
             }
            },
            "type": "scatterternary"
           }
          ],
          "surface": [
           {
            "colorbar": {
             "outlinewidth": 0,
             "ticks": ""
            },
            "colorscale": [
             [
              0,
              "#0d0887"
             ],
             [
              0.1111111111111111,
              "#46039f"
             ],
             [
              0.2222222222222222,
              "#7201a8"
             ],
             [
              0.3333333333333333,
              "#9c179e"
             ],
             [
              0.4444444444444444,
              "#bd3786"
             ],
             [
              0.5555555555555556,
              "#d8576b"
             ],
             [
              0.6666666666666666,
              "#ed7953"
             ],
             [
              0.7777777777777778,
              "#fb9f3a"
             ],
             [
              0.8888888888888888,
              "#fdca26"
             ],
             [
              1,
              "#f0f921"
             ]
            ],
            "type": "surface"
           }
          ],
          "table": [
           {
            "cells": {
             "fill": {
              "color": "#EBF0F8"
             },
             "line": {
              "color": "white"
             }
            },
            "header": {
             "fill": {
              "color": "#C8D4E3"
             },
             "line": {
              "color": "white"
             }
            },
            "type": "table"
           }
          ]
         },
         "layout": {
          "annotationdefaults": {
           "arrowcolor": "#2a3f5f",
           "arrowhead": 0,
           "arrowwidth": 1
          },
          "autotypenumbers": "strict",
          "coloraxis": {
           "colorbar": {
            "outlinewidth": 0,
            "ticks": ""
           }
          },
          "colorscale": {
           "diverging": [
            [
             0,
             "#8e0152"
            ],
            [
             0.1,
             "#c51b7d"
            ],
            [
             0.2,
             "#de77ae"
            ],
            [
             0.3,
             "#f1b6da"
            ],
            [
             0.4,
             "#fde0ef"
            ],
            [
             0.5,
             "#f7f7f7"
            ],
            [
             0.6,
             "#e6f5d0"
            ],
            [
             0.7,
             "#b8e186"
            ],
            [
             0.8,
             "#7fbc41"
            ],
            [
             0.9,
             "#4d9221"
            ],
            [
             1,
             "#276419"
            ]
           ],
           "sequential": [
            [
             0,
             "#0d0887"
            ],
            [
             0.1111111111111111,
             "#46039f"
            ],
            [
             0.2222222222222222,
             "#7201a8"
            ],
            [
             0.3333333333333333,
             "#9c179e"
            ],
            [
             0.4444444444444444,
             "#bd3786"
            ],
            [
             0.5555555555555556,
             "#d8576b"
            ],
            [
             0.6666666666666666,
             "#ed7953"
            ],
            [
             0.7777777777777778,
             "#fb9f3a"
            ],
            [
             0.8888888888888888,
             "#fdca26"
            ],
            [
             1,
             "#f0f921"
            ]
           ],
           "sequentialminus": [
            [
             0,
             "#0d0887"
            ],
            [
             0.1111111111111111,
             "#46039f"
            ],
            [
             0.2222222222222222,
             "#7201a8"
            ],
            [
             0.3333333333333333,
             "#9c179e"
            ],
            [
             0.4444444444444444,
             "#bd3786"
            ],
            [
             0.5555555555555556,
             "#d8576b"
            ],
            [
             0.6666666666666666,
             "#ed7953"
            ],
            [
             0.7777777777777778,
             "#fb9f3a"
            ],
            [
             0.8888888888888888,
             "#fdca26"
            ],
            [
             1,
             "#f0f921"
            ]
           ]
          },
          "colorway": [
           "#636efa",
           "#EF553B",
           "#00cc96",
           "#ab63fa",
           "#FFA15A",
           "#19d3f3",
           "#FF6692",
           "#B6E880",
           "#FF97FF",
           "#FECB52"
          ],
          "font": {
           "color": "#2a3f5f"
          },
          "geo": {
           "bgcolor": "white",
           "lakecolor": "white",
           "landcolor": "#E5ECF6",
           "showlakes": true,
           "showland": true,
           "subunitcolor": "white"
          },
          "hoverlabel": {
           "align": "left"
          },
          "hovermode": "closest",
          "mapbox": {
           "style": "light"
          },
          "paper_bgcolor": "white",
          "plot_bgcolor": "#E5ECF6",
          "polar": {
           "angularaxis": {
            "gridcolor": "white",
            "linecolor": "white",
            "ticks": ""
           },
           "bgcolor": "#E5ECF6",
           "radialaxis": {
            "gridcolor": "white",
            "linecolor": "white",
            "ticks": ""
           }
          },
          "scene": {
           "xaxis": {
            "backgroundcolor": "#E5ECF6",
            "gridcolor": "white",
            "gridwidth": 2,
            "linecolor": "white",
            "showbackground": true,
            "ticks": "",
            "zerolinecolor": "white"
           },
           "yaxis": {
            "backgroundcolor": "#E5ECF6",
            "gridcolor": "white",
            "gridwidth": 2,
            "linecolor": "white",
            "showbackground": true,
            "ticks": "",
            "zerolinecolor": "white"
           },
           "zaxis": {
            "backgroundcolor": "#E5ECF6",
            "gridcolor": "white",
            "gridwidth": 2,
            "linecolor": "white",
            "showbackground": true,
            "ticks": "",
            "zerolinecolor": "white"
           }
          },
          "shapedefaults": {
           "line": {
            "color": "#2a3f5f"
           }
          },
          "ternary": {
           "aaxis": {
            "gridcolor": "white",
            "linecolor": "white",
            "ticks": ""
           },
           "baxis": {
            "gridcolor": "white",
            "linecolor": "white",
            "ticks": ""
           },
           "bgcolor": "#E5ECF6",
           "caxis": {
            "gridcolor": "white",
            "linecolor": "white",
            "ticks": ""
           }
          },
          "title": {
           "x": 0.05
          },
          "xaxis": {
           "automargin": true,
           "gridcolor": "white",
           "linecolor": "white",
           "ticks": "",
           "title": {
            "standoff": 15
           },
           "zerolinecolor": "white",
           "zerolinewidth": 2
          },
          "yaxis": {
           "automargin": true,
           "gridcolor": "white",
           "linecolor": "white",
           "ticks": "",
           "title": {
            "standoff": 15
           },
           "zerolinecolor": "white",
           "zerolinewidth": 2
          }
         }
        },
        "xaxis": {
         "anchor": "y",
         "domain": [
          0,
          0.1183673469387755
         ],
         "title": {
          "text": "Agriculture"
         }
        },
        "xaxis2": {
         "anchor": "y2",
         "domain": [
          0.14693877551020407,
          0.26530612244897955
         ],
         "title": {
          "text": "Transformation"
         }
        },
        "xaxis3": {
         "anchor": "y3",
         "domain": [
          0.29387755102040813,
          0.4122448979591836
         ],
         "title": {
          "text": "Emballage"
         }
        },
        "xaxis4": {
         "anchor": "y4",
         "domain": [
          0.4408163265306122,
          0.5591836734693877
         ],
         "title": {
          "text": "Transport"
         }
        },
        "xaxis5": {
         "anchor": "y5",
         "domain": [
          0.5877551020408163,
          0.7061224489795918
         ],
         "title": {
          "text": "Supermarché et distribution"
         }
        },
        "xaxis6": {
         "anchor": "y6",
         "domain": [
          0.7346938775510204,
          0.8530612244897959
         ],
         "title": {
          "text": "Consommation"
         }
        },
        "xaxis7": {
         "anchor": "y7",
         "domain": [
          0.8816326530612244,
          0.9999999999999999
         ],
         "title": {
          "text": "Total"
         }
        },
        "yaxis": {
         "anchor": "x",
         "domain": [
          0,
          1
         ],
         "title": {
          "text": "kg CO2 eq/kg de produit"
         }
        },
        "yaxis2": {
         "anchor": "x2",
         "domain": [
          0,
          1
         ],
         "matches": "y",
         "showticklabels": false
        },
        "yaxis3": {
         "anchor": "x3",
         "domain": [
          0,
          1
         ],
         "matches": "y",
         "showticklabels": false
        },
        "yaxis4": {
         "anchor": "x4",
         "domain": [
          0,
          1
         ],
         "matches": "y",
         "showticklabels": false
        },
        "yaxis5": {
         "anchor": "x5",
         "domain": [
          0,
          1
         ],
         "matches": "y",
         "showticklabels": false
        },
        "yaxis6": {
         "anchor": "x6",
         "domain": [
          0,
          1
         ],
         "matches": "y",
         "showticklabels": false
        },
        "yaxis7": {
         "anchor": "x7",
         "domain": [
          0,
          1
         ],
         "matches": "y",
         "showticklabels": false
        }
       }
      }
     },
     "metadata": {},
     "output_type": "display_data"
    }
   ],
   "source": [
    "couleur = px.colors.qualitative.Dark24[:df_zoom_vop[\"Groupe d'aliment\"].nunique()]\n",
    "\n",
    "\n",
    "fig = make_subplots(rows=1, cols=7, shared_yaxes=True)\n",
    "for i, etape in enumerate( df_zoom_vop[\"etape\"].unique()):\n",
    "    sub_df = df_zoom_vop[df_zoom_vop[\"etape\"] == etape]\n",
    "    graph = go.Bar(x=sub_df[\"Groupe d'aliment\"], y=sub_df[\"value\"], name=etape, marker=dict(color=couleur)) \n",
    "    fig.add_trace(graph, row=1, col=i+1)\n",
    "\n",
    "\n",
    "# Set x-axis label for each subplot\n",
    "    fig.update_xaxes(title_text=etape, row=1, col=i+1)\n",
    "\n",
    "# Add legend for each color with ingredient name\n",
    "for aliment in df_zoom_vop[\"Groupe d'aliment\"].unique():\n",
    "    fig.add_trace(go.Scatter(x=[None], y=[None], mode='markers', marker=dict(color=couleur, size=10, symbol='square'), showlegend=True, legendgroup=aliment, name=aliment), row=1, col=1)\n",
    "\n",
    "    # Set y-axis label for the middle subplot\n",
    "fig.update_yaxes(title_text=\"kg CO2 eq/kg de produit\", row=1, col=1)\n",
    "\n",
    "# Hide column name from the legend\n",
    "fig.update_traces(showlegend=False, selector=dict(type='bar'))\n",
    "\n",
    "fig.show()"
   ]
  },
  {
   "cell_type": "code",
   "execution_count": 105,
   "metadata": {},
   "outputs": [
    {
     "data": {
      "application/vnd.plotly.v1+json": {
       "config": {
        "plotlyServerURL": "https://plot.ly"
       },
       "data": [
        {
         "marker": {
          "color": [
           "#2E91E5"
          ]
         },
         "name": "Agriculture",
         "showlegend": false,
         "type": "bar",
         "x": [
          "viandes crues"
         ],
         "xaxis": "x",
         "y": [
          15.446146652941176
         ],
         "yaxis": "y"
        },
        {
         "marker": {
          "color": [
           "#2E91E5"
          ]
         },
         "name": "Transformation",
         "showlegend": false,
         "type": "bar",
         "x": [
          "viandes crues"
         ],
         "xaxis": "x2",
         "y": [
          0.44824501186764704
         ],
         "yaxis": "y2"
        },
        {
         "marker": {
          "color": [
           "#2E91E5"
          ]
         },
         "name": "Emballage",
         "showlegend": false,
         "type": "bar",
         "x": [
          "viandes crues"
         ],
         "xaxis": "x3",
         "y": [
          0.32770627786764706
         ],
         "yaxis": "y3"
        },
        {
         "marker": {
          "color": [
           "#2E91E5"
          ]
         },
         "name": "Transport",
         "showlegend": false,
         "type": "bar",
         "x": [
          "viandes crues"
         ],
         "xaxis": "x4",
         "y": [
          0.23305041404411764
         ],
         "yaxis": "y4"
        },
        {
         "marker": {
          "color": [
           "#2E91E5"
          ]
         },
         "name": "Supermarché et distribution",
         "showlegend": false,
         "type": "bar",
         "x": [
          "viandes crues"
         ],
         "xaxis": "x5",
         "y": [
          0.040732413801470586
         ],
         "yaxis": "y5"
        },
        {
         "marker": {
          "color": [
           "#2E91E5"
          ]
         },
         "name": "Consommation",
         "showlegend": false,
         "type": "bar",
         "x": [
          "viandes crues"
         ],
         "xaxis": "x6",
         "y": [
          0.039899668987500005
         ],
         "yaxis": "y6"
        },
        {
         "marker": {
          "color": [
           "#2E91E5"
          ]
         },
         "name": "Total",
         "showlegend": false,
         "type": "bar",
         "x": [
          "viandes crues"
         ],
         "xaxis": "x7",
         "y": [
          16.53578043950956
         ],
         "yaxis": "y7"
        },
        {
         "legendgroup": "viandes crues",
         "marker": {
          "color": [
           "#2E91E5"
          ],
          "size": 10,
          "symbol": "square"
         },
         "mode": "markers",
         "name": "viandes crues",
         "showlegend": true,
         "type": "scatter",
         "x": [
          null
         ],
         "xaxis": "x",
         "y": [
          null
         ],
         "yaxis": "y"
        }
       ],
       "layout": {
        "template": {
         "data": {
          "bar": [
           {
            "error_x": {
             "color": "#2a3f5f"
            },
            "error_y": {
             "color": "#2a3f5f"
            },
            "marker": {
             "line": {
              "color": "#E5ECF6",
              "width": 0.5
             },
             "pattern": {
              "fillmode": "overlay",
              "size": 10,
              "solidity": 0.2
             }
            },
            "type": "bar"
           }
          ],
          "barpolar": [
           {
            "marker": {
             "line": {
              "color": "#E5ECF6",
              "width": 0.5
             },
             "pattern": {
              "fillmode": "overlay",
              "size": 10,
              "solidity": 0.2
             }
            },
            "type": "barpolar"
           }
          ],
          "carpet": [
           {
            "aaxis": {
             "endlinecolor": "#2a3f5f",
             "gridcolor": "white",
             "linecolor": "white",
             "minorgridcolor": "white",
             "startlinecolor": "#2a3f5f"
            },
            "baxis": {
             "endlinecolor": "#2a3f5f",
             "gridcolor": "white",
             "linecolor": "white",
             "minorgridcolor": "white",
             "startlinecolor": "#2a3f5f"
            },
            "type": "carpet"
           }
          ],
          "choropleth": [
           {
            "colorbar": {
             "outlinewidth": 0,
             "ticks": ""
            },
            "type": "choropleth"
           }
          ],
          "contour": [
           {
            "colorbar": {
             "outlinewidth": 0,
             "ticks": ""
            },
            "colorscale": [
             [
              0,
              "#0d0887"
             ],
             [
              0.1111111111111111,
              "#46039f"
             ],
             [
              0.2222222222222222,
              "#7201a8"
             ],
             [
              0.3333333333333333,
              "#9c179e"
             ],
             [
              0.4444444444444444,
              "#bd3786"
             ],
             [
              0.5555555555555556,
              "#d8576b"
             ],
             [
              0.6666666666666666,
              "#ed7953"
             ],
             [
              0.7777777777777778,
              "#fb9f3a"
             ],
             [
              0.8888888888888888,
              "#fdca26"
             ],
             [
              1,
              "#f0f921"
             ]
            ],
            "type": "contour"
           }
          ],
          "contourcarpet": [
           {
            "colorbar": {
             "outlinewidth": 0,
             "ticks": ""
            },
            "type": "contourcarpet"
           }
          ],
          "heatmap": [
           {
            "colorbar": {
             "outlinewidth": 0,
             "ticks": ""
            },
            "colorscale": [
             [
              0,
              "#0d0887"
             ],
             [
              0.1111111111111111,
              "#46039f"
             ],
             [
              0.2222222222222222,
              "#7201a8"
             ],
             [
              0.3333333333333333,
              "#9c179e"
             ],
             [
              0.4444444444444444,
              "#bd3786"
             ],
             [
              0.5555555555555556,
              "#d8576b"
             ],
             [
              0.6666666666666666,
              "#ed7953"
             ],
             [
              0.7777777777777778,
              "#fb9f3a"
             ],
             [
              0.8888888888888888,
              "#fdca26"
             ],
             [
              1,
              "#f0f921"
             ]
            ],
            "type": "heatmap"
           }
          ],
          "heatmapgl": [
           {
            "colorbar": {
             "outlinewidth": 0,
             "ticks": ""
            },
            "colorscale": [
             [
              0,
              "#0d0887"
             ],
             [
              0.1111111111111111,
              "#46039f"
             ],
             [
              0.2222222222222222,
              "#7201a8"
             ],
             [
              0.3333333333333333,
              "#9c179e"
             ],
             [
              0.4444444444444444,
              "#bd3786"
             ],
             [
              0.5555555555555556,
              "#d8576b"
             ],
             [
              0.6666666666666666,
              "#ed7953"
             ],
             [
              0.7777777777777778,
              "#fb9f3a"
             ],
             [
              0.8888888888888888,
              "#fdca26"
             ],
             [
              1,
              "#f0f921"
             ]
            ],
            "type": "heatmapgl"
           }
          ],
          "histogram": [
           {
            "marker": {
             "pattern": {
              "fillmode": "overlay",
              "size": 10,
              "solidity": 0.2
             }
            },
            "type": "histogram"
           }
          ],
          "histogram2d": [
           {
            "colorbar": {
             "outlinewidth": 0,
             "ticks": ""
            },
            "colorscale": [
             [
              0,
              "#0d0887"
             ],
             [
              0.1111111111111111,
              "#46039f"
             ],
             [
              0.2222222222222222,
              "#7201a8"
             ],
             [
              0.3333333333333333,
              "#9c179e"
             ],
             [
              0.4444444444444444,
              "#bd3786"
             ],
             [
              0.5555555555555556,
              "#d8576b"
             ],
             [
              0.6666666666666666,
              "#ed7953"
             ],
             [
              0.7777777777777778,
              "#fb9f3a"
             ],
             [
              0.8888888888888888,
              "#fdca26"
             ],
             [
              1,
              "#f0f921"
             ]
            ],
            "type": "histogram2d"
           }
          ],
          "histogram2dcontour": [
           {
            "colorbar": {
             "outlinewidth": 0,
             "ticks": ""
            },
            "colorscale": [
             [
              0,
              "#0d0887"
             ],
             [
              0.1111111111111111,
              "#46039f"
             ],
             [
              0.2222222222222222,
              "#7201a8"
             ],
             [
              0.3333333333333333,
              "#9c179e"
             ],
             [
              0.4444444444444444,
              "#bd3786"
             ],
             [
              0.5555555555555556,
              "#d8576b"
             ],
             [
              0.6666666666666666,
              "#ed7953"
             ],
             [
              0.7777777777777778,
              "#fb9f3a"
             ],
             [
              0.8888888888888888,
              "#fdca26"
             ],
             [
              1,
              "#f0f921"
             ]
            ],
            "type": "histogram2dcontour"
           }
          ],
          "mesh3d": [
           {
            "colorbar": {
             "outlinewidth": 0,
             "ticks": ""
            },
            "type": "mesh3d"
           }
          ],
          "parcoords": [
           {
            "line": {
             "colorbar": {
              "outlinewidth": 0,
              "ticks": ""
             }
            },
            "type": "parcoords"
           }
          ],
          "pie": [
           {
            "automargin": true,
            "type": "pie"
           }
          ],
          "scatter": [
           {
            "fillpattern": {
             "fillmode": "overlay",
             "size": 10,
             "solidity": 0.2
            },
            "type": "scatter"
           }
          ],
          "scatter3d": [
           {
            "line": {
             "colorbar": {
              "outlinewidth": 0,
              "ticks": ""
             }
            },
            "marker": {
             "colorbar": {
              "outlinewidth": 0,
              "ticks": ""
             }
            },
            "type": "scatter3d"
           }
          ],
          "scattercarpet": [
           {
            "marker": {
             "colorbar": {
              "outlinewidth": 0,
              "ticks": ""
             }
            },
            "type": "scattercarpet"
           }
          ],
          "scattergeo": [
           {
            "marker": {
             "colorbar": {
              "outlinewidth": 0,
              "ticks": ""
             }
            },
            "type": "scattergeo"
           }
          ],
          "scattergl": [
           {
            "marker": {
             "colorbar": {
              "outlinewidth": 0,
              "ticks": ""
             }
            },
            "type": "scattergl"
           }
          ],
          "scattermapbox": [
           {
            "marker": {
             "colorbar": {
              "outlinewidth": 0,
              "ticks": ""
             }
            },
            "type": "scattermapbox"
           }
          ],
          "scatterpolar": [
           {
            "marker": {
             "colorbar": {
              "outlinewidth": 0,
              "ticks": ""
             }
            },
            "type": "scatterpolar"
           }
          ],
          "scatterpolargl": [
           {
            "marker": {
             "colorbar": {
              "outlinewidth": 0,
              "ticks": ""
             }
            },
            "type": "scatterpolargl"
           }
          ],
          "scatterternary": [
           {
            "marker": {
             "colorbar": {
              "outlinewidth": 0,
              "ticks": ""
             }
            },
            "type": "scatterternary"
           }
          ],
          "surface": [
           {
            "colorbar": {
             "outlinewidth": 0,
             "ticks": ""
            },
            "colorscale": [
             [
              0,
              "#0d0887"
             ],
             [
              0.1111111111111111,
              "#46039f"
             ],
             [
              0.2222222222222222,
              "#7201a8"
             ],
             [
              0.3333333333333333,
              "#9c179e"
             ],
             [
              0.4444444444444444,
              "#bd3786"
             ],
             [
              0.5555555555555556,
              "#d8576b"
             ],
             [
              0.6666666666666666,
              "#ed7953"
             ],
             [
              0.7777777777777778,
              "#fb9f3a"
             ],
             [
              0.8888888888888888,
              "#fdca26"
             ],
             [
              1,
              "#f0f921"
             ]
            ],
            "type": "surface"
           }
          ],
          "table": [
           {
            "cells": {
             "fill": {
              "color": "#EBF0F8"
             },
             "line": {
              "color": "white"
             }
            },
            "header": {
             "fill": {
              "color": "#C8D4E3"
             },
             "line": {
              "color": "white"
             }
            },
            "type": "table"
           }
          ]
         },
         "layout": {
          "annotationdefaults": {
           "arrowcolor": "#2a3f5f",
           "arrowhead": 0,
           "arrowwidth": 1
          },
          "autotypenumbers": "strict",
          "coloraxis": {
           "colorbar": {
            "outlinewidth": 0,
            "ticks": ""
           }
          },
          "colorscale": {
           "diverging": [
            [
             0,
             "#8e0152"
            ],
            [
             0.1,
             "#c51b7d"
            ],
            [
             0.2,
             "#de77ae"
            ],
            [
             0.3,
             "#f1b6da"
            ],
            [
             0.4,
             "#fde0ef"
            ],
            [
             0.5,
             "#f7f7f7"
            ],
            [
             0.6,
             "#e6f5d0"
            ],
            [
             0.7,
             "#b8e186"
            ],
            [
             0.8,
             "#7fbc41"
            ],
            [
             0.9,
             "#4d9221"
            ],
            [
             1,
             "#276419"
            ]
           ],
           "sequential": [
            [
             0,
             "#0d0887"
            ],
            [
             0.1111111111111111,
             "#46039f"
            ],
            [
             0.2222222222222222,
             "#7201a8"
            ],
            [
             0.3333333333333333,
             "#9c179e"
            ],
            [
             0.4444444444444444,
             "#bd3786"
            ],
            [
             0.5555555555555556,
             "#d8576b"
            ],
            [
             0.6666666666666666,
             "#ed7953"
            ],
            [
             0.7777777777777778,
             "#fb9f3a"
            ],
            [
             0.8888888888888888,
             "#fdca26"
            ],
            [
             1,
             "#f0f921"
            ]
           ],
           "sequentialminus": [
            [
             0,
             "#0d0887"
            ],
            [
             0.1111111111111111,
             "#46039f"
            ],
            [
             0.2222222222222222,
             "#7201a8"
            ],
            [
             0.3333333333333333,
             "#9c179e"
            ],
            [
             0.4444444444444444,
             "#bd3786"
            ],
            [
             0.5555555555555556,
             "#d8576b"
            ],
            [
             0.6666666666666666,
             "#ed7953"
            ],
            [
             0.7777777777777778,
             "#fb9f3a"
            ],
            [
             0.8888888888888888,
             "#fdca26"
            ],
            [
             1,
             "#f0f921"
            ]
           ]
          },
          "colorway": [
           "#636efa",
           "#EF553B",
           "#00cc96",
           "#ab63fa",
           "#FFA15A",
           "#19d3f3",
           "#FF6692",
           "#B6E880",
           "#FF97FF",
           "#FECB52"
          ],
          "font": {
           "color": "#2a3f5f"
          },
          "geo": {
           "bgcolor": "white",
           "lakecolor": "white",
           "landcolor": "#E5ECF6",
           "showlakes": true,
           "showland": true,
           "subunitcolor": "white"
          },
          "hoverlabel": {
           "align": "left"
          },
          "hovermode": "closest",
          "mapbox": {
           "style": "light"
          },
          "paper_bgcolor": "white",
          "plot_bgcolor": "#E5ECF6",
          "polar": {
           "angularaxis": {
            "gridcolor": "white",
            "linecolor": "white",
            "ticks": ""
           },
           "bgcolor": "#E5ECF6",
           "radialaxis": {
            "gridcolor": "white",
            "linecolor": "white",
            "ticks": ""
           }
          },
          "scene": {
           "xaxis": {
            "backgroundcolor": "#E5ECF6",
            "gridcolor": "white",
            "gridwidth": 2,
            "linecolor": "white",
            "showbackground": true,
            "ticks": "",
            "zerolinecolor": "white"
           },
           "yaxis": {
            "backgroundcolor": "#E5ECF6",
            "gridcolor": "white",
            "gridwidth": 2,
            "linecolor": "white",
            "showbackground": true,
            "ticks": "",
            "zerolinecolor": "white"
           },
           "zaxis": {
            "backgroundcolor": "#E5ECF6",
            "gridcolor": "white",
            "gridwidth": 2,
            "linecolor": "white",
            "showbackground": true,
            "ticks": "",
            "zerolinecolor": "white"
           }
          },
          "shapedefaults": {
           "line": {
            "color": "#2a3f5f"
           }
          },
          "ternary": {
           "aaxis": {
            "gridcolor": "white",
            "linecolor": "white",
            "ticks": ""
           },
           "baxis": {
            "gridcolor": "white",
            "linecolor": "white",
            "ticks": ""
           },
           "bgcolor": "#E5ECF6",
           "caxis": {
            "gridcolor": "white",
            "linecolor": "white",
            "ticks": ""
           }
          },
          "title": {
           "x": 0.05
          },
          "xaxis": {
           "automargin": true,
           "gridcolor": "white",
           "linecolor": "white",
           "ticks": "",
           "title": {
            "standoff": 15
           },
           "zerolinecolor": "white",
           "zerolinewidth": 2
          },
          "yaxis": {
           "automargin": true,
           "gridcolor": "white",
           "linecolor": "white",
           "ticks": "",
           "title": {
            "standoff": 15
           },
           "zerolinecolor": "white",
           "zerolinewidth": 2
          }
         }
        },
        "xaxis": {
         "anchor": "y",
         "domain": [
          0,
          0.1183673469387755
         ],
         "title": {
          "text": "Agriculture"
         }
        },
        "xaxis2": {
         "anchor": "y2",
         "domain": [
          0.14693877551020407,
          0.26530612244897955
         ],
         "title": {
          "text": "Transformation"
         }
        },
        "xaxis3": {
         "anchor": "y3",
         "domain": [
          0.29387755102040813,
          0.4122448979591836
         ],
         "title": {
          "text": "Emballage"
         }
        },
        "xaxis4": {
         "anchor": "y4",
         "domain": [
          0.4408163265306122,
          0.5591836734693877
         ],
         "title": {
          "text": "Transport"
         }
        },
        "xaxis5": {
         "anchor": "y5",
         "domain": [
          0.5877551020408163,
          0.7061224489795918
         ],
         "title": {
          "text": "Supermarché et distribution"
         }
        },
        "xaxis6": {
         "anchor": "y6",
         "domain": [
          0.7346938775510204,
          0.8530612244897959
         ],
         "title": {
          "text": "Consommation"
         }
        },
        "xaxis7": {
         "anchor": "y7",
         "domain": [
          0.8816326530612244,
          0.9999999999999999
         ],
         "title": {
          "text": "Total"
         }
        },
        "yaxis": {
         "anchor": "x",
         "domain": [
          0,
          1
         ],
         "title": {
          "text": "kg CO2 eq/kg de produit"
         }
        },
        "yaxis2": {
         "anchor": "x2",
         "domain": [
          0,
          1
         ],
         "matches": "y",
         "showticklabels": false
        },
        "yaxis3": {
         "anchor": "x3",
         "domain": [
          0,
          1
         ],
         "matches": "y",
         "showticklabels": false
        },
        "yaxis4": {
         "anchor": "x4",
         "domain": [
          0,
          1
         ],
         "matches": "y",
         "showticklabels": false
        },
        "yaxis5": {
         "anchor": "x5",
         "domain": [
          0,
          1
         ],
         "matches": "y",
         "showticklabels": false
        },
        "yaxis6": {
         "anchor": "x6",
         "domain": [
          0,
          1
         ],
         "matches": "y",
         "showticklabels": false
        },
        "yaxis7": {
         "anchor": "x7",
         "domain": [
          0,
          1
         ],
         "matches": "y",
         "showticklabels": false
        }
       }
      }
     },
     "metadata": {},
     "output_type": "display_data"
    }
   ],
   "source": [
    "couleur = px.colors.qualitative.Dark24[:df_groupe[\"Sous-groupe d'aliment\"].nunique()]\n",
    "\n",
    "\n",
    "fig = make_subplots(rows=1, cols=7, shared_yaxes=True)\n",
    "for i, etape in enumerate( df_groupe[\"etape\"].unique()):\n",
    "    sub_df = df_groupe[df_groupe[\"etape\"] == etape]\n",
    "    graph = go.Bar(x=sub_df[\"Sous-groupe d'aliment\"], y=sub_df[\"value\"], name=etape, marker=dict(color=couleur)) \n",
    "    fig.add_trace(graph, row=1, col=i+1)\n",
    "\n",
    "\n",
    "# Set x-axis label for each subplot\n",
    "    fig.update_xaxes(title_text=etape, row=1, col=i+1)\n",
    "\n",
    "# Add legend for each color with ingredient name\n",
    "for aliment in df_groupe[\"Sous-groupe d'aliment\"].unique():\n",
    "    fig.add_trace(go.Scatter(x=[None], y=[None], mode='markers', marker=dict(color=couleur, size=10, symbol='square'), showlegend=True, legendgroup=aliment, name=aliment), row=1, col=1)\n",
    "\n",
    "    # Set y-axis label for the middle subplot\n",
    "fig.update_yaxes(title_text=\"kg CO2 eq/kg de produit\", row=1, col=1)\n",
    "\n",
    "# Hide column name from the legend\n",
    "fig.update_traces(showlegend=False, selector=dict(type='bar'))\n",
    "\n",
    "fig.show()"
   ]
  }
 ],
 "metadata": {
  "kernelspec": {
   "display_name": "Cook",
   "language": "python",
   "name": "python3"
  },
  "language_info": {
   "codemirror_mode": {
    "name": "ipython",
    "version": 3
   },
   "file_extension": ".py",
   "mimetype": "text/x-python",
   "name": "python",
   "nbconvert_exporter": "python",
   "pygments_lexer": "ipython3",
   "version": "3.11.3"
  },
  "orig_nbformat": 4
 },
 "nbformat": 4,
 "nbformat_minor": 2
}

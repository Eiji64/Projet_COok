{
 "cells": [
  {
   "attachments": {},
   "cell_type": "markdown",
   "metadata": {},
   "source": [
    "## Import des Bibliothèques"
   ]
  },
  {
   "cell_type": "code",
   "execution_count": null,
   "metadata": {},
   "outputs": [],
   "source": [
    "import requests\n",
    "from bs4 import BeautifulSoup\n",
    "from urllib.parse import quote"
   ]
  },
  {
   "attachments": {},
   "cell_type": "markdown",
   "metadata": {},
   "source": [
    "Je stocke dans une variable le nom de la recette que je recherche"
   ]
  },
  {
   "cell_type": "code",
   "execution_count": null,
   "metadata": {},
   "outputs": [],
   "source": [
    "\n",
    "recherche_recette = input(\" Veuillez saisir le nom d'une recette :\")\n"
   ]
  },
  {
   "attachments": {},
   "cell_type": "markdown",
   "metadata": {},
   "source": [
    "Je fais une requete sur la liste de recettes"
   ]
  },
  {
   "cell_type": "code",
   "execution_count": null,
   "metadata": {},
   "outputs": [],
   "source": [
    "endpoint = \"https://www.marmiton.org/recettes/recherche.aspx?aqt=\"+ quote(recherche_recette)\n",
    "response = requests.get(endpoint)\n",
    "response.status_code"
   ]
  },
  {
   "cell_type": "code",
   "execution_count": null,
   "metadata": {},
   "outputs": [],
   "source": [
    "print(endpoint)"
   ]
  },
  {
   "cell_type": "code",
   "execution_count": null,
   "metadata": {},
   "outputs": [],
   "source": [
    "html_content = response.text\n",
    "html_content"
   ]
  },
  {
   "cell_type": "code",
   "execution_count": null,
   "metadata": {},
   "outputs": [],
   "source": [
    "soup = BeautifulSoup(html_content, \"html.parser\")\n",
    "soup"
   ]
  },
  {
   "cell_type": "code",
   "execution_count": null,
   "metadata": {},
   "outputs": [],
   "source": [
    "list_de_tous_les_liens = soup.find_all(\"a\")\n",
    "print(len(list_de_tous_les_liens))\n",
    "list_de_tous_les_liens"
   ]
  },
  {
   "cell_type": "code",
   "execution_count": null,
   "metadata": {},
   "outputs": [],
   "source": [
    "\n",
    "\n",
    "lien_class_specifique = soup.find_all(\"a\", class_=\"MRTN__sc-1gofnyi-2 gACiYG\")\n",
    "print(len(lien_class_specifique))\n",
    "lien_class_specifique"
   ]
  },
  {
   "cell_type": "code",
   "execution_count": 62,
   "metadata": {},
   "outputs": [],
   "source": [
    "for lien in lien_class_specifique:\n",
    "    pages_url =\"https://www.marmiton.org\"+ lien['href']\n",
    "\n",
    "    print(pages_url)\n",
    "    \n",
    "    "
   ]
  },
  {
   "cell_type": "code",
   "execution_count": 70,
   "metadata": {},
   "outputs": [
    {
     "name": "stdout",
     "output_type": "stream",
     "text": [
      "1 : moules-farcies-au-beurre-d-escargot_20891\n",
      "2 : moules-farcies-a-la-setoise-a-la-facon-d-armande_53366\n",
      "3 : moules-farcies-au-beurre-d-amandes_27908\n",
      "4 : moules-farcies-de-ma-maman_84005\n",
      "5 : moules-farcies-en-persillade-par-laurent-mariotte_528599\n",
      "6 : moules-farcies-du-marais-poitevin_28689\n",
      "7 : moules-farcies-facon-mona_172107\n",
      "8 : moules-farcies-facon-celine_67578\n",
      "9 : moules-farcies-d-hilda_50077\n",
      "10 : moules-farcies-a-l-italienne_27375\n",
      "11 : moules-farcies-aux-epinards-sauce-curry_27163\n",
      "12 : moules-farcies-au-beurre-de-cerfeuil_230704\n"
     ]
    },
    {
     "data": {
      "text/plain": [
       "['1\\xa0bouquet de persil ',\n",
       " '10 tomates cerise ',\n",
       " \"1⁄2\\xa0verre d'huile d'olive \",\n",
       " ' sel ',\n",
       " ' poivre ',\n",
       " '1\\xa0kg de moules ',\n",
       " \"10\\xa0gousses d'ail \",\n",
       " '200\\xa0g de chapelure ']"
      ]
     },
     "execution_count": 70,
     "metadata": {},
     "output_type": "execute_result"
    }
   ],
   "source": [
    "import requests\n",
    "from bs4 import BeautifulSoup\n",
    "from urllib.parse import quote\n",
    "\n",
    "def quelle_recette (recherche_recette) :\n",
    "    recherche_recette = input(\" Veuillez saisir le nom d'une recette :\")\n",
    "    endpoint = \"https://www.marmiton.org/recettes/recherche.aspx?aqt=\"+ quote(recherche_recette)\n",
    "    response = requests.get(endpoint)\n",
    "    response.status_code\n",
    "    html_content = response.text\n",
    "    soup = BeautifulSoup(html_content, \"html.parser\")\n",
    "    liste = soup.find_all(\"a\", class_=\"MRTN__sc-1gofnyi-2 gACiYG\")\n",
    "\n",
    "    liens_recette_specifique = []\n",
    "    for recette in liste:\n",
    "        liens_recette_specifique.append(recette['href'])\n",
    "    return liens_recette_specifique\n",
    "\n",
    "def retour_liste_ingredients(liens_recette_specifique, numero_recette):\n",
    "    lien_recette = liens_recette_specifique[numero_recette-1]\n",
    "    url_recette = f\"https://www.marmiton.org{lien_recette}\"\n",
    "    rep_recette = requests.get(url_recette)\n",
    "\n",
    "    soup = BeautifulSoup(rep_recette.text, \"html.parser\")\n",
    "\n",
    "    liste_span = soup.find_all(\"span\", class_=\"SHRD__sc-10plygc-0 kWuxfa\")\n",
    "    liste_elements = []\n",
    "    for span in liste_span:\n",
    "        liste_elements.append(span.text)\n",
    "\n",
    "    liste_span = soup.find_all(\"span\", class_=\"SHRD__sc-10plygc-0 epviYI\")\n",
    "    liste_quantite = []\n",
    "    for span in liste_span:\n",
    "        liste_quantite.append(span.text)\n",
    "\n",
    "    liste_ingredients = []\n",
    "    for iteration in range(len(liste_elements)):\n",
    "        element = liste_elements[iteration]\n",
    "        quantite = liste_quantite[iteration]\n",
    "        ingredient = f\"{quantite} {element}\"\n",
    "        liste_ingredients.append(ingredient)\n",
    "    return liste_ingredients\n",
    "\n",
    "\n",
    "nom_recette = input(\"Quelle recette souhaitez-vous?\")\n",
    "liens_recette_specifique = quelle_recette(recherche_recette)\n",
    "for index,lien in enumerate(liens_recette_specifique):\n",
    "    texte = 'recette_'\n",
    "    debut = lien.find(texte)\n",
    "    fin = lien.find('.aspx')\n",
    "    print(f\"{index+1} : {lien[debut+len(texte):fin]}\")\n",
    "\n",
    "numero_recette = int(input(\"Quel numéro de recette souhaitez-vous?\"))\n",
    "liste_ingredients = retour_liste_ingredients(liens_recette_specifique, numero_recette)\n",
    "liste_ingredients\n",
    "    \n",
    "\n",
    "\n"
   ]
  }
 ],
 "metadata": {
  "kernelspec": {
   "display_name": "Cook",
   "language": "python",
   "name": "python3"
  },
  "language_info": {
   "codemirror_mode": {
    "name": "ipython",
    "version": 3
   },
   "file_extension": ".py",
   "mimetype": "text/x-python",
   "name": "python",
   "nbconvert_exporter": "python",
   "pygments_lexer": "ipython3",
   "version": "3.11.3"
  },
  "orig_nbformat": 4
 },
 "nbformat": 4,
 "nbformat_minor": 2
}
